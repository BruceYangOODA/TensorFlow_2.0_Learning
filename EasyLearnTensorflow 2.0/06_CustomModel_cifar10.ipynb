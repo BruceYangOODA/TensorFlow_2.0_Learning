{
 "cells": [
  {
   "cell_type": "markdown",
   "metadata": {},
   "source": [
    "### 06_CustomModel_cifar10"
   ]
  },
  {
   "cell_type": "code",
   "execution_count": 1,
   "metadata": {},
   "outputs": [
    {
     "name": "stdout",
     "output_type": "stream",
     "text": [
      "3.6.12 |Anaconda, Inc.| (default, Sep  9 2020, 00:29:25) [MSC v.1916 64 bit (AMD64)]\n",
      "2.0.0\n"
     ]
    }
   ],
   "source": [
    "import sys,os\n",
    "import tensorflow as tf\n",
    "from tensorflow import keras\n",
    "from tensorflow.keras import datasets,utils,layers,models\n",
    "from tensorflow.keras import optimizers,losses,metrics\n",
    "from tensorflow.keras import callbacks\n",
    "from IPython.display import Image\n",
    "import matplotlib.pyplot as plt\n",
    "\n",
    "import pandas as pd\n",
    "import numpy as np\n",
    "\n",
    "print(sys.version)\n",
    "print(tf.__version__)"
   ]
  },
  {
   "cell_type": "markdown",
   "metadata": {},
   "source": [
    "### Custom Layers"
   ]
  },
  {
   "cell_type": "code",
   "execution_count": 17,
   "metadata": {},
   "outputs": [],
   "source": [
    "class MyConv2D(layers.Layer):\n",
    "    def __init__(self, filters, kernel_size=(3,3), strides=(1,1), padding=\"VALID\", **kwargs):\n",
    "        super(MyConv2D, self).__init__(**kwargs)\n",
    "        self.filters = filters\n",
    "        self.kernel_size = kernel_size\n",
    "        self.strides = strides\n",
    "        self.padding = padding\n",
    "        \n",
    "    def build(self, input_shape):\n",
    "        kernel_h, kernel_w = self.kernel_size\n",
    "        input_dim = input_shape[-1]\n",
    "        self.w = self.add_weight(name=\"kernel\",\n",
    "                                 shape=(kernel_h, kernel_w, input_dim, self.filters),\n",
    "                                 initializer=\"glorot_uniform\",\n",
    "                                 trainable=True)\n",
    "        \n",
    "        self.b = self.add_weight(name=\"bias\",\n",
    "                                 shape=(self.filters,),\n",
    "                                 initializer=\"zeros\",\n",
    "                                 trainable=True)\n",
    "        \n",
    "    def call(self, inputs):\n",
    "        x = tf.nn.conv2d(inputs, self.w, self.strides, padding=self.padding)\n",
    "        x = tf.nn.bias_add(x, self.b)\n",
    "        x = tf.nn.relu(x)\n",
    "        return x\n",
    "            "
   ]
  },
  {
   "cell_type": "markdown",
   "metadata": {},
   "source": [
    "### Custom Loss"
   ]
  },
  {
   "cell_type": "code",
   "execution_count": 3,
   "metadata": {},
   "outputs": [],
   "source": [
    "def my_categorical_crossentropy(y_true, y_pred):\n",
    "    # x = tf.reduce_mean(-tf.reduce_sum(y_true * tf.log(y_pred), reduction_indices=[1]))\n",
    "    x = tf.nn.softmax_cross_entropy_with_logits(labels=y_true, logits=y_pred)\n",
    "    return x"
   ]
  },
  {
   "cell_type": "markdown",
   "metadata": {},
   "source": [
    "### Custom Metrics\n",
    "計算多少個樣本是正確分類的"
   ]
  },
  {
   "cell_type": "code",
   "execution_count": 20,
   "metadata": {},
   "outputs": [],
   "source": [
    "class MyCategoricalAccuracy(metrics.Metric):\n",
    "    def __init__(self, name=\"my_categorical_accuracy\", **kwargs):\n",
    "        super(MyCategoricalAccuracy, self).__init__(name=name, **kwargs)\n",
    "        # 記錄正確預測的數量\n",
    "        self.correct = self.add_weight(\"correct_numbers\", initializer=\"zeros\")\n",
    "        # 記錄全部資料的量數\n",
    "        self.total = self.add_weight(\"total_numbers\", initializer=\"zeros\")\n",
    "        \n",
    "    def update_state(self, y_true, y_pred, sample_weight=None):\n",
    "        # 輸入答案為One-hot編碼，所以取最大的數值為答案\n",
    "        y_true = tf.argmax(y_true, axis=-1)\n",
    "        # 取預測輸出最大的數值為預測結果\n",
    "        y_pred = tf.argmax(y_pred, axis=-1)\n",
    "        # 比較預測結果是否正確，正確會返回True(正確)，錯誤會返回False(錯誤)\n",
    "        values = tf.equal(y_true, y_pred)\n",
    "        # 轉為浮點數True(正確)=1.0，False(錯誤)=0.0\n",
    "        values = tf.cast(values, tf.float32)\n",
    "        # 將values所有數值相加就會等於正確預測的總數\n",
    "        values_sum = tf.reduce_sum(values)\n",
    "        # 計算這個Batch的資料數量\n",
    "        num_values = tf.cast(tf.size(values), tf.float32)\n",
    "        self.correct.assign_add(values_sum)  # 更新正確預測的總數\n",
    "        self.total.assign_add(num_values)  # 更新資料量的總數\n",
    "    def result(self):\n",
    "        return tf.math.divide_no_nan(self.correct, self.total)# 計算準確率\n",
    "    \n",
    "    def reset_state(self):\n",
    "         # 每一次Epoch結束後會重新初始化變數\n",
    "        self.correct.assign(0.)\n",
    "        self.total.assign(0.)"
   ]
  },
  {
   "cell_type": "markdown",
   "metadata": {},
   "source": [
    "### Custom Callbacks\n",
    "Example: 紀錄每一個batch的loss值。"
   ]
  },
  {
   "cell_type": "code",
   "execution_count": 6,
   "metadata": {},
   "outputs": [],
   "source": [
    "class SaveModel(keras.callbacks.Callback):\n",
    "    def __init__(self, weights_file, monitor=\"loss\", mode=\"min\", save_weights_only=False):\n",
    "        super(SaveModel, self).__init__()\n",
    "        self.weights_file = weights_file\n",
    "        self.monitor = monitor\n",
    "        self.mode = mode\n",
    "        self.save_weights_only = save_weights_only\n",
    "        if mode == \"min\":\n",
    "            self.best = np.Inf # 無窮大\n",
    "        else:\n",
    "            self.best = -np.Inf\n",
    "    \n",
    "    def save_model(self):\n",
    "        if self.save_weights_only:\n",
    "            self.model.save_weights(self.weights_file)\n",
    "        else:\n",
    "            self.model.save(self.weights_file)\n",
    "            \n",
    "    def on_epoch_end(self, epoch, logs=None):\n",
    "        monitor_value = logs.get(self.monitor)\n",
    "        if self.mode == \"min\" and monitor_value < self.best:\n",
    "            self.save_model()\n",
    "            self.best = monitor_value\n",
    "        elif self.mode == \"max\" and monitor_value > self.best:\n",
    "            self.save_model()\n",
    "            self.best = monitor_value"
   ]
  },
  {
   "cell_type": "markdown",
   "metadata": {},
   "source": [
    "### 實驗：比較Keras高階API和客製化API兩種網路訓練的結果"
   ]
  },
  {
   "cell_type": "code",
   "execution_count": 9,
   "metadata": {},
   "outputs": [
    {
     "name": "stdout",
     "output_type": "stream",
     "text": [
      "Model: \"model-1\"\n",
      "_________________________________________________________________\n",
      "Layer (type)                 Output Shape              Param #   \n",
      "=================================================================\n",
      "input_3 (InputLayer)         [(None, 32, 32, 3)]       0         \n",
      "_________________________________________________________________\n",
      "conv2d_6 (Conv2D)            (None, 30, 30, 32)        896       \n",
      "_________________________________________________________________\n",
      "max_pooling2d_2 (MaxPooling2 (None, 15, 15, 32)        0         \n",
      "_________________________________________________________________\n",
      "conv2d_7 (Conv2D)            (None, 13, 13, 64)        18496     \n",
      "_________________________________________________________________\n",
      "conv2d_8 (Conv2D)            (None, 11, 11, 128)       73856     \n",
      "_________________________________________________________________\n",
      "conv2d_9 (Conv2D)            (None, 9, 9, 64)          73792     \n",
      "_________________________________________________________________\n",
      "conv2d_10 (Conv2D)           (None, 7, 7, 32)          18464     \n",
      "_________________________________________________________________\n",
      "flatten_1 (Flatten)          (None, 1568)              0         \n",
      "_________________________________________________________________\n",
      "dense_2 (Dense)              (None, 32)                50208     \n",
      "_________________________________________________________________\n",
      "dropout_1 (Dropout)          (None, 32)                0         \n",
      "_________________________________________________________________\n",
      "dense_3 (Dense)              (None, 10)                330       \n",
      "=================================================================\n",
      "Total params: 236,042\n",
      "Trainable params: 236,042\n",
      "Non-trainable params: 0\n",
      "_________________________________________________________________\n"
     ]
    }
   ],
   "source": [
    "def build_CNN_model():\n",
    "    inputs = layers.Input(shape=(32,32,3))\n",
    "    x = layers.Conv2D(32, (3,3), activation=\"relu\", kernel_initializer=\"glorot_uniform\")(inputs)\n",
    "    x = layers.MaxPool2D()(x)\n",
    "    x = layers.Conv2D(64, (3,3), activation=\"relu\", kernel_initializer=\"glorot_uniform\")(x)\n",
    "    x = layers.Conv2D(128, (3,3), activation=\"relu\", kernel_initializer=\"glorot_uniform\")(x)\n",
    "    x = layers.Conv2D(64, (3,3), activation=\"relu\", kernel_initializer=\"glorot_uniform\")(x)\n",
    "    x = layers.Conv2D(32, (3,3), activation=\"relu\", kernel_initializer=\"glorot_uniform\")(x)\n",
    "    x = layers.Flatten()(x)\n",
    "    x = layers.Dense(32, activation=\"relu\")(x)\n",
    "    x = layers.Dropout(0.3)(x)\n",
    "    outputs = layers.Dense(10)(x)\n",
    "    model = models.Model(inputs, outputs, name=\"model-1\")\n",
    "    return model\n",
    "\n",
    "model_1 = build_CNN_model()\n",
    "model_1.summary()"
   ]
  },
  {
   "cell_type": "code",
   "execution_count": 12,
   "metadata": {},
   "outputs": [
    {
     "name": "stdout",
     "output_type": "stream",
     "text": [
      "(50000, 32, 32, 3) (50000, 1)\n",
      "(10000, 32, 32, 3) (10000, 1)\n",
      "(5000, 32, 32, 3) (5000, 10)\n",
      "(1000, 32, 32, 3) (1000, 10)\n"
     ]
    }
   ],
   "source": [
    "def data_normalize(train, test, scale=1):\n",
    "    (x_train,y_train) = train\n",
    "    (x_test,y_test) = test\n",
    "    train_nums = x_train.shape[0] // scale\n",
    "    test_nums = x_test.shape[0] // scale\n",
    "    x_train, y_train = x_train[:train_nums], y_train[:train_nums]\n",
    "    x_test, y_test = x_test[:test_nums], y_test[:test_nums]\n",
    "   \n",
    "    #x_train = parse_aug_fn(x_train)\n",
    "    #x_test = parse_aug_fn(x_test)\n",
    "    \n",
    "    x_train = x_train.astype(np.float32) / 255.\n",
    "    x_test = x_test.astype(np.float32) / 255. \n",
    "    #x_train = tf.reshape(x_train, shape=(-1,28*28))\n",
    "    #x_test = tf.reshape(x_test, shape=(-1,28*28))\n",
    "    y_train = utils.to_categorical(y_train).astype(np.int32)\n",
    "    y_test = utils.to_categorical(y_test).astype(np.int32)\n",
    "    print(x_train.shape,y_train.shape)\n",
    "    print(x_test.shape,y_test.shape)\n",
    "    \n",
    "    return (x_train,y_train),(x_test,y_test)\n",
    "\n",
    "(x_train,y_train),(x_test,y_test) = datasets.cifar10.load_data()\n",
    "print(x_train.shape,y_train.shape)\n",
    "print(x_test.shape,y_test.shape)\n",
    "(x_train,y_train),(x_test,y_test) = data_normalize((x_train,y_train),(x_test,y_test),scale=10)"
   ]
  },
  {
   "cell_type": "code",
   "execution_count": 13,
   "metadata": {},
   "outputs": [
    {
     "name": "stdout",
     "output_type": "stream",
     "text": [
      "Train on 4500 samples, validate on 500 samples\n",
      "Epoch 1/9\n",
      "4500/4500 - 6s - loss: 2.2435 - categorical_accuracy: 0.1484 - val_loss: 2.0857 - val_categorical_accuracy: 0.2200\n",
      "Epoch 2/9\n",
      "4500/4500 - 5s - loss: 2.1341 - categorical_accuracy: 0.2178 - val_loss: 1.9557 - val_categorical_accuracy: 0.2800\n",
      "Epoch 3/9\n",
      "4500/4500 - 5s - loss: 2.0063 - categorical_accuracy: 0.2591 - val_loss: 1.8585 - val_categorical_accuracy: 0.3180\n",
      "Epoch 4/9\n",
      "4500/4500 - 5s - loss: 1.9213 - categorical_accuracy: 0.3049 - val_loss: 1.7820 - val_categorical_accuracy: 0.3520\n",
      "Epoch 5/9\n",
      "4500/4500 - 6s - loss: 1.8254 - categorical_accuracy: 0.3364 - val_loss: 1.7321 - val_categorical_accuracy: 0.3740\n",
      "Epoch 6/9\n",
      "4500/4500 - 5s - loss: 1.7650 - categorical_accuracy: 0.3533 - val_loss: 1.7768 - val_categorical_accuracy: 0.3820\n",
      "Epoch 7/9\n",
      "4500/4500 - 6s - loss: 1.7098 - categorical_accuracy: 0.3691 - val_loss: 1.6648 - val_categorical_accuracy: 0.4160\n",
      "Epoch 8/9\n",
      "4500/4500 - 5s - loss: 1.6624 - categorical_accuracy: 0.3962 - val_loss: 1.7209 - val_categorical_accuracy: 0.3780\n",
      "Epoch 9/9\n",
      "4500/4500 - 6s - loss: 1.6121 - categorical_accuracy: 0.4102 - val_loss: 1.6158 - val_categorical_accuracy: 0.4280\n"
     ]
    }
   ],
   "source": [
    "log_dir = os.path.join(\"models\",\"lab6-logs\")\n",
    "model_cbk = keras.callbacks.TensorBoard(log_dir=log_dir)\n",
    "\n",
    "model_dir = os.path.join(\"models\",\"lab6-logs\")\n",
    "os.makedirs(model_dir, exist_ok=True)\n",
    "model_file = os.path.join(model_dir,\"save.h5\")\n",
    "model_mckp = keras.callbacks.ModelCheckpoint(model_file,\n",
    "                                             monitor=\"val_categorical_accuracy\",\n",
    "                                             mode=\"max\")\n",
    "\n",
    "model_1.compile(optimizers.Adam(),\n",
    "                loss=losses.CategoricalCrossentropy(from_logits=True),\n",
    "                metrics=[metrics.CategoricalAccuracy()])\n",
    "\n",
    "batch_size = 128\n",
    "epochs = 9\n",
    "history_1 = model_1.fit(x_train, y_train, epochs=epochs, batch_size=batch_size, validation_split=0.1, verbose=2, \n",
    "                        callbacks= [model_cbk, model_mckp])\n"
   ]
  },
  {
   "cell_type": "markdown",
   "metadata": {},
   "source": [
    "### 使用客自化API訓練網路模型\n",
    "* Custom Layer：將原本的Conv2d改成CustomConv2D。\n",
    "* Custom Loss：將原本的CategoricalCrossentropy改成custom_loss。\n",
    "* Custom Metrics：加入一個新的指標函數CatgoricalTruePositives。\n",
    "* Custom Callbacks：紀錄每一個batch的Loss值變化。"
   ]
  },
  {
   "cell_type": "code",
   "execution_count": 18,
   "metadata": {},
   "outputs": [
    {
     "name": "stdout",
     "output_type": "stream",
     "text": [
      "Model: \"model-2\"\n",
      "_________________________________________________________________\n",
      "Layer (type)                 Output Shape              Param #   \n",
      "=================================================================\n",
      "input_6 (InputLayer)         [(None, 32, 32, 3)]       0         \n",
      "_________________________________________________________________\n",
      "my_conv2d_1 (MyConv2D)       (None, 30, 30, 32)        896       \n",
      "_________________________________________________________________\n",
      "max_pooling2d_3 (MaxPooling2 (None, 15, 15, 32)        0         \n",
      "_________________________________________________________________\n",
      "my_conv2d_2 (MyConv2D)       (None, 13, 13, 64)        18496     \n",
      "_________________________________________________________________\n",
      "my_conv2d_3 (MyConv2D)       (None, 11, 11, 128)       73856     \n",
      "_________________________________________________________________\n",
      "my_conv2d_4 (MyConv2D)       (None, 9, 9, 64)          73792     \n",
      "_________________________________________________________________\n",
      "my_conv2d_5 (MyConv2D)       (None, 7, 7, 64)          36928     \n",
      "_________________________________________________________________\n",
      "flatten_2 (Flatten)          (None, 3136)              0         \n",
      "_________________________________________________________________\n",
      "dense_4 (Dense)              (None, 32)                100384    \n",
      "_________________________________________________________________\n",
      "dropout_2 (Dropout)          (None, 32)                0         \n",
      "_________________________________________________________________\n",
      "dense_5 (Dense)              (None, 10)                330       \n",
      "=================================================================\n",
      "Total params: 304,682\n",
      "Trainable params: 304,682\n",
      "Non-trainable params: 0\n",
      "_________________________________________________________________\n"
     ]
    }
   ],
   "source": [
    "def build_MY_model():\n",
    "    inputs = layers.Input(shape=(32,32,3))\n",
    "    x = MyConv2D(32, (3, 3))(inputs)\n",
    "    x = layers.MaxPool2D()(x)\n",
    "    x = MyConv2D(64, (3, 3))(x)\n",
    "    x = MyConv2D(128, (3, 3))(x)\n",
    "    x = MyConv2D(64, (3, 3))(x)\n",
    "    x = MyConv2D(64, (3, 3))(x)\n",
    "    x = layers.Flatten()(x)\n",
    "    x = layers.Dense(32, activation=\"relu\")(x)\n",
    "    x = layers.Dropout(0.3)(x)\n",
    "    outputs = layers.Dense(10)(x)\n",
    "    model = models.Model(inputs, outputs, name=\"model-2\")\n",
    "    return model\n",
    "\n",
    "model_2 = build_MY_model()\n",
    "model_2.summary()"
   ]
  },
  {
   "cell_type": "code",
   "execution_count": 21,
   "metadata": {},
   "outputs": [
    {
     "name": "stdout",
     "output_type": "stream",
     "text": [
      "Train on 4500 samples, validate on 500 samples\n",
      "WARNING:tensorflow:Model failed to serialize as JSON. Ignoring... Layers with arguments in `__init__` must override `get_config`.\n",
      "Epoch 1/9\n",
      "4500/4500 - 6s - loss: 2.2534 - my_categorical_accuracy: 0.1369 - val_loss: 2.1467 - val_my_categorical_accuracy: 0.2060\n",
      "Epoch 2/9\n",
      "4500/4500 - 5s - loss: 2.0367 - my_categorical_accuracy: 0.2182 - val_loss: 1.9863 - val_my_categorical_accuracy: 0.2260\n",
      "Epoch 3/9\n",
      "4500/4500 - 5s - loss: 1.9301 - my_categorical_accuracy: 0.2716 - val_loss: 1.8289 - val_my_categorical_accuracy: 0.3120\n",
      "Epoch 4/9\n",
      "4500/4500 - 5s - loss: 1.8422 - my_categorical_accuracy: 0.2996 - val_loss: 1.7520 - val_my_categorical_accuracy: 0.3600\n",
      "Epoch 5/9\n",
      "4500/4500 - 6s - loss: 1.7583 - my_categorical_accuracy: 0.3393 - val_loss: 1.6614 - val_my_categorical_accuracy: 0.4100\n",
      "Epoch 6/9\n",
      "4500/4500 - 6s - loss: 1.6911 - my_categorical_accuracy: 0.3729 - val_loss: 1.5759 - val_my_categorical_accuracy: 0.4620\n",
      "Epoch 7/9\n",
      "4500/4500 - 5s - loss: 1.6565 - my_categorical_accuracy: 0.3851 - val_loss: 1.5835 - val_my_categorical_accuracy: 0.4600\n",
      "Epoch 8/9\n",
      "4500/4500 - 5s - loss: 1.6212 - my_categorical_accuracy: 0.3942 - val_loss: 1.5422 - val_my_categorical_accuracy: 0.4360\n",
      "Epoch 9/9\n",
      "4500/4500 - 5s - loss: 1.5721 - my_categorical_accuracy: 0.4076 - val_loss: 1.4968 - val_my_categorical_accuracy: 0.4720\n"
     ]
    }
   ],
   "source": [
    "log_dir = os.path.join(\"models\",\"lab6-logs\")\n",
    "model_cbk = keras.callbacks.TensorBoard(log_dir=log_dir)\n",
    "\n",
    "model_dir = os.path.join(\"models\",\"lab6-logs\")\n",
    "os.makedirs(model_dir, exist_ok=True)\n",
    "model_file = os.path.join(model_dir,\"my_save.h5\")\n",
    "my_model_mckp = SaveModel(model_file,\n",
    "                          monitor=\"val_my_categorical_accuracy\",\n",
    "                          mode=\"max\",\n",
    "                          save_weights_only=True)\n",
    "\n",
    "model_2.compile(optimizers.Adam(),\n",
    "                loss=my_categorical_crossentropy,\n",
    "                metrics=[MyCategoricalAccuracy()])\n",
    "\n",
    "batch_size = 128\n",
    "epochs = 9\n",
    "history_2 = model_2.fit(x_train, y_train, epochs=epochs, batch_size=batch_size, validation_split=0.1, verbose=2, \n",
    "                        callbacks= [model_cbk, my_model_mckp])\n"
   ]
  },
  {
   "cell_type": "code",
   "execution_count": 22,
   "metadata": {
    "scrolled": true
   },
   "outputs": [
    {
     "name": "stdout",
     "output_type": "stream",
     "text": [
      "['loss', 'categorical_accuracy', 'val_loss', 'val_categorical_accuracy']\n"
     ]
    },
    {
     "data": {
      "image/png": "[encoded data removed]",
      "text/plain": [
       "<Figure size 864x288 with 2 Axes>"
      ]
     },
     "metadata": {
      "needs_background": "light"
     },
     "output_type": "display_data"
    },
    {
     "name": "stdout",
     "output_type": "stream",
     "text": [
      "['loss', 'my_categorical_accuracy', 'val_loss', 'val_my_categorical_accuracy']\n"
     ]
    },
    {
     "data": {
      "image/png": "[encoded data removed]",
      "text/plain": [
       "<Figure size 864x288 with 2 Axes>"
      ]
     },
     "metadata": {
      "needs_background": "light"
     },
     "output_type": "display_data"
    }
   ],
   "source": [
    "def visual_train_status(history):\n",
    "    keys = [key for key in history.history.keys()]\n",
    "    print(keys)\n",
    "    plt.figure(figsize=(12,4))\n",
    "    loss = history.history[keys[0]]\n",
    "    val_loss = history.history[keys[2]]\n",
    "    epochs = range(1, len(loss)+1)  \n",
    "    plt.subplot(1,2,1)\n",
    "    plt.plot(epochs, loss, \"b--\", label=keys[0])\n",
    "    plt.plot(epochs, val_loss, \"r--\", label=keys[2])\n",
    "    plt.title(\"Training and Validation Loss\")\n",
    "    plt.xlabel(\"Epochs\")\n",
    "    plt.ylabel(\"Loss\")\n",
    "    plt.legend()\n",
    "\n",
    "    # 顯示訓練和驗證準確度\n",
    "    acc = history.history[keys[1]]\n",
    "    val_acc = history.history[keys[3]]\n",
    "    epochs = range(1, len(acc)+1)\n",
    "    plt.subplot(1,2,2)\n",
    "    plt.plot(epochs, acc, \"b-\", label=keys[1])\n",
    "    plt.plot(epochs, val_acc, \"r--\", label=keys[3])\n",
    "    plt.title(\"Training and Validation Accuracy\")\n",
    "    plt.xlabel(\"Epochs\")\n",
    "    plt.ylabel(\"Accuracy\")\n",
    "    plt.legend()\n",
    "    plt.show()\n",
    "    \n",
    "\n",
    "visual_train_status(history_1)\n",
    "visual_train_status(history_2)"
   ]
  },
  {
   "cell_type": "markdown",
   "metadata": {},
   "source": [
    "### 比較兩種方法的訓練結果"
   ]
  },
  {
   "cell_type": "code",
   "execution_count": 25,
   "metadata": {},
   "outputs": [
    {
     "name": "stdout",
     "output_type": "stream",
     "text": [
      "       Loss  Accuracy\n",
      "0  1.554631     0.429\n",
      "1  1.505807     0.457\n"
     ]
    }
   ],
   "source": [
    "model_1.load_weights(model_dir+'/save.h5')\n",
    "model_2.load_weights(model_dir+'/my_save.h5')\n",
    "loss_1, acc_1 = model_1.evaluate(x_test, y_test, batch_size=batch_size, verbose=0)\n",
    "loss_2, acc_2 = model_2.evaluate(x_test, y_test, batch_size=batch_size, verbose=0)\n",
    "loss = [loss_1, loss_2]  \n",
    "acc = [acc_1, acc_2]\n",
    "dict = {\"Loss\": loss, \"Accuracy\": acc}\n",
    "df = pd.DataFrame(dict)\n",
    "print(df)"
   ]
  },
  {
   "cell_type": "code",
   "execution_count": null,
   "metadata": {},
   "outputs": [],
   "source": []
  }
 ],
 "metadata": {
  "kernelspec": {
   "display_name": "Python 3",
   "language": "python",
   "name": "python3"
  },
  "language_info": {
   "codemirror_mode": {
    "name": "ipython",
    "version": 3
   },
   "file_extension": ".py",
   "mimetype": "text/x-python",
   "name": "python",
   "nbconvert_exporter": "python",
   "pygments_lexer": "ipython3",
   "version": "3.6.12"
  }
 },
 "nbformat": 4,
 "nbformat_minor": 4
}
