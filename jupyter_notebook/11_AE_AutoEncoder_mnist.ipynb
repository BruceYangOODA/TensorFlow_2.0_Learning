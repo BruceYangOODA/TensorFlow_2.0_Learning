{
 "cells": [
  {
   "cell_type": "code",
   "execution_count": 2,
   "metadata": {},
   "outputs": [],
   "source": [
    "import os\n",
    "import numpy as np \n",
    "import matplotlib.pyplot as plt\n",
    "import tensorflow as tf\n",
    "from tensorflow.keras import datasets, utils, layers, models, optimizers, metrics, losses\n",
    "\n",
    "from PIL import Image\n",
    "\n",
    "seed = 13\n",
    "tf.random.set_seed(seed)\n",
    "np.random.seed(seed)"
   ]
  },
  {
   "cell_type": "code",
   "execution_count": 30,
   "metadata": {},
   "outputs": [
    {
     "name": "stdout",
     "output_type": "stream",
     "text": [
      "(6000, 784) (6000,)\n",
      "(1000, 784) (1000,)\n"
     ]
    }
   ],
   "source": [
    "\n",
    "def data_downscale(train, test, scale):\n",
    "    (x_train,y_train) = train\n",
    "    (x_test,y_test) = test\n",
    "    num_train = len(x_train) // scale\n",
    "    num_test = len(x_test) // scale\n",
    "    x_train, y_train = x_train[:num_train], y_train[:num_train]\n",
    "    x_test, y_test = x_test[:num_test], y_test[:num_test]\n",
    "    x_train = x_train.reshape(num_train, (28*28)).astype(np.float32) /255.\n",
    "    x_test = x_test.reshape(num_test, (28*28)).astype(np.float32) /255.\n",
    "    return (x_train,y_train), (x_test,y_test)\n",
    "    \n",
    "\n",
    "def mnist_dataset():\n",
    "    (x_train,y_train),(x_test,y_test) = datasets.mnist.load_data()\n",
    "    (x_train,y_train),(x_test,y_test) = data_downscale((x_train,y_train),(x_test,y_test), 10)\n",
    "    print(x_train.shape, y_train.shape)\n",
    "    print(x_test.shape, y_test.shape)\n",
    "    \n",
    "    return (x_train,y_train), (x_test,y_test)\n",
    "\n",
    "(x_train,y_train), (x_test,y_test) = mnist_dataset()"
   ]
  },
  {
   "cell_type": "code",
   "execution_count": 35,
   "metadata": {},
   "outputs": [
    {
     "name": "stdout",
     "output_type": "stream",
     "text": [
      "Model: \"sequential_6\"\n",
      "_________________________________________________________________\n",
      "Layer (type)                 Output Shape              Param #   \n",
      "=================================================================\n",
      "fc1 (Dense)                  (None, 392)               307720    \n",
      "_________________________________________________________________\n",
      "fc2 (Dense)                  (None, 20)                7860      \n",
      "_________________________________________________________________\n",
      "fc3 (Dense)                  (None, 392)               8232      \n",
      "_________________________________________________________________\n",
      "logits (Dense)               (None, 784)               308112    \n",
      "=================================================================\n",
      "Total params: 631,924\n",
      "Trainable params: 631,924\n",
      "Non-trainable params: 0\n",
      "_________________________________________________________________\n"
     ]
    }
   ],
   "source": [
    "#del AE\n",
    "class AE(models.Model):\n",
    "    def __init__(self, image_size):\n",
    "        super(AE, self).__init__()\n",
    "        self.image_size = image_size\n",
    "        self.model = self.create_model()\n",
    "                \n",
    "    def call(self, inputs):\n",
    "        outputs = self.model(inputs)\n",
    "        return outputs\n",
    "    \n",
    "    def create_model(self):\n",
    "        model = models.Sequential()\n",
    "        model.add(layers.Input(shape=(self.image_size,), name=\"inputs\")) # 784\n",
    "        model.add(layers.Dense(units=(self.image_size//2), activation=\"relu\", name=\"fc1\")) # 392\n",
    "        model.add(layers.Dense(units=20, name=\"fc2\")) # 20\n",
    "        model.add(layers.Dense(units=(self.image_size//2), activation=\"relu\", name=\"fc3\")) # 392\n",
    "        model.add(layers.Dense(units=self.image_size, activation=\"sigmoid\", name=\"logits\"))        \n",
    "        model.summary()\n",
    "        return model\n",
    "    \n",
    "image_size = 28*28\n",
    "model = AE(image_size)"
   ]
  },
  {
   "cell_type": "code",
   "execution_count": 36,
   "metadata": {},
   "outputs": [
    {
     "name": "stdout",
     "output_type": "stream",
     "text": [
      "Train on 6000 samples, validate on 1000 samples\n",
      "Epoch 1/3\n",
      "6000/6000 [==============================] - 4s 618us/sample - loss: 0.3371 - accuracy: 0.7653 - val_loss: 0.2353 - val_accuracy: 0.8020\n",
      "Epoch 2/3\n",
      "6000/6000 [==============================] - 1s 157us/sample - loss: 0.2027 - accuracy: 0.7957 - val_loss: 0.1801 - val_accuracy: 0.8076\n",
      "Epoch 3/3\n",
      "6000/6000 [==============================] - 1s 160us/sample - loss: 0.1655 - accuracy: 0.8010 - val_loss: 0.1580 - val_accuracy: 0.8128\n"
     ]
    }
   ],
   "source": [
    "epochs = 3\n",
    "batch_size = 128\n",
    "model.compile(loss=\"binary_crossentropy\", optimizer=\"adam\",\n",
    "                    metrics=[\"accuracy\"])\n",
    "def train():\n",
    "    model.fit(x_train, x_train, validation_data=(x_test,x_test), epochs=epochs, batch_size=batch_size, verbose=1)\n",
    "\n",
    "train()"
   ]
  },
  {
   "cell_type": "code",
   "execution_count": 53,
   "metadata": {},
   "outputs": [
    {
     "data": {
      "image/png": "[encoded data removed]",
      "text/plain": [
       "<Figure size 432x288 with 2 Axes>"
      ]
     },
     "metadata": {
      "needs_background": "light"
     },
     "output_type": "display_data"
    }
   ],
   "source": [
    "index = 101\n",
    "predict = model.predict(x_train[index:index+1])\n",
    "plt.subplot(1,2,1)\n",
    "plt.title(\"label\")\n",
    "plt.imshow(x_train[index].reshape(28,28), cmap=\"gray\")\n",
    "predict = predict.reshape(28,28)\n",
    "plt.subplot(1,2,2)\n",
    "plt.imshow(predict, cmap=\"gray\")\n",
    "plt.title(\"predict\")\n",
    "plt.show()"
   ]
  },
  {
   "cell_type": "code",
   "execution_count": null,
   "metadata": {},
   "outputs": [],
   "source": []
  }
 ],
 "metadata": {
  "kernelspec": {
   "display_name": "Python 3",
   "language": "python",
   "name": "python3"
  },
  "language_info": {
   "codemirror_mode": {
    "name": "ipython",
    "version": 3
   },
   "file_extension": ".py",
   "mimetype": "text/x-python",
   "name": "python",
   "nbconvert_exporter": "python",
   "pygments_lexer": "ipython3",
   "version": "3.6.12"
  }
 },
 "nbformat": 4,
 "nbformat_minor": 4
}
