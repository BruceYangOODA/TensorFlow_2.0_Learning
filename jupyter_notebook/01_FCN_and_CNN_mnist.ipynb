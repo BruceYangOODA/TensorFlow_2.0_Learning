{
 "cells": [
  {
   "cell_type": "markdown",
   "metadata": {},
   "source": [
    "## Fully-connected Network"
   ]
  },
  {
   "cell_type": "code",
   "execution_count": 1,
   "metadata": {},
   "outputs": [],
   "source": [
    "import os\n",
    "import tensorflow as tf\n",
    "from tensorflow import keras\n",
    "from tensorflow.keras import layers, optimizers, datasets, models\n",
    "import matplotlib.pyplot as plt"
   ]
  },
  {
   "cell_type": "code",
   "execution_count": 62,
   "metadata": {},
   "outputs": [
    {
     "name": "stdout",
     "output_type": "stream",
     "text": [
      "X.shape (60000, 28, 28)\n",
      "testX.shape (10000, 28, 28)\n",
      "Y.len 60000\n"
     ]
    }
   ],
   "source": [
    "(x, y), (t_x, t_y) = datasets.mnist.load_data()\n",
    "print(\"X.shape\", x.shape)\n",
    "print(\"testX.shape\", test_x.shape)\n",
    "print(\"Y.len\", len(y))"
   ]
  },
  {
   "cell_type": "code",
   "execution_count": 3,
   "metadata": {},
   "outputs": [],
   "source": [
    "#del mnist_dataset\n",
    "def mnist_dataset():\n",
    "    (train_x, train_y), (test_x, test_y) = datasets.mnist.load_data()\n",
    "    ds = tf.data.Dataset.from_tensor_slices((train_x, train_y))\n",
    "    ds = ds.map(prepare_mnist_features_and_labels)\n",
    "    ds = ds.take(20000).shuffle(20000).batch(100)\n",
    "    # 20000 // 100 = 200 steps\n",
    "    return ds\n",
    "def prepare_mnist_features_and_labels(x, y):\n",
    "    x = tf.cast(x, tf.float32) / 255.0\n",
    "    y = tf.cast(y, tf.int64)\n",
    "    return x, y"
   ]
  },
  {
   "cell_type": "code",
   "execution_count": 6,
   "metadata": {},
   "outputs": [
    {
     "name": "stdout",
     "output_type": "stream",
     "text": [
      "Model: \"sequential_1\"\n",
      "_________________________________________________________________\n",
      "Layer (type)                 Output Shape              Param #   \n",
      "=================================================================\n",
      "reshape (Reshape)            (None, 784)               0         \n",
      "_________________________________________________________________\n",
      "hidden_1 (Dense)             (None, 100)               78500     \n",
      "_________________________________________________________________\n",
      "outputs (Dense)              (None, 10)                1010      \n",
      "=================================================================\n",
      "Total params: 79,510\n",
      "Trainable params: 79,510\n",
      "Non-trainable params: 0\n",
      "_________________________________________________________________\n"
     ]
    }
   ],
   "source": [
    "#del model\n",
    "def create_model():\n",
    "    model = models.Sequential()\n",
    "    model.add(layers.Input(shape=(28*28,),name=\"inputs\"))\n",
    "    model.add(layers.Reshape(target_shape=(28*28,),name=\"reshape\"))\n",
    "    model.add(layers.Dense(units=100, activation=\"relu\",name=\"hidden_1\"))\n",
    "    model.add(layers.Dense(units=10, activation=\"softmax\",name=\"outputs\"))\n",
    "    model.summary()\n",
    "    return model\n",
    "\n",
    "model = create_model()\n",
    "optimizer = optimizers.Adam()"
   ]
  },
  {
   "cell_type": "code",
   "execution_count": 8,
   "metadata": {},
   "outputs": [
    {
     "name": "stdout",
     "output_type": "stream",
     "text": [
      "epoch 0 step 100 : loss 1.5489132 ; accuracy 0.92\n",
      "epoch 0 step 200 : loss 1.53336 ; accuracy 0.94\n",
      "total_step 200\n",
      "epoch 1 step 100 : loss 1.5554122 ; accuracy 0.91\n",
      "epoch 1 step 200 : loss 1.4802616 ; accuracy 0.99\n",
      "total_step 200\n",
      "epoch 2 step 100 : loss 1.4994601 ; accuracy 0.97\n",
      "epoch 2 step 200 : loss 1.5153672 ; accuracy 0.97\n",
      "total_step 200\n",
      "Final epoch 2 : loss 1.5153672 ; accuracy 0.97\n"
     ]
    }
   ],
   "source": [
    "\n",
    "@tf.function\n",
    "def compute_loss(logits, labels):\n",
    "    return tf.reduce_mean(\n",
    "      tf.nn.sparse_softmax_cross_entropy_with_logits(\n",
    "          logits=logits, labels=labels))\n",
    "\n",
    "@tf.function\n",
    "def compute_accuracy(logits, labels):\n",
    "    predictions = tf.argmax(logits, axis=1)\n",
    "    return tf.reduce_mean(tf.cast(tf.equal(predictions, labels), tf.float32))\n",
    "\n",
    "@tf.function\n",
    "def train_one_step(model, optimizer, x, y):\n",
    "    with tf.GradientTape() as tape:\n",
    "        logits = model(x)\n",
    "        loss = compute_loss(logits, y)\n",
    "    grads = tape.gradient(loss, model.trainable_variables)\n",
    "    optimizer.apply_gradients(zip(grads, model.trainable_variables))\n",
    "    accuracy = compute_accuracy(logits, y)\n",
    "    \n",
    "    return loss, accuracy\n",
    "\n",
    "def train(epoch, model, optimizer):\n",
    "    train_ds = mnist_dataset()\n",
    "    loss = 0.0\n",
    "    accuracy = 0.0\n",
    "    total_step = 0\n",
    "    for step, (x, y) in enumerate(train_ds):\n",
    "        total_step  += 1\n",
    "        loss, accuracy = train_one_step(model, optimizer, x, y)\n",
    "        if (step+1) % 100 == 0:\n",
    "            print('epoch', epoch,\"step\",(step+1), ': loss', loss.numpy(), '; accuracy', accuracy.numpy())\n",
    "    print(\"total_step\",total_step)\n",
    "    return loss, accuracy\n",
    "\n",
    "for epoch in range(3):\n",
    "    loss, accuracy = train(epoch, model, optimizer)\n",
    "\n",
    "print('Final epoch', epoch, ': loss', loss.numpy(), '; accuracy', accuracy.numpy())\n",
    "    "
   ]
  },
  {
   "cell_type": "code",
   "execution_count": 57,
   "metadata": {},
   "outputs": [
    {
     "name": "stdout",
     "output_type": "stream",
     "text": [
      "<tensorflow.python.keras.layers.core.Reshape object at 0x0000026A9ED00BA8>\n",
      "reshape\n",
      "<tensorflow.python.keras.layers.core.Dense object at 0x0000026AA2252C88>\n",
      "outputs\n",
      "<tensorflow.python.keras.layers.core.Dense object at 0x0000026A9ED00AC8>\n",
      "hidden_1\n",
      "input_shape:\t (None, 784)\n",
      "weights:\t (784, 100)\n",
      "bias:\t\t (100,)\n",
      "output_shape:\t (None, 100)\n"
     ]
    }
   ],
   "source": [
    "a = model.get_layer(index=0)\n",
    "print(a)\n",
    "print(a.name)\n",
    "b =  model.get_layer(index=-1)\n",
    "print(b)\n",
    "print(b.name)\n",
    "#print(b.weights)\n",
    "#print(b.get_weights())\n",
    "c =  model.get_layer(name=\"hidden_1\")\n",
    "print(c)\n",
    "print(c.name)\n",
    "print(\"input_shape:\\t\",c.input_shape)\n",
    "print(\"weights:\\t\",c.variables[0].shape)\n",
    "print(\"bias:\\t\\t\",c.variables[1].shape)\n",
    "print(\"output_shape:\\t\",c.output_shape)\n",
    "#print(dir(c))\n",
    "#print(c.bias)\n",
    "#model.get_config()"
   ]
  },
  {
   "cell_type": "code",
   "execution_count": 75,
   "metadata": {
    "scrolled": true
   },
   "outputs": [
    {
     "name": "stdout",
     "output_type": "stream",
     "text": [
      "predictions:7210414969\n",
      "labels:\t    7210414959"
     ]
    },
    {
     "data": {
      "image/png": "[encoded data removed]",
      "text/plain": [
       "<Figure size 864x216 with 10 Axes>"
      ]
     },
     "metadata": {
      "needs_background": "light"
     },
     "output_type": "display_data"
    }
   ],
   "source": [
    "predictions = model.predict(t_x[0:10].reshape((10,28*28)))\n",
    "print(\"predictions:\",end=\"\")\n",
    "for predict in predictions:\n",
    "    print(predict.argmax(axis=0),end=\"\")\n",
    "print()\n",
    "print(\"labels:\\t    \",end=\"\")\n",
    "for label in t_y[0:10]:\n",
    "    print(label,end=\"\")\n",
    "plt.figure(figsize=(12,3))\n",
    "for i in range(10):\n",
    "    plt.subplot(1,10,(i+1))\n",
    "    plt.imshow(t_x[i], cmap=\"gray\")\n",
    "    plt.axis(\"off\")\n",
    "plt.show()"
   ]
  },
  {
   "cell_type": "markdown",
   "metadata": {},
   "source": [
    "## Convolutional Network"
   ]
  },
  {
   "cell_type": "code",
   "execution_count": 76,
   "metadata": {},
   "outputs": [],
   "source": [
    "import os, time\n",
    "import numpy as np\n",
    "import tensorflow as tf\n",
    "from tensorflow import keras\n",
    "from tensorflow.keras import datasets, layers, models, optimizers, metrics\n",
    "import matplotlib.pyplot as plt\n",
    "from tensorflow.python.ops import summary_ops_v2"
   ]
  },
  {
   "cell_type": "code",
   "execution_count": 79,
   "metadata": {},
   "outputs": [],
   "source": [
    "(x_train,y_train),(x_test,y_test) = datasets.mnist.load_data()\n",
    "# del mnist_dataset\n",
    "def mnist_dataset():\n",
    "    (x_train,y_train),(x_test,y_test) = datasets.mnist.load_data()\n",
    "    print(\"x_train.shape\",x_train.shape)\n",
    "    print(\"x_test.shape\",x_test.shape)\n",
    "    print(\"y_train.len\",len(y_train))\n",
    "    x_train, x_test = x_train.astype(np.float32) / 255.0, x_test.astype(np.float32) / 255.0\n",
    "    y_train, y_test = y_train.astype(np.int64), y_test.astype(np.int64)\n",
    "    train_ds = tf.data.Dataset.from_tensor_slices((x_train,y_train))\n",
    "    test_ds = tf.data.Dataset.from_tensor_slices((x_test,y_test))\n",
    "    return train_ds, test_ds"
   ]
  },
  {
   "cell_type": "code",
   "execution_count": 80,
   "metadata": {},
   "outputs": [
    {
     "name": "stdout",
     "output_type": "stream",
     "text": [
      "x_train.shape (60000, 28, 28)\n",
      "x_test.shape (10000, 28, 28)\n",
      "y_train.len 60000\n"
     ]
    }
   ],
   "source": [
    "train_ds, test_ds = mnist_dataset()\n",
    "train_ds = train_ds.shuffle(60000).batch(100)\n",
    "test_ds = test_ds.batch(100)"
   ]
  },
  {
   "cell_type": "code",
   "execution_count": 81,
   "metadata": {},
   "outputs": [
    {
     "name": "stdout",
     "output_type": "stream",
     "text": [
      "Model: \"sequential_2\"\n",
      "_________________________________________________________________\n",
      "Layer (type)                 Output Shape              Param #   \n",
      "=================================================================\n",
      "reshape_1 (Reshape)          (None, 28, 28, 1)         0         \n",
      "_________________________________________________________________\n",
      "conv2d_1 (Conv2D)            (None, 28, 28, 2)         52        \n",
      "_________________________________________________________________\n",
      "pool2d_1 (MaxPooling2D)      (None, 14, 14, 2)         0         \n",
      "_________________________________________________________________\n",
      "conv2d_2 (Conv2D)            (None, 14, 14, 4)         204       \n",
      "_________________________________________________________________\n",
      "pool2d_2 (MaxPooling2D)      (None, 7, 7, 4)           0         \n",
      "_________________________________________________________________\n",
      "flatten (Flatten)            (None, 196)               0         \n",
      "_________________________________________________________________\n",
      "hidden_1 (Dense)             (None, 32)                6304      \n",
      "_________________________________________________________________\n",
      "dropout_1 (Dropout)          (None, 32)                0         \n",
      "_________________________________________________________________\n",
      "outputs (Dense)              (None, 10)                330       \n",
      "=================================================================\n",
      "Total params: 6,890\n",
      "Trainable params: 6,890\n",
      "Non-trainable params: 0\n",
      "_________________________________________________________________\n"
     ]
    }
   ],
   "source": [
    "#del model\n",
    "#del optimizer\n",
    "def create_model():\n",
    "    model = models.Sequential()\n",
    "    model.add(layers.Input(shape=(28,28),name=\"inputs\"))\n",
    "    model.add(layers.Reshape(target_shape=(28,28,1), name=\"reshape_1\"))\n",
    "    model.add(layers.Conv2D(filters=2, kernel_size=5, padding=\"same\", activation=\"relu\", name=\"conv2d_1\"))\n",
    "    model.add(layers.MaxPooling2D(pool_size=(5,5), strides=(2,2), padding=\"same\", name=\"pool2d_1\"))\n",
    "    model.add(layers.Conv2D(filters=4, kernel_size=5, padding=\"same\", activation=\"relu\", name=\"conv2d_2\"))\n",
    "    model.add(layers.MaxPooling2D(pool_size=(5,5), strides=(2,2), padding=\"same\", name=\"pool2d_2\"))\n",
    "    model.add(layers.Flatten(name=\"flatten\"))\n",
    "    model.add(layers.Dense(units=32, activation=\"relu\", name=\"hidden_1\"))\n",
    "    model.add(layers.Dropout(rate=0.3, name=\"dropout_1\"))\n",
    "    model.add(layers.Dense(units=10, activation=\"softmax\", name=\"outputs\"))\n",
    "\n",
    "    model.summary()\n",
    "    return model\n",
    "model = create_model()\n",
    "optimizer = optimizers.SGD(learning_rate=0.05, momentum=0.5)"
   ]
  },
  {
   "cell_type": "code",
   "execution_count": 82,
   "metadata": {},
   "outputs": [],
   "source": [
    "compute_loss = tf.keras.losses.SparseCategoricalCrossentropy(from_logits=True)\n",
    "compute_accuracy = tf.keras.metrics.SparseCategoricalAccuracy()\n",
    "\n",
    "def train_step(model, optimizrer, images, labels):\n",
    "    with tf.GradientTape() as tape:\n",
    "        logits = model(images, training=True)\n",
    "        loss = compute_loss(labels, logits)\n",
    "        compute_accuracy(labels, logits)\n",
    "        \n",
    "    grads = tape.gradient(loss, model.trainable_variables)\n",
    "    optimizer.apply_gradients(zip(grads, model.trainable_variables))\n",
    "    return loss\n",
    "\n",
    "def train(model, optimizer, dataset, log_freq=100):    \n",
    "    avg_loss = metrics.Mean(\"loss\", dtype=tf.float32)\n",
    "    for images, labels in dataset:\n",
    "        loss = train_step(model, optimizer, images, labels)\n",
    "        avg_loss(loss)\n",
    "        \n",
    "        if tf.equal(optimizer.iterations % log_freq, 0):\n",
    "            print(\"step:\", int(optimizer.iterations),\n",
    "                  \"loss:\", avg_loss.result().numpy(),\n",
    "                  \"acc:\", compute_accuracy.result().numpy())\n",
    "            avg_loss.reset_states()\n",
    "            compute_accuracy.reset_states()\n",
    "            \n",
    "def test(model, dataset, step_num):\n",
    "    avg_loss = metrics.Mean(\"loss\", dtype=tf.float32)\n",
    "    for (images, labels) in dataset:\n",
    "        logits = model(images, training=False)\n",
    "        avg_loss(compute_loss(labels, logits))\n",
    "        compute_accuracy(labels, logits)\n",
    "        \n",
    "    print('Model test set loss: {:0.4f} accuracy: {:0.2f}%'.format(\n",
    "        avg_loss.result(), compute_accuracy.result() * 100))\n",
    "    print('loss:', avg_loss.result(), 'acc:', compute_accuracy.result())\n",
    "    summary_ops_v2.scalar('loss', avg_loss.result(), step=step_num)\n",
    "    summary_ops_v2.scalar('accuracy', compute_accuracy.result(), step=step_num)\n",
    "        "
   ]
  },
  {
   "cell_type": "code",
   "execution_count": 83,
   "metadata": {},
   "outputs": [
    {
     "name": "stdout",
     "output_type": "stream",
     "text": [
      "Removing existing model dir: ./tmp/tensorflow/mnist/\n",
      "./tmp/tensorflow/mnist/checkpoints\n",
      "./tmp/tensorflow/mnist/checkpoints\\ckpt\n"
     ]
    },
    {
     "data": {
      "text/plain": [
       "<tensorflow.python.training.tracking.util.InitializationOnlyStatus at 0x26a9e6c85c0>"
      ]
     },
     "execution_count": 83,
     "metadata": {},
     "output_type": "execute_result"
    }
   ],
   "source": [
    "MODEL_DIR = './tmp/tensorflow/mnist/'\n",
    "def apply_clean():\n",
    "    if tf.io.gfile.exists(MODEL_DIR):\n",
    "        print('Removing existing model dir: {}'.format(MODEL_DIR))\n",
    "        tf.io.gfile.rmtree(MODEL_DIR)\n",
    "apply_clean()\n",
    "\n",
    "checkpoint_dir = os.path.join(MODEL_DIR, 'checkpoints')\n",
    "print(checkpoint_dir)\n",
    "os.makedirs(checkpoint_dir,exist_ok=True)\n",
    "checkpoint_prefix = os.path.join(checkpoint_dir, 'ckpt')\n",
    "print(checkpoint_prefix)\n",
    "checkpoint = tf.train.Checkpoint(model=model, optimizer=optimizer)\n",
    "checkpoint.restore(tf.train.latest_checkpoint(checkpoint_dir))"
   ]
  },
  {
   "cell_type": "code",
   "execution_count": 84,
   "metadata": {},
   "outputs": [
    {
     "name": "stdout",
     "output_type": "stream",
     "text": [
      "step: 500 loss: 1.967454 acc: 0.4969\n",
      "Train time for epoch #1 (600 total steps): 20.13 secs\n",
      "saved checkpoint.\n",
      "step: 1000 loss: 1.654776 acc: 0.80656\n",
      "Train time for epoch #2 (1,200 total steps): 20.38 secs\n",
      "saved checkpoint.\n",
      "step: 1500 loss: 1.6340073 acc: 0.82526\n",
      "Train time for epoch #3 (1,800 total steps): 20.68 secs\n",
      "saved checkpoint.\n",
      "step: 2000 loss: 1.6209575 acc: 0.83722\n",
      "Train time for epoch #4 (2,400 total steps): 20.77 secs\n",
      "saved checkpoint.\n",
      "step: 2500 loss: 1.620119 acc: 0.83996\n",
      "step: 3000 loss: 1.6172566 acc: 0.84492\n",
      "Train time for epoch #5 (3,000 total steps): 21.40 secs\n",
      "saved checkpoint.\n",
      "WARNING:tensorflow:From C:\\Users\\lucif\\.conda\\envs\\tf20\\lib\\site-packages\\tensorflow_core\\python\\ops\\resource_variable_ops.py:1781: calling BaseResourceVariable.__init__ (from tensorflow.python.ops.resource_variable_ops) with constraint is deprecated and will be removed in a future version.\n",
      "Instructions for updating:\n",
      "If using Keras pass *_constraint arguments to layers.\n",
      "INFO:tensorflow:Assets written to: ./tmp/tensorflow/mnist/export/assets\n",
      "saved SavedModel for exporting.\n"
     ]
    }
   ],
   "source": [
    "NUM_TRAIN_EPOCHS = 5\n",
    "\n",
    "for i in range(NUM_TRAIN_EPOCHS):\n",
    "    start = time.time()\n",
    "    #   with train_summary_writer.as_default():\n",
    "    train(model, optimizer, train_ds, log_freq=500)\n",
    "    end = time.time()\n",
    "    print('Train time for epoch #{} ({:,} total steps): {:.2f} secs'.format(\n",
    "        i + 1, int(optimizer.iterations), end - start))\n",
    "    #   with test_summary_writer.as_default():\n",
    "    #     test(model, test_ds, optimizer.iterations)\n",
    "    checkpoint.save(checkpoint_prefix)\n",
    "    print('saved checkpoint.')\n",
    "\n",
    "export_path = os.path.join(MODEL_DIR, 'export/')\n",
    "os.makedirs(export_path, exist_ok=True)\n",
    "tf.saved_model.save(model, export_path)\n",
    "print('saved SavedModel for exporting.')"
   ]
  },
  {
   "cell_type": "code",
   "execution_count": 85,
   "metadata": {},
   "outputs": [
    {
     "name": "stdout",
     "output_type": "stream",
     "text": [
      "predictions:7210414457\n",
      "labels:\t    7210414959"
     ]
    },
    {
     "data": {
      "image/png": "[encoded data removed]",
      "text/plain": [
       "<Figure size 864x216 with 10 Axes>"
      ]
     },
     "metadata": {
      "needs_background": "light"
     },
     "output_type": "display_data"
    }
   ],
   "source": [
    "predictions = model.predict(x_test[0:10])\n",
    "print(\"predictions:\",end=\"\")\n",
    "for predict in predictions:\n",
    "    print(predict.argmax(axis=0),end=\"\")\n",
    "print()\n",
    "print(\"labels:\\t    \",end=\"\")\n",
    "for label in y_test[0:10]:\n",
    "    print(label,end=\"\")\n",
    "plt.figure(figsize=(12,3))\n",
    "for i in range(10):\n",
    "    plt.subplot(1,10,(i+1))\n",
    "    plt.imshow(x_test[i], cmap=\"gray\")\n",
    "    plt.axis(\"off\")\n",
    "plt.show()"
   ]
  },
  {
   "cell_type": "code",
   "execution_count": null,
   "metadata": {},
   "outputs": [],
   "source": []
  }
 ],
 "metadata": {
  "kernelspec": {
   "display_name": "Python 3",
   "language": "python",
   "name": "python3"
  },
  "language_info": {
   "codemirror_mode": {
    "name": "ipython",
    "version": 3
   },
   "file_extension": ".py",
   "mimetype": "text/x-python",
   "name": "python",
   "nbconvert_exporter": "python",
   "pygments_lexer": "ipython3",
   "version": "3.6.12"
  }
 },
 "nbformat": 4,
 "nbformat_minor": 4
}
