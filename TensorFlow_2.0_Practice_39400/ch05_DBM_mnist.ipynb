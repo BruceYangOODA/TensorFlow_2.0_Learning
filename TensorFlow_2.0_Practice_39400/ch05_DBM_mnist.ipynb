{
 "cells": [
  {
   "cell_type": "markdown",
   "metadata": {},
   "source": [
    "### Deep Belief Networks, DBN\n",
    "深度信念網路 又名 Sigmoid信念網路"
   ]
  },
  {
   "cell_type": "code",
   "execution_count": 1,
   "metadata": {},
   "outputs": [],
   "source": [
    "from sklearn.neural_network import BernoulliRBM\n",
    "from tensorflow.keras.models import Sequential\n",
    "from tensorflow.keras.layers import Dense\n",
    "from tensorflow.keras.datasets import mnist\n",
    "from tensorflow.keras.utils import to_categorical\n",
    "\n",
    "import matplotlib.pyplot as plt"
   ]
  },
  {
   "cell_type": "code",
   "execution_count": 2,
   "metadata": {},
   "outputs": [],
   "source": [
    "class DBN():\n",
    "    def __init__(self):\n",
    "        self.rbm_weights = []\n",
    "        self.rbm_biases = []\n",
    "        self.rbm_h_act = []\n",
    "        \n",
    "        self.model = None\n",
    "        self.history = None\n",
    "        \n",
    "    def load_train_data(self, train_data, train_labels):\n",
    "        self.train_data = train_data\n",
    "        self.train_labels = train_labels\n",
    "        \n",
    "    def load_test_data(self, test_data, test_labels):\n",
    "        self.test_data = test_data\n",
    "        self.test_labels = test_labels\n",
    "        \n",
    "    def set_parameters(self, epochs, batch_size, hidden_size, rbm_iters, rbm_learning_rate):        \n",
    "        self.epochs = epochs\n",
    "        self.batch_size = batch_size\n",
    "        self.hidden_size = hidden_size\n",
    "        self.rbm_iters = rbm_iters\n",
    "        self.rbm_learning_rate = rbm_learning_rate\n",
    "        \n",
    "    def pretrain(self):\n",
    "        visual_layer = self.train_data\n",
    "        for i in range(len(self.hidden_size)):\n",
    "            print(\"[DBN] Layer {} Pre-Training\".format(i+1))\n",
    "            rbm = BernoulliRBM(n_components=self.hidden_size[i],\n",
    "                               n_iter=self.rbm_iters[i],\n",
    "                               learning_rate=self.rbm_learning_rate[i],\n",
    "                               verbose=True,\n",
    "                               batch_size=128)\n",
    "            rbm.fit(visual_layer)\n",
    "            self.rbm_weights.append(rbm.components_)\n",
    "            self.rbm_biases.append(rbm.intercept_hidden_)\n",
    "            self.rbm_h_act.append(rbm.transform(visual_layer))\n",
    "            visual_layer = self.rbm_h_act[-1]\n",
    "            \n",
    "    def build_model(self):\n",
    "        model = Sequential()\n",
    "        for i in range(len(self.hidden_size)):\n",
    "            if i==0:\n",
    "                model.add(Dense(self.hidden_size[i], activation=\"relu\", name=\"rbm_{}\".format(i),\n",
    "                                input_dim=self.train_data.shape[1]))\n",
    "            else:\n",
    "                model.add(Dense(self.hidden_size[i], activation=\"relu\", name=\"rbm_{}\".format(i)))\n",
    "        model.add(Dense(self.train_labels.shape[1], activation=\"softmax\"))\n",
    "        \n",
    "        model.compile(loss=\"categorical_crossentropy\", optimizer=\"adam\", metrics=[\"accuracy\"])\n",
    "        \n",
    "        self.model = model\n",
    "    \n",
    "    def set_WB(self):\n",
    "        for i in range(len(self.hidden_size)):\n",
    "            layer = self.model.get_layer(\"rbm_{}\".format(i))\n",
    "            layer.set_weights([self.rbm_weights[i].trainspose(), self.rbm_biases[i]])\n",
    "            \n",
    "    def train_model(self):\n",
    "        self.history = self.model.fit(train_data, train_labels, \n",
    "                                      epochs=self.epochs, \n",
    "                                      batch_size=self.batch_size, \n",
    "                                      validation_split=0.2)  \n",
    "        print(self.history.history.keys())\n",
    "        \n",
    "    def model_evaluate(self, test_data, test_labels):\n",
    "        loss, acc = self.model.evaluate(test_data, test_labels, verbose=0)        \n",
    "        return loss, acc  \n",
    "    \n",
    "    def visual_train_status(self):\n",
    "        loss = self.history.history[\"loss\"]\n",
    "        val_loss = self.history.history[\"val_loss\"]\n",
    "        acc = self.history.history[\"accuracy\"]\n",
    "        val_acc = self.history.history[\"val_accuracy\"]\n",
    "        epochs = range(1, len(loss)+1)\n",
    "\n",
    "        plt.figure(figsize=(12,3))\n",
    "        plt.subplot(121)\n",
    "        plt.plot(epochs, loss, \"bo-\", label=\"Training Loss\")\n",
    "        plt.plot(epochs, val_loss, \"ro--\", label=\"Validation Loss\")\n",
    "        plt.title('model loss')\n",
    "        plt.ylabel('loss')\n",
    "        plt.xlabel('epochs')\n",
    "        plt.legend()    \n",
    "        plt.subplot(122)\n",
    "        plt.plot(epochs, acc, \"bo-\", label=\"Training Acc\")\n",
    "        plt.plot(epochs, val_acc, \"ro--\", label=\"Validation Acc\")\n",
    "        plt.title('model accuracy')\n",
    "        plt.ylabel('accuracy')\n",
    "        plt.xlabel('epochs')\n",
    "        plt.legend()\n",
    "        plt.show()\n",
    "    \n",
    "def preprocess_mnist_data(train_data, train_labels, test_data, test_labels):\n",
    "    train_data = train_data.reshape(train_data.shape[0],784)\n",
    "    test_data = test_data.reshape(test_data.shape[0],784)\n",
    "    train_data = train_data.astype(\"float32\")\n",
    "    test_data = test_data.astype(\"float32\")\n",
    "    train_data /= 255\n",
    "    test_data /= 255\n",
    "    \n",
    "    train_labels = to_categorical(train_labels)\n",
    "    test_labels = to_categorical(test_labels)\n",
    "    return train_data, train_labels, test_data, test_labels\n",
    "\n"
   ]
  },
  {
   "cell_type": "code",
   "execution_count": 3,
   "metadata": {},
   "outputs": [],
   "source": [
    "epochs = 3\n",
    "batch_size = 128\n",
    "hidden_size = [6]\n",
    "rbm_iters = [4]\n",
    "rbm_learning_rate = [0.01]\n",
    "\n",
    "(train_data, train_labels), (test_data, test_labels) = mnist.load_data()# 分割訓練集資料與測試集資料\n",
    "train_data, train_labels, test_data, test_labels = preprocess_mnist_data(train_data, train_labels, test_data, test_labels)\n",
    "\n"
   ]
  },
  {
   "cell_type": "code",
   "execution_count": 4,
   "metadata": {},
   "outputs": [
    {
     "name": "stdout",
     "output_type": "stream",
     "text": [
      "[DBN] Layer 1 Pre-Training\n",
      "[BernoulliRBM] Iteration 1, pseudo-likelihood = -256.30, time = 1.18s\n",
      "[BernoulliRBM] Iteration 2, pseudo-likelihood = -222.59, time = 1.66s\n",
      "[BernoulliRBM] Iteration 3, pseudo-likelihood = -203.39, time = 1.53s\n",
      "[BernoulliRBM] Iteration 4, pseudo-likelihood = -201.39, time = 1.60s\n",
      "Train on 48000 samples, validate on 12000 samples\n",
      "Epoch 1/3\n",
      "48000/48000 [==============================] - 1s 27us/sample - loss: 1.2334 - accuracy: 0.6275 - val_loss: 0.6392 - val_accuracy: 0.8240\n",
      "Epoch 2/3\n",
      "48000/48000 [==============================] - 1s 14us/sample - loss: 0.5740 - accuracy: 0.8364 - val_loss: 0.4750 - val_accuracy: 0.8627\n",
      "Epoch 3/3\n",
      "48000/48000 [==============================] - 1s 13us/sample - loss: 0.4714 - accuracy: 0.8632 - val_loss: 0.4188 - val_accuracy: 0.8800\n",
      "dict_keys(['loss', 'accuracy', 'val_loss', 'val_accuracy'])\n"
     ]
    }
   ],
   "source": [
    "dbn = DBN()\n",
    "dbn.load_train_data(train_data, train_labels)\n",
    "dbn.set_parameters(epochs=epochs,\n",
    "                   batch_size=batch_size,\n",
    "                   hidden_size=hidden_size,\n",
    "                   rbm_iters=rbm_iters,\n",
    "                   rbm_learning_rate=rbm_learning_rate)\n",
    "dbn.pretrain()\n",
    "dbn.build_model()\n",
    "dbn.train_model()"
   ]
  },
  {
   "cell_type": "code",
   "execution_count": 5,
   "metadata": {},
   "outputs": [
    {
     "name": "stdout",
     "output_type": "stream",
     "text": [
      "Test loss: 0.4278378657579422\n",
      "Test accuracy: 0.8752\n"
     ]
    }
   ],
   "source": [
    "loss ,acc = dbn.model_evaluate(test_data, test_labels)\n",
    "print('Test loss:', loss)\n",
    "print('Test accuracy:', acc)"
   ]
  },
  {
   "cell_type": "code",
   "execution_count": 6,
   "metadata": {},
   "outputs": [
    {
     "data": {
      "image/png": "[encoded data removed]",
      "text/plain": [
       "<Figure size 864x216 with 2 Axes>"
      ]
     },
     "metadata": {
      "needs_background": "light"
     },
     "output_type": "display_data"
    }
   ],
   "source": [
    "dbn.visual_train_status()"
   ]
  },
  {
   "cell_type": "code",
   "execution_count": null,
   "metadata": {},
   "outputs": [],
   "source": []
  },
  {
   "cell_type": "code",
   "execution_count": null,
   "metadata": {},
   "outputs": [],
   "source": []
  }
 ],
 "metadata": {
  "kernelspec": {
   "display_name": "Python 3",
   "language": "python",
   "name": "python3"
  },
  "language_info": {
   "codemirror_mode": {
    "name": "ipython",
    "version": 3
   },
   "file_extension": ".py",
   "mimetype": "text/x-python",
   "name": "python",
   "nbconvert_exporter": "python",
   "pygments_lexer": "ipython3",
   "version": "3.6.12"
  }
 },
 "nbformat": 4,
 "nbformat_minor": 4
}
