{
 "cells": [
  {
   "cell_type": "markdown",
   "metadata": {},
   "source": [
    "### ch07_LSTM_GRU_imdb"
   ]
  },
  {
   "cell_type": "markdown",
   "metadata": {},
   "source": [
    "## LSTM"
   ]
  },
  {
   "cell_type": "code",
   "execution_count": 3,
   "metadata": {},
   "outputs": [
    {
     "name": "stdout",
     "output_type": "stream",
     "text": [
      "25000 train sequences\n",
      "25000 test sequences\n",
      "Pad sequences (samples x time)\n",
      "x_train shape: (2500, 80)\n",
      "x_test shape: (2500, 80)\n"
     ]
    }
   ],
   "source": [
    "from tensorflow.keras import datasets\n",
    "from tensorflow.keras import preprocessing \n",
    "\n",
    "vocab_size = 20000 #特徵大小\n",
    "maxlen = 80 #序列長度\n",
    "batch_size = 128 #批次大小\n",
    "\n",
    "(x_train, y_train), (x_test, y_test) = datasets.imdb.load_data(num_words=vocab_size)\n",
    "\n",
    "print(len(x_train), 'train sequences')\n",
    "print(len(x_test), 'test sequences')\n",
    "num_x_train = int(len(x_train) // 10)\n",
    "num_x_test = int(len(x_test) // 10)\n",
    "x_train, y_train = x_train[:num_x_train], y_train[:num_x_train]\n",
    "x_test, y_test = x_test[:num_x_test], y_test[:num_x_test]\n",
    "\n",
    "print('Pad sequences (samples x time)')\n",
    "x_train = preprocessing.sequence.pad_sequences(x_train, maxlen=maxlen)\n",
    "x_test = preprocessing.sequence.pad_sequences(x_test, maxlen=maxlen)\n",
    "print('x_train shape:', x_train.shape)\n",
    "print('x_test shape:', x_test.shape)"
   ]
  },
  {
   "cell_type": "code",
   "execution_count": 26,
   "metadata": {},
   "outputs": [
    {
     "name": "stdout",
     "output_type": "stream",
     "text": [
      "a(6) good(52) thing(155) this(14) turkey(2803) was(16) shot(324) on(23) video(374) because(88) otherwise(900) what(51) a(6) waste(437) of(7) expensive(3269) film(22) it(12) would(62) be(30) if(48) that(15) guy(232) who(37) thinks(1291) artists(2719) ought(3882) to(8) be(30) interested(928) in(11) this(14) slop(17953) is(9) really(66) serious(622) no(57) wonder(594) most(91) people(84) think(104) artists(2719) are(26) insane(2140) we(75) saw(219) this(14) lousy(2320) movie(20) then(95) put(276) on(23) zero(1456) woman(255) the(4) accused(3612) oh(449) my(61) god(558) it(12) was(16) a(6) ?(2) as(17) to(8) which(63) one(31) was(16) worse(433) what(51) is(9) going(170) on(23) in(11) japan(1898) these(134) days(504) sick(1195) sick(1195) sick(1195) "
     ]
    }
   ],
   "source": [
    "word_index = datasets.imdb.get_word_index() # index_from=3\n",
    "decode_word_map = dict([(value, key) for (key, value) in word_index.items()])\n",
    "for index in x_train[13]:\n",
    "    print(\"%s(%d)\"%(decode_word_map.get(index-3,\"?\"),index), end=\" \")"
   ]
  },
  {
   "cell_type": "code",
   "execution_count": 29,
   "metadata": {},
   "outputs": [
    {
     "name": "stdout",
     "output_type": "stream",
     "text": [
      "Model: \"model\"\n",
      "_________________________________________________________________\n",
      "Layer (type)                 Output Shape              Param #   \n",
      "=================================================================\n",
      "input_3 (InputLayer)         [(None, 80)]              0         \n",
      "_________________________________________________________________\n",
      "embedding_1 (Embedding)      (None, 80, 128)           2560000   \n",
      "_________________________________________________________________\n",
      "lstm (LSTM)                  (None, 128)               131584    \n",
      "_________________________________________________________________\n",
      "dense (Dense)                (None, 1)                 129       \n",
      "=================================================================\n",
      "Total params: 2,691,713\n",
      "Trainable params: 2,691,713\n",
      "Non-trainable params: 0\n",
      "_________________________________________________________________\n"
     ]
    }
   ],
   "source": [
    "from tensorflow import keras\n",
    "from tensorflow.keras import layers, models\n",
    "\n",
    "inputs = keras.Input(shape=(80,))\n",
    "d = layers.Embedding(input_dim=vocab_size, output_dim=128)(inputs)\n",
    "d = layers.LSTM(units=128, dropout=0.2, recurrent_dropout=0.2)(d)\n",
    "outputs = layers.Dense(units=1, activation=\"sigmoid\")(d)\n",
    "model = models.Model(inputs, outputs)\n",
    "model.compile(loss='binary_crossentropy', optimizer='adam', metrics=['accuracy'])\n",
    "model.summary()"
   ]
  },
  {
   "cell_type": "code",
   "execution_count": 30,
   "metadata": {},
   "outputs": [
    {
     "name": "stdout",
     "output_type": "stream",
     "text": [
      "Train on 2500 samples, validate on 2500 samples\n",
      "Epoch 1/6\n",
      "2500/2500 [==============================] - 22s 9ms/sample - loss: 0.6903 - accuracy: 0.5324 - val_loss: 0.6854 - val_accuracy: 0.4956\n",
      "Epoch 2/6\n",
      "2500/2500 [==============================] - 12s 5ms/sample - loss: 0.6062 - accuracy: 0.7284 - val_loss: 0.5111 - val_accuracy: 0.7572\n",
      "Epoch 3/6\n",
      "2500/2500 [==============================] - 13s 5ms/sample - loss: 0.3731 - accuracy: 0.8776 - val_loss: 0.5272 - val_accuracy: 0.7324\n",
      "Epoch 4/6\n",
      "2500/2500 [==============================] - 13s 5ms/sample - loss: 0.2732 - accuracy: 0.9164 - val_loss: 0.5035 - val_accuracy: 0.7832\n",
      "Epoch 5/6\n",
      "2500/2500 [==============================] - 13s 5ms/sample - loss: 0.1430 - accuracy: 0.9604 - val_loss: 0.5229 - val_accuracy: 0.7872\n",
      "Epoch 6/6\n",
      "2500/2500 [==============================] - 13s 5ms/sample - loss: 0.0753 - accuracy: 0.9808 - val_loss: 0.5842 - val_accuracy: 0.7784\n",
      "Test score: 0.5841595767974853\n",
      "Test accuracy: 0.7784\n"
     ]
    }
   ],
   "source": [
    "history=model.fit(x_train, y_train, batch_size=batch_size, epochs=6, validation_data=(x_test, y_test))\n",
    "score, acc = model.evaluate(x_test, y_test, batch_size=batch_size,verbose=0)\n",
    "print('Test score:', score)\n",
    "print('Test accuracy:', acc)"
   ]
  },
  {
   "cell_type": "code",
   "execution_count": 31,
   "metadata": {},
   "outputs": [
    {
     "data": {
      "text/plain": [
       "dict_keys(['loss', 'accuracy', 'val_loss', 'val_accuracy'])"
      ]
     },
     "execution_count": 31,
     "metadata": {},
     "output_type": "execute_result"
    }
   ],
   "source": [
    "history.history.keys()"
   ]
  },
  {
   "cell_type": "code",
   "execution_count": 34,
   "metadata": {},
   "outputs": [
    {
     "data": {
      "image/png": "[encoded data removed]",
      "text/plain": [
       "<Figure size 864x288 with 2 Axes>"
      ]
     },
     "metadata": {
      "needs_background": "light"
     },
     "output_type": "display_data"
    }
   ],
   "source": [
    "import matplotlib.pyplot as plt\n",
    "def visual_train_state(history):\n",
    "    plt.figure(figsize=(12,4))\n",
    "    plt.subplot(121)\n",
    "    plt.plot(history.history['accuracy'])\n",
    "    plt.plot(history.history['val_accuracy'])\n",
    "    plt.title('model accuracy')\n",
    "    plt.ylabel('accuracy')\n",
    "    plt.xlabel('epoch')\n",
    "    plt.legend(['train', 'test'], loc='best')\n",
    "            \n",
    "    plt.subplot(122)\n",
    "    plt.plot(history.history['loss'])\n",
    "    plt.plot(history.history['val_loss'])\n",
    "    plt.title('model loss')\n",
    "    plt.ylabel('loss')\n",
    "    plt.xlabel('epoch')\n",
    "    plt.legend(['train', 'test'], loc='best')\n",
    "    plt.show()\n",
    "    \n",
    "visual_train_state(history)"
   ]
  },
  {
   "cell_type": "code",
   "execution_count": 39,
   "metadata": {},
   "outputs": [
    {
     "name": "stdout",
     "output_type": "stream",
     "text": [
      "labels ['0', '1', '0', '1', '0', '0', '0', '1', '1', '1']\n",
      "preds  ['0', '1', '0', '1', '1', '0', '0', '1', '1', '1']\n"
     ]
    }
   ],
   "source": [
    "index = 13\n",
    "test_data = x_test[index:index+10]\n",
    "preds = model.predict(test_data)\n",
    "print(\"labels\",[str(label) for label in y_test[index:index+10]])\n",
    "print(\"preds \",[\"1\" if pred>0.5 else \"0\" for pred in preds])"
   ]
  },
  {
   "cell_type": "markdown",
   "metadata": {},
   "source": [
    "## GRU"
   ]
  },
  {
   "cell_type": "code",
   "execution_count": 42,
   "metadata": {},
   "outputs": [
    {
     "name": "stdout",
     "output_type": "stream",
     "text": [
      "Model: \"model_1\"\n",
      "_________________________________________________________________\n",
      "Layer (type)                 Output Shape              Param #   \n",
      "=================================================================\n",
      "input_4 (InputLayer)         [(None, 80)]              0         \n",
      "_________________________________________________________________\n",
      "embedding_2 (Embedding)      (None, 80, 128)           2560000   \n",
      "_________________________________________________________________\n",
      "gru (GRU)                    (None, 128)               99072     \n",
      "_________________________________________________________________\n",
      "dense_1 (Dense)              (None, 1)                 129       \n",
      "=================================================================\n",
      "Total params: 2,659,201\n",
      "Trainable params: 2,659,201\n",
      "Non-trainable params: 0\n",
      "_________________________________________________________________\n"
     ]
    }
   ],
   "source": [
    "inputs = keras.Input(shape=(80,))\n",
    "d = layers.Embedding(input_dim=vocab_size, output_dim=128)(inputs)\n",
    "d = layers.GRU(units=128, dropout=0.2, recurrent_dropout=0.2)(d)\n",
    "outputs = layers.Dense(units=1, activation=\"sigmoid\")(d)\n",
    "model = models.Model(inputs, outputs)\n",
    "model.compile(loss='binary_crossentropy', optimizer='adam', metrics=['accuracy'])\n",
    "model.summary()"
   ]
  },
  {
   "cell_type": "code",
   "execution_count": 43,
   "metadata": {},
   "outputs": [
    {
     "name": "stdout",
     "output_type": "stream",
     "text": [
      "Train on 2500 samples, validate on 2500 samples\n",
      "Epoch 1/6\n",
      "2500/2500 [==============================] - 20s 8ms/sample - loss: 0.6888 - accuracy: 0.5388 - val_loss: 0.6827 - val_accuracy: 0.6068\n",
      "Epoch 2/6\n",
      "2500/2500 [==============================] - 11s 5ms/sample - loss: 0.5817 - accuracy: 0.7652 - val_loss: 0.6199 - val_accuracy: 0.6744\n",
      "Epoch 3/6\n",
      "2500/2500 [==============================] - 12s 5ms/sample - loss: 0.3359 - accuracy: 0.8872 - val_loss: 0.5700 - val_accuracy: 0.6952\n",
      "Epoch 4/6\n",
      "2500/2500 [==============================] - 10s 4ms/sample - loss: 0.2312 - accuracy: 0.9316 - val_loss: 0.5639 - val_accuracy: 0.6932\n",
      "Epoch 5/6\n",
      "2500/2500 [==============================] - 10s 4ms/sample - loss: 0.1350 - accuracy: 0.9616 - val_loss: 0.5684 - val_accuracy: 0.7048\n",
      "Epoch 6/6\n",
      "2500/2500 [==============================] - 9s 4ms/sample - loss: 0.0579 - accuracy: 0.9848 - val_loss: 0.5849 - val_accuracy: 0.7112\n",
      "Test score: 0.5849180983543396\n",
      "Test accuracy: 0.7112\n"
     ]
    }
   ],
   "source": [
    "history=model.fit(x_train, y_train, batch_size=batch_size, epochs=6, validation_data=(x_test, y_test))\n",
    "score, acc = model.evaluate(x_test, y_test, batch_size=batch_size,verbose=0)\n",
    "print('Test score:', score)\n",
    "print('Test accuracy:', acc)"
   ]
  },
  {
   "cell_type": "code",
   "execution_count": 44,
   "metadata": {},
   "outputs": [
    {
     "name": "stdout",
     "output_type": "stream",
     "text": [
      "dict_keys(['loss', 'accuracy', 'val_loss', 'val_accuracy'])\n"
     ]
    },
    {
     "data": {
      "image/png": "[encoded data removed]",
      "text/plain": [
       "<Figure size 864x288 with 2 Axes>"
      ]
     },
     "metadata": {
      "needs_background": "light"
     },
     "output_type": "display_data"
    }
   ],
   "source": [
    "print(history.history.keys())\n",
    "visual_train_state(history)"
   ]
  },
  {
   "cell_type": "code",
   "execution_count": 45,
   "metadata": {},
   "outputs": [
    {
     "name": "stdout",
     "output_type": "stream",
     "text": [
      "labels ['0', '1', '0', '1', '0', '0', '0', '1', '1', '1']\n",
      "preds  ['1', '1', '0', '1', '0', '0', '0', '1', '1', '1']\n"
     ]
    }
   ],
   "source": [
    "index = 13\n",
    "test_data = x_test[index:index+10]\n",
    "preds = model.predict(test_data)\n",
    "print(\"labels\",[str(label) for label in y_test[index:index+10]])\n",
    "print(\"preds \",[\"1\" if pred>0.5 else \"0\" for pred in preds])"
   ]
  },
  {
   "cell_type": "code",
   "execution_count": null,
   "metadata": {},
   "outputs": [],
   "source": []
  }
 ],
 "metadata": {
  "kernelspec": {
   "display_name": "Python 3",
   "language": "python",
   "name": "python3"
  },
  "language_info": {
   "codemirror_mode": {
    "name": "ipython",
    "version": 3
   },
   "file_extension": ".py",
   "mimetype": "text/x-python",
   "name": "python",
   "nbconvert_exporter": "python",
   "pygments_lexer": "ipython3",
   "version": "3.6.12"
  }
 },
 "nbformat": 4,
 "nbformat_minor": 4
}
