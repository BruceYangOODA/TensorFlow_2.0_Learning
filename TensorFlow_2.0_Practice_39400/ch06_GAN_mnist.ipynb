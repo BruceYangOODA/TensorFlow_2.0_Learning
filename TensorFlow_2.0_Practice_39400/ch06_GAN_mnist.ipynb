{
 "cells": [
  {
   "cell_type": "markdown",
   "metadata": {},
   "source": [
    "### ch06_GAN_mnist"
   ]
  },
  {
   "cell_type": "code",
   "execution_count": null,
   "metadata": {},
   "outputs": [],
   "source": []
  },
  {
   "cell_type": "code",
   "execution_count": 10,
   "metadata": {},
   "outputs": [
    {
     "name": "stdout",
     "output_type": "stream",
     "text": [
      "Model: \"model_discriminator\"\n",
      "_________________________________________________________________\n",
      "Layer (type)                 Output Shape              Param #   \n",
      "=================================================================\n",
      "d_inputs (InputLayer)        [(None, 28, 28)]          0         \n",
      "_________________________________________________________________\n",
      "d_flatten (Flatten)          (None, 784)               0         \n",
      "_________________________________________________________________\n",
      "d_dense_1 (Dense)            (None, 512)               401920    \n",
      "_________________________________________________________________\n",
      "d_relu_1 (LeakyReLU)         (None, 512)               0         \n",
      "_________________________________________________________________\n",
      "d_dense_2 (Dense)            (None, 256)               131328    \n",
      "_________________________________________________________________\n",
      "d_relu_2 (LeakyReLU)         (None, 256)               0         \n",
      "_________________________________________________________________\n",
      "d_validity (Dense)           (None, 1)                 257       \n",
      "=================================================================\n",
      "Total params: 533,505\n",
      "Trainable params: 533,505\n",
      "Non-trainable params: 0\n",
      "_________________________________________________________________\n"
     ]
    }
   ],
   "source": [
    "# 建置並編譯鑑別器(discriminator)\n",
    "from tensorflow.keras import layers, models\n",
    "from tensorflow import keras\n",
    "\n",
    "img_rows = 28\n",
    "img_cols = 28\n",
    "channels = 1\n",
    "\n",
    "d_inputs = keras.Input(shape=(img_rows,img_cols), name=\"d_inputs\")\n",
    "d = layers.Flatten(name=\"d_flatten\")(d_inputs)\n",
    "d = layers.Dense(units=512, name=\"d_dense_1\")(d)\n",
    "d = layers.LeakyReLU(alpha=0.2, name=\"d_relu_1\")(d)\n",
    "d = layers.Dense(units=256, name=\"d_dense_2\")(d)\n",
    "d = layers.LeakyReLU(alpha=0.2, name=\"d_relu_2\")(d)\n",
    "d_validity = layers.Dense(units=1, activation=\"sigmoid\", name=\"d_validity\")(d)\n",
    "\n",
    "d_model = models.Model(d_inputs, d_validity, name=\"model_discriminator\")\n",
    "d_model.compile(loss='binary_crossentropy', optimizer=\"adam\", metrics=['accuracy'])\n",
    "d_model.summary()\n",
    "\n",
    "d_model.trainable = False"
   ]
  },
  {
   "cell_type": "code",
   "execution_count": 17,
   "metadata": {},
   "outputs": [
    {
     "name": "stdout",
     "output_type": "stream",
     "text": [
      "Model: \"model_1\"\n",
      "_________________________________________________________________\n",
      "Layer (type)                 Output Shape              Param #   \n",
      "=================================================================\n",
      "input_4 (InputLayer)         [(None, 100)]             0         \n",
      "_________________________________________________________________\n",
      "sequential_3 (Sequential)    (None, 28, 28)            581776    \n",
      "_________________________________________________________________\n",
      "model_discriminator (Model)  (None, 1)                 533505    \n",
      "=================================================================\n",
      "Total params: 1,115,281\n",
      "Trainable params: 580,752\n",
      "Non-trainable params: 534,529\n",
      "_________________________________________________________________\n"
     ]
    }
   ],
   "source": [
    "g_model = models.Sequential()\n",
    "g_model.add(layers.Dense(units=128, name=\"g_dense_1\"))\n",
    "g_model.add(layers.LeakyReLU(alpha=0.2, name=\"g_relu_1\"))\n",
    "g_model.add(layers.Dense(units=256, name=\"g_dense_2\"))\n",
    "g_model.add(layers.LeakyReLU(alpha=0.2, name=\"g_relu_2\"))\n",
    "g_model.add(layers.Dense(units=512, name=\"g_dense_3\"))\n",
    "g_model.add(layers.LeakyReLU(alpha=0.2, name=\"g_relu_3\"))\n",
    "g_model.add(layers.BatchNormalization(name=\"g_normal\"))\n",
    "g_model.add(layers.Dense(units=(img_rows*img_cols), activation=\"tanh\", name=\"g_dense_4\"))\n",
    "g_model.add(layers.Reshape(target_shape=(img_rows,img_cols), name=\"g_validity\"))\n",
    "\n",
    "# 輸入生成器生成之圖片到鑑別器中\n",
    "z = keras.Input(shape=(100,))\n",
    "img = g_model(z)\n",
    "validity = d_model(img)\n",
    "\n",
    "#透過訓練使生成器生成的圖片足以混淆鑑別器的判斷\n",
    "c_model = models.Model(z, validity)\n",
    "c_model.compile(loss='binary_crossentropy', optimizer=\"adam\")\n",
    "c_model.summary()"
   ]
  },
  {
   "cell_type": "code",
   "execution_count": 23,
   "metadata": {},
   "outputs": [],
   "source": [
    "import numpy as np\n",
    "from tensorflow.keras.datasets import mnist\n",
    "# 讀取mnist資料庫\n",
    "(x_train, _), (_, _) = mnist.load_data()\n",
    "\n",
    "x_train = x_train[:6000]\n",
    "# 調整目標樣本型態，訓練集資料\n",
    "x_train = x_train / 127.5 - 1.\n",
    "#x_train = np.expand_dims(x_train, axis=3)\n",
    "\n",
    "batch_size = 128\n",
    "\n",
    "# 設置生成對抗性事實(Adversarial ground truths)參數\n",
    "valid = np.ones((batch_size, 1))\n",
    "fake = np.zeros((batch_size, 1))\n"
   ]
  },
  {
   "cell_type": "code",
   "execution_count": 25,
   "metadata": {},
   "outputs": [
    {
     "name": "stdout",
     "output_type": "stream",
     "text": [
      "0 [D loss: 0.227261, acc.: 100.00%] [G loss: 0.427187]\n",
      "1 [D loss: 0.130242, acc.: 100.00%] [G loss: 0.448771]\n",
      "2 [D loss: 0.083774, acc.: 100.00%] [G loss: 0.486653]\n",
      "3 [D loss: 0.062856, acc.: 100.00%] [G loss: 0.519980]\n",
      "4 [D loss: 0.046663, acc.: 100.00%] [G loss: 0.550649]\n",
      "5 [D loss: 0.033222, acc.: 100.00%] [G loss: 0.539564]\n",
      "6 [D loss: 0.030694, acc.: 100.00%] [G loss: 0.707994]\n",
      "7 [D loss: 0.055229, acc.: 100.00%] [G loss: 0.766304]\n",
      "8 [D loss: 0.054027, acc.: 100.00%] [G loss: 0.779538]\n",
      "9 [D loss: 0.030094, acc.: 100.00%] [G loss: 1.009564]\n",
      "10 [D loss: 0.013447, acc.: 100.00%] [G loss: 1.221843]\n",
      "11 [D loss: 0.027757, acc.: 100.00%] [G loss: 1.123853]\n",
      "12 [D loss: 0.044351, acc.: 99.61%] [G loss: 0.976547]\n",
      "13 [D loss: 0.052555, acc.: 100.00%] [G loss: 1.052782]\n",
      "14 [D loss: 0.022306, acc.: 100.00%] [G loss: 1.077788]\n",
      "15 [D loss: 0.262606, acc.: 89.45%] [G loss: 0.806590]\n",
      "16 [D loss: 0.631722, acc.: 61.72%] [G loss: 0.579529]\n",
      "17 [D loss: 0.310540, acc.: 82.42%] [G loss: 0.723996]\n",
      "18 [D loss: 0.061290, acc.: 98.83%] [G loss: 1.083681]\n",
      "19 [D loss: 0.023294, acc.: 99.61%] [G loss: 1.047880]\n",
      "20 [D loss: 0.011223, acc.: 100.00%] [G loss: 1.423904]\n",
      "21 [D loss: 0.010247, acc.: 100.00%] [G loss: 1.500520]\n",
      "22 [D loss: 0.009167, acc.: 100.00%] [G loss: 1.245778]\n",
      "23 [D loss: 0.041630, acc.: 98.83%] [G loss: 1.328745]\n",
      "24 [D loss: 0.067639, acc.: 98.05%] [G loss: 0.971182]\n",
      "25 [D loss: 0.075254, acc.: 98.05%] [G loss: 1.301814]\n",
      "26 [D loss: 0.081056, acc.: 96.48%] [G loss: 1.476492]\n",
      "27 [D loss: 0.033032, acc.: 100.00%] [G loss: 1.593409]\n",
      "28 [D loss: 0.042143, acc.: 99.22%] [G loss: 1.457860]\n",
      "29 [D loss: 0.123636, acc.: 94.92%] [G loss: 1.378940]\n",
      "30 [D loss: 0.191946, acc.: 90.62%] [G loss: 1.690654]\n",
      "31 [D loss: 0.087263, acc.: 98.05%] [G loss: 1.987294]\n",
      "32 [D loss: 0.035711, acc.: 100.00%] [G loss: 2.801464]\n",
      "33 [D loss: 0.302920, acc.: 92.19%] [G loss: 2.042552]\n",
      "34 [D loss: 0.367584, acc.: 81.25%] [G loss: 2.002183]\n",
      "35 [D loss: 0.356063, acc.: 80.08%] [G loss: 2.122121]\n",
      "36 [D loss: 0.117334, acc.: 95.31%] [G loss: 2.750022]\n",
      "37 [D loss: 0.052745, acc.: 98.44%] [G loss: 3.310928]\n",
      "38 [D loss: 0.014648, acc.: 99.61%] [G loss: 3.536865]\n",
      "39 [D loss: 0.018390, acc.: 100.00%] [G loss: 4.242169]\n",
      "40 [D loss: 0.021405, acc.: 99.61%] [G loss: 4.307962]\n",
      "41 [D loss: 0.015107, acc.: 99.22%] [G loss: 4.000828]\n",
      "42 [D loss: 0.040411, acc.: 98.83%] [G loss: 3.930932]\n",
      "43 [D loss: 0.046301, acc.: 98.44%] [G loss: 3.613281]\n",
      "44 [D loss: 0.065184, acc.: 97.27%] [G loss: 3.561125]\n",
      "45 [D loss: 0.106205, acc.: 94.92%] [G loss: 3.554945]\n"
     ]
    }
   ],
   "source": [
    "for i in range(len(x_train)//batch_size):\n",
    "    imgs = x_train[i*batch_size:(i+1)*batch_size]\n",
    "    \n",
    "    noise = np.random.normal(0, 1, (batch_size, 100))\n",
    "    # 生成批次大小數量的圖片\n",
    "    gen_imgs = g_model.predict(noise)\n",
    "\n",
    "    # 訓練鑑別器\n",
    "    d_loss_real = d_model.train_on_batch(imgs, valid)\n",
    "    d_loss_fake = d_model.train_on_batch(gen_imgs, fake)\n",
    "    d_loss = 0.5 * np.add(d_loss_real, d_loss_fake)\n",
    "    \n",
    "    noise = np.random.normal(0, 1, (batch_size, 100))\n",
    "    \n",
    "    # 訓練生成器\n",
    "    g_loss = c_model.train_on_batch(noise, valid)\n",
    "    \n",
    "    print (\"%d [D loss: %f, acc.: %.2f%%] [G loss: %f]\" % (i, d_loss[0], 100*d_loss[1], g_loss))"
   ]
  },
  {
   "cell_type": "code",
   "execution_count": 26,
   "metadata": {},
   "outputs": [
    {
     "name": "stdout",
     "output_type": "stream",
     "text": [
      "(1, 1)\n"
     ]
    }
   ],
   "source": [
    "a = d_model.predict(x_train[12:13])\n",
    "print(a.shape)"
   ]
  },
  {
   "cell_type": "code",
   "execution_count": 27,
   "metadata": {},
   "outputs": [
    {
     "data": {
      "text/plain": [
       "array([[1.]], dtype=float32)"
      ]
     },
     "execution_count": 27,
     "metadata": {},
     "output_type": "execute_result"
    }
   ],
   "source": [
    "a"
   ]
  },
  {
   "cell_type": "code",
   "execution_count": 30,
   "metadata": {},
   "outputs": [
    {
     "data": {
      "image/png": "[encoded data removed]",
      "text/plain": [
       "<Figure size 432x288 with 1 Axes>"
      ]
     },
     "metadata": {
      "needs_background": "light"
     },
     "output_type": "display_data"
    }
   ],
   "source": [
    "import matplotlib.pyplot as plt\n",
    "plt.imshow(x_train[12])\n",
    "plt.show()"
   ]
  },
  {
   "cell_type": "code",
   "execution_count": null,
   "metadata": {},
   "outputs": [],
   "source": [
    "def sample_images(self, epoch):\n",
    "        r, c = 5, 5\n",
    "        noise = np.random.normal(0, 1, (r * c, self.latent_dim))\n",
    "        gen_imgs = self.generator.predict(noise)\n",
    "\n",
    "        \n",
    "        gen_imgs = 0.5 * gen_imgs + 0.5\n",
    "\n",
    "        fig, axs = plt.subplots(r, c)\n",
    "        cnt = 0\n",
    "        #訓練過程中圖像儲存\n",
    "        for i in range(r):\n",
    "            for j in range(c):\n",
    "                axs[i,j].imshow(gen_imgs[cnt, :,:,0], cmap='gray')\n",
    "                axs[i,j].axis('off')\n",
    "                cnt += 1\n",
    "        fig.savefig(\"images/%d.png\" % epoch)\n",
    "        plt.close()"
   ]
  }
 ],
 "metadata": {
  "kernelspec": {
   "display_name": "Python 3",
   "language": "python",
   "name": "python3"
  },
  "language_info": {
   "codemirror_mode": {
    "name": "ipython",
    "version": 3
   },
   "file_extension": ".py",
   "mimetype": "text/x-python",
   "name": "python",
   "nbconvert_exporter": "python",
   "pygments_lexer": "ipython3",
   "version": "3.6.12"
  }
 },
 "nbformat": 4,
 "nbformat_minor": 4
}
