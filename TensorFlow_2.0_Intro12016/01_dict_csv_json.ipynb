{
 "cells": [
  {
   "cell_type": "markdown",
   "metadata": {},
   "source": [
    "<!-- # dict.clear()\n",
    "# dict.copy()\n",
    "# dict.fromkeys(seq[,val])　建立一個新字典，以seq為key，val為value\n",
    "# dict.get(key, default=None) 返回key的value\n",
    "# dict.has_key(key)\n",
    "# dict.items() 返回 [(key,value)]\n",
    "# dict.keys()\n",
    "# dict.values()\n",
    "# dict.update(dict1) -->"
   ]
  },
  {
   "cell_type": "markdown",
   "metadata": {},
   "source": [
    "### 01_dict_csv_json"
   ]
  },
  {
   "cell_type": "code",
   "execution_count": 2,
   "metadata": {},
   "outputs": [],
   "source": [
    "# dict.clear()\n",
    "# dict.copy()\n",
    "# dict.fromkeys(seq[,val])\n",
    "# dict.get(key,default=None)\n",
    "# dict.has_key(key)\n",
    "# dict.items()\n",
    "# dict.keys()\n",
    "# dict.values()\n",
    "# dict.update(dict1)"
   ]
  },
  {
   "cell_type": "markdown",
   "metadata": {},
   "source": [
    "### CSV"
   ]
  },
  {
   "cell_type": "code",
   "execution_count": 4,
   "metadata": {},
   "outputs": [],
   "source": [
    "# read_csv()\n",
    "# filepath\n",
    "# sep 行分隔符號，預設 ,\n",
    "# delimiter 參數分隔符號\n",
    "# delim_whitespace 行分隔符號為 空格, 設為True, sep失效\n",
    "# header header=None，否則預設第一row為header\n",
    "# names 欄位名稱 colomn names\n",
    "# usecols 只讀取指定 clolmn\n",
    "# dtype 指定讀取資料的類型\n",
    "# encoding"
   ]
  },
  {
   "cell_type": "code",
   "execution_count": 5,
   "metadata": {},
   "outputs": [],
   "source": [
    "# to_csv()\n",
    "# path\n",
    "# sep\n",
    "# na_rep 空值設定，預設是以空白代替\n",
    "# float_format 將浮點數轉換為字串\n",
    "# columns 指定寫入行的行名\n",
    "# header 是否寫入表頭，預設需要\n",
    "# index 是否寫入列名，預設需要\n",
    "# mode 寫入模式 預設 W\n",
    "# encoding\n",
    "# line_terminator 每列的結束符號，預設 \\n\n",
    "# quotin 設定CSV引用規則\n",
    "# quotechar 引用的字元，預設空格\n",
    "# chunksize 每次寫入的列數\n",
    "# tuplesize_cols 寫入list的格式，預設以元組寫入\n",
    "# data_format 設定時間資料的格式\n"
   ]
  },
  {
   "cell_type": "markdown",
   "metadata": {},
   "source": [
    "### JSON"
   ]
  },
  {
   "cell_type": "code",
   "execution_count": 6,
   "metadata": {},
   "outputs": [],
   "source": [
    "# read_json()\n",
    "# filepath\n",
    "# type 資料產生格式，預設為DataFrame，可以改為Series"
   ]
  },
  {
   "cell_type": "code",
   "execution_count": 7,
   "metadata": {},
   "outputs": [],
   "source": [
    "# to_json\n",
    "# path\n",
    "# date_formate\n",
    "# double_precision 小數點位數，預設10位\n",
    "# force_ascii 是否將String 轉成ASCII，預設強制轉碼\n",
    "# date_unit 設定時間基本單位 秒或毫秒 "
   ]
  },
  {
   "cell_type": "markdown",
   "metadata": {},
   "source": [
    "### DataFrame"
   ]
  },
  {
   "cell_type": "code",
   "execution_count": 8,
   "metadata": {},
   "outputs": [],
   "source": [
    "# df.shape\n",
    "# df.head(row_num)\n",
    "# df.tail(row_num)\n",
    "# df.columns() 查看column名\n",
    "# df.mean() 各column平均值\n",
    "# df[col_name] 選取整條 column\n",
    "# df.col_name 選取整條 colimn\n",
    "# df.describe()\n",
    "# df.info\n",
    "# df.iloc index_location 第幾列row\n",
    "# df.loc ??\n",
    "\n",
    "# df.concat()\n",
    "# df.merge(df1,df2, on=\"col_name\")\n",
    "\n",
    "# df.isnull() \n",
    "# df.isnull().sum\n",
    "# df.fillna(\"na_value\") 填補空值\n",
    "# df.dropna() 刪除有空值的row\n",
    "# df.columns.value_counts() 返回唯一值統計結果\n",
    "# df.sort_values(by=\"col_name\", ascending=True)"
   ]
  },
  {
   "cell_type": "markdown",
   "metadata": {},
   "source": [
    "### PIL"
   ]
  },
  {
   "cell_type": "code",
   "execution_count": 11,
   "metadata": {},
   "outputs": [],
   "source": [
    "from PIL import Image\n",
    "from PIL import TarIO\n",
    "def read_img():\n",
    "    with open(\"enjoy.jpg\",\"rb\") as fp:\n",
    "        im = Image.open(fp)\n",
    "# 直接從壓縮檔讀資料\n",
    "def read_tar_img():        \n",
    "    fp = TarIO.TarIO(\"enjoy.tar\",\"enjoy.jpg\")\n",
    "    im = Image.open(fp)\n",
    "# 存檔\n",
    "def save_img():\n",
    "    filename_o = \"enjoy.jpg\"\n",
    "    filename = \"enjoy_o.jpg\"\n",
    "    try:\n",
    "        img = Image.open(filename_o)\n",
    "        img.save(filename)\n",
    "    except:\n",
    "        print(\"aaa\")\n",
    "# 製作縮圖 thumbnail\n",
    "def made_thumbnail():\n",
    "    size = (128,128) #縮圖尺寸    \n",
    "    filename = \"enjoy.thumbnail\"\n",
    "    try:\n",
    "        img = Image.open(\"enjoy.jpg\")\n",
    "        img.thumbnail(size)\n",
    "        img.save(filename, \"JPEG\")\n",
    "    except:\n",
    "        print(\"aaa\")\n",
    "def info_img():\n",
    "    img = Image.open(\"enjoy.jpg\")\n",
    "    print(img.format) # 檔案格式\n",
    "    print(img.size)\n",
    "    print(img.mode) #色彩模式\n",
    "# 調整尺寸\n",
    "def crop_img():\n",
    "    img = Image.open(\"enjoy.jpg\")\n",
    "    box = (100,100,400,400)\n",
    "    img.crop(box)\n",
    "    img.save(\"enjoy_new.jpg\", \"JEPG\")\n",
    "# 旋轉圖片\n",
    "def rotate_img():\n",
    "    img = Image.open(\"enjoy.jpg\")\n",
    "    img.rotate(90) # 旋轉90度\n",
    "    img.save(\"enjoy_90.jpg\", \"JEPG\")\n",
    "# 灰階化\n",
    "def monochrome_img():\n",
    "    img = Image.open(\"enjoy.jpg\")\n",
    "    img.convert(\"L\")\n",
    "    img.save(\"enjoy_monochrmoe.jpg\", \"JPEG\")"
   ]
  },
  {
   "cell_type": "code",
   "execution_count": null,
   "metadata": {},
   "outputs": [],
   "source": []
  }
 ],
 "metadata": {
  "kernelspec": {
   "display_name": "Python 3",
   "language": "python",
   "name": "python3"
  },
  "language_info": {
   "codemirror_mode": {
    "name": "ipython",
    "version": 3
   },
   "file_extension": ".py",
   "mimetype": "text/x-python",
   "name": "python",
   "nbconvert_exporter": "python",
   "pygments_lexer": "ipython3",
   "version": "3.6.12"
  }
 },
 "nbformat": 4,
 "nbformat_minor": 4
}
