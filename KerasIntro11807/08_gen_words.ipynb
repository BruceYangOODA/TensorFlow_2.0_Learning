{
 "cells": [
  {
   "cell_type": "code",
   "execution_count": null,
   "metadata": {},
   "outputs": [],
   "source": []
  },
  {
   "cell_type": "code",
   "execution_count": null,
   "metadata": {},
   "outputs": [],
   "source": []
  },
  {
   "cell_type": "code",
   "execution_count": 2,
   "metadata": {},
   "outputs": [],
   "source": [
    "import numpy as np\n",
    "from tensorflow.keras import layers, models, utils, optimizers\n",
    "import tensorflow as tf\n",
    "import matplotlib.pyplot as plt\n",
    "import collections"
   ]
  },
  {
   "cell_type": "code",
   "execution_count": 3,
   "metadata": {},
   "outputs": [
    {
     "name": "stdout",
     "output_type": "stream",
     "text": [
      "3631\n"
     ]
    }
   ],
   "source": [
    "alltext = open(\"./data/四世同堂.txt\", encoding='utf-8').read()\n",
    "print(len(set(alltext)))"
   ]
  },
  {
   "cell_type": "code",
   "execution_count": null,
   "metadata": {},
   "outputs": [],
   "source": [
    "#較naive的做法\n",
    "# charset = {}\n",
    "# id = 0\n",
    "# for line in alltext:\n",
    "#     length = len(line)\n",
    "#     for k in range(length):\n",
    "#         w = line[k]\n",
    "#         if not w in charset:            \n",
    "#             charset[w]=id\n",
    "#             id+=1\n",
    "            \n",
    "# print(len(charset))"
   ]
  },
  {
   "cell_type": "code",
   "execution_count": 4,
   "metadata": {},
   "outputs": [
    {
     "name": "stdout",
     "output_type": "stream",
     "text": [
      "char_indices 3631\n"
     ]
    }
   ],
   "source": [
    "sortedcharset = sorted(set(alltext))\n",
    "char_indices = dict((c, i) for i, c in enumerate(sortedcharset))\n",
    "indices_char = dict((i, c) for i, c in enumerate(sortedcharset))\n",
    "print(\"char_indices\",len(char_indices))"
   ]
  },
  {
   "cell_type": "code",
   "execution_count": 5,
   "metadata": {},
   "outputs": [
    {
     "name": "stdout",
     "output_type": "stream",
     "text": [
      "平均句長 52.36421842802473\n",
      "句子總數 13588\n"
     ]
    }
   ],
   "source": [
    "#不符合下面固定句長設定的程式要求\n",
    "#但是可用於計算平均句長\n",
    "import numpy as np\n",
    "\n",
    "with open(\"./data/四世同堂.txt\", encoding='utf-8') as fo:\n",
    "    alltext0 = fo.readlines()\n",
    "\n",
    "sentence_length_list = []\n",
    "for line in alltext0:    \n",
    "    sentence_length_list.append(len(line))\n",
    "\n",
    "sentencelength = np.mean(sentence_length_list)\n",
    "print(\"平均句長\",sentencelength)  \n",
    "print(\"句子總數\",len(alltext0))"
   ]
  },
  {
   "cell_type": "code",
   "execution_count": 6,
   "metadata": {},
   "outputs": [
    {
     "name": "stdout",
     "output_type": "stream",
     "text": [
      "字元總數 711525\n",
      "train_data_size 54730\n"
     ]
    }
   ],
   "source": [
    "print(\"字元總數\",len(alltext))\n",
    "maxwords = 40\n",
    "step = 13\n",
    "sentences = []\n",
    "next_chars = []\n",
    "alltext = [char_indices[word] for word in alltext]\n",
    "for i in range(0, len(alltext)-maxwords, step):\n",
    "    sentences.append(alltext[i:i+maxwords])\n",
    "    next_chars.append(alltext[i+maxwords])\n",
    "print(\"train_data_size\",len(sentences))\n",
    "\n",
    "vocab_size = len(char_indices)\n",
    "next_chars = utils.to_categorical(next_chars, num_classes=vocab_size)\n",
    "sentences = np.array(sentences)\n",
    "next_chars = np.array(next_chars)"
   ]
  },
  {
   "cell_type": "code",
   "execution_count": 7,
   "metadata": {},
   "outputs": [
    {
     "name": "stdout",
     "output_type": "stream",
     "text": [
      "Model: \"sequential\"\n",
      "_________________________________________________________________\n",
      "Layer (type)                 Output Shape              Param #   \n",
      "=================================================================\n",
      "embedding (Embedding)        (None, 40, 64)            232384    \n",
      "_________________________________________________________________\n",
      "lstm (LSTM)                  (None, 128)               98816     \n",
      "_________________________________________________________________\n",
      "outputs (Dense)              (None, 3631)              468399    \n",
      "=================================================================\n",
      "Total params: 799,599\n",
      "Trainable params: 799,599\n",
      "Non-trainable params: 0\n",
      "_________________________________________________________________\n"
     ]
    }
   ],
   "source": [
    "from tensorflow.keras import layers, models, utils, optimizers\n",
    "import tensorflow as tf\n",
    "\n",
    "model = models.Sequential()\n",
    "model.add(tf.keras.Input(shape=(maxwords,), name=\"inputs\"))\n",
    "model.add(layers.Embedding(input_dim=vocab_size, output_dim=64, name=\"embedding\"))\n",
    "model.add(layers.LSTM(units=128, recurrent_dropout=0.1, dropout=0.1, name=\"lstm\"))\n",
    "model.add(layers.Dense(units=vocab_size, activation=\"softmax\", name=\"outputs\"))\n",
    "\n",
    "#optimizer = RMSprop(lr=0.01)\n",
    "optimizer = optimizers.Adam(lr=0.005)\n",
    "model.compile(optimizer=optimizer, loss='categorical_crossentropy')\n",
    "model.summary()"
   ]
  },
  {
   "cell_type": "code",
   "execution_count": 8,
   "metadata": {},
   "outputs": [
    {
     "name": "stdout",
     "output_type": "stream",
     "text": [
      "Train on 51993 samples, validate on 2737 samples\n",
      "Epoch 1/3\n",
      "51993/51993 [==============================] - 54s 1ms/sample - loss: 5.8764 - val_loss: 5.5973\n",
      "Epoch 2/3\n",
      "51993/51993 [==============================] - 53s 1ms/sample - loss: 5.1583 - val_loss: 5.3343\n",
      "Epoch 3/3\n",
      "51993/51993 [==============================] - 53s 1ms/sample - loss: 4.7611 - val_loss: 5.2375\n"
     ]
    }
   ],
   "source": [
    "history = model.fit(sentences, next_chars, validation_split=0.05, epochs=3, batch_size=128, verbose=1)"
   ]
  },
  {
   "cell_type": "code",
   "execution_count": 9,
   "metadata": {},
   "outputs": [
    {
     "data": {
      "text/plain": [
       "dict_keys(['loss', 'val_loss'])"
      ]
     },
     "execution_count": 9,
     "metadata": {},
     "output_type": "execute_result"
    }
   ],
   "source": [
    "history.history.keys()"
   ]
  },
  {
   "cell_type": "code",
   "execution_count": 11,
   "metadata": {},
   "outputs": [
    {
     "data": {
      "image/png": "[encoded data removed]",
      "text/plain": [
       "<Figure size 864x216 with 1 Axes>"
      ]
     },
     "metadata": {
      "needs_background": "light"
     },
     "output_type": "display_data"
    }
   ],
   "source": [
    "import matplotlib.pyplot as plt\n",
    "\n",
    "def visual_train_status(history):\n",
    "        plt.figure(figsize=(12,3))\n",
    "        loss = history.history[\"loss\"]\n",
    "        val_loss = history.history[\"val_loss\"]\n",
    "        epochs = range(1, len(loss)+1)  \n",
    "#        plt.subplot(1,2,1)\n",
    "        plt.plot(epochs, loss, \"b--\", label=\"Training Loss\")\n",
    "        plt.plot(epochs, val_loss, \"r--\", label=\"Validation Loss\")\n",
    "        plt.title(\"Training and Validation Loss\")\n",
    "        plt.xlabel(\"Epochs\")\n",
    "        plt.ylabel(\"Loss\")\n",
    "        plt.legend()\n",
    "        \n",
    "        # 顯示訓練和驗證準確度\n",
    "#         acc = history.history[\"accuracy\"]\n",
    "#         val_acc = history.history[\"val_accuracy\"]\n",
    "#         epochs = range(1, len(acc)+1)\n",
    "#         plt.subplot(1,2,2)\n",
    "#         plt.plot(epochs, acc, \"b-\", label=\"Training Acc\")\n",
    "#         plt.plot(epochs, val_acc, \"r--\", label=\"Validation Acc\")\n",
    "#         plt.title(\"Training and Validation Accuracy\")\n",
    "#         plt.xlabel(\"Epochs\")\n",
    "#         plt.ylabel(\"Accuracy\")\n",
    "#         plt.legend()\n",
    "        plt.show()\n",
    "        \n",
    "visual_train_status(history)"
   ]
  },
  {
   "cell_type": "code",
   "execution_count": 38,
   "metadata": {},
   "outputs": [
    {
     "name": "stdout",
     "output_type": "stream",
     "text": [
      "['我', '已', '經', '發', '送', '了', '一', '個', '姑', '爺', '，', '還', '得', '再', '給', '親', '家', '母', '打', '幡', '兒', '嗎', '？', '\\n', '\\n', '你', '們', '找', '陳', '什', '麼', '球', '那', '小', '子', '去', '呀', '！', '死', '的']\n",
      "幼 瞪 旦 團 嫌 般 率 澀 般 波 番 旦 團 ‘ 1 番 番 陋 私 旦 霞 枉 旦 霞 般 私 拴 匹 1 般 秒 鄙 幼 瞪 旦 團 嫌 枉 陋 綢 "
     ]
    }
   ],
   "source": [
    "import collections\n",
    "test_words = alltext[123460:123460+40]\n",
    "print([indices_char[index] for index in test_words])\n",
    "\n",
    "temp_np = collections.deque(maxlen=40)\n",
    "#print(\"test_words\",test_words)\n",
    "temp_np.extend(test_words)\n",
    "n_words = collections.deque(maxlen=13)\n",
    "#n_words.extend([0,1,2,3])\n",
    "#print(temp_np)\n",
    "for i in range(20):\n",
    "    #x_t = [index for index in temp_np]    \n",
    "    #x_t = list(temp_np)\n",
    "    #x_t = np.array(temp_np)\n",
    "    x_t = np.expand_dims(temp_np, axis=0)   \n",
    "    y_t = model.predict(x_t, verbose=0)\n",
    "    y_t = np.argsort(y_t)\n",
    "    y_t = np.reshape(y_t, -1)[:40]\n",
    "    bingo = False\n",
    "    index = 0\n",
    "    #print(y_t)\n",
    "    while not bingo:\n",
    "        if y_t[index] not in n_words:\n",
    "            n_words.append(y_t[index])\n",
    "            bingo = True                    \n",
    "        index += 1\n",
    "    \n",
    "    temp_np.append(y_t[index])     \n",
    "    #print(y_t[index], end=\" \")\n",
    "    print(indices_char[y_t[index]], end=\" \")\n"
   ]
  },
  {
   "cell_type": "code",
   "execution_count": null,
   "metadata": {},
   "outputs": [],
   "source": []
  },
  {
   "cell_type": "code",
   "execution_count": null,
   "metadata": {},
   "outputs": [],
   "source": []
  }
 ],
 "metadata": {
  "kernelspec": {
   "display_name": "Python 3",
   "language": "python",
   "name": "python3"
  },
  "language_info": {
   "codemirror_mode": {
    "name": "ipython",
    "version": 3
   },
   "file_extension": ".py",
   "mimetype": "text/x-python",
   "name": "python",
   "nbconvert_exporter": "python",
   "pygments_lexer": "ipython3",
   "version": "3.6.12"
  }
 },
 "nbformat": 4,
 "nbformat_minor": 4
}
