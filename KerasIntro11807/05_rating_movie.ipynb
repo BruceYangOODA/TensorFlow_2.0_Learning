{
 "cells": [
  {
   "cell_type": "markdown",
   "metadata": {},
   "source": [
    "np.random.permuatation()  打亂序列  \n"
   ]
  },
  {
   "cell_type": "code",
   "execution_count": 1,
   "metadata": {},
   "outputs": [],
   "source": [
    "import pandas as pd\n",
    "import numpy as np\n",
    "import matplotlib.pyplot as plt\n",
    "from tensorflow.keras import layers, models\n"
   ]
  },
  {
   "cell_type": "code",
   "execution_count": 2,
   "metadata": {},
   "outputs": [
    {
     "name": "stdout",
     "output_type": "stream",
     "text": [
      "['user_id:6040', 'movie_id:3952', 'ratings:1000209']\n",
      "rating mean:3.5816\n"
     ]
    },
    {
     "data": {
      "image/png": "[encoded data removed]",
      "text/plain": [
       "<Figure size 432x288 with 1 Axes>"
      ]
     },
     "metadata": {
      "needs_background": "light"
     },
     "output_type": "display_data"
    }
   ],
   "source": [
    "ratings = pd.read_csv(\"./data/ratings.dat\", sep=\"::\", engine=\"python\", names=[\"user_id\",\"movie_id\",\"rating\",\"timestamp\"])\n",
    "n_users = np.max(ratings[\"user_id\"])\n",
    "n_movies = np.max(ratings[\"movie_id\"])\n",
    "print([\"user_id:{}\".format(n_users),\"movie_id:{}\".format(n_movies),\"ratings:{}\".format(len(ratings))])\n",
    "print(\"rating mean:{:.4f}\".format(np.mean(ratings[\"rating\"])))\n",
    "plt.hist(ratings[\"rating\"])\n",
    "plt.show()"
   ]
  },
  {
   "cell_type": "markdown",
   "metadata": {},
   "source": [
    "model1 input : User ID  \n",
    "model2 input : Movie ID  \n",
    "output : 預測評分"
   ]
  },
  {
   "cell_type": "code",
   "execution_count": 18,
   "metadata": {},
   "outputs": [
    {
     "name": "stdout",
     "output_type": "stream",
     "text": [
      "Model: \"rating_model\"\n",
      "__________________________________________________________________________________________________\n",
      "Layer (type)                    Output Shape         Param #     Connected to                     \n",
      "==================================================================================================\n",
      "input_1 (InputLayer)            [(None, 1)]          0                                            \n",
      "__________________________________________________________________________________________________\n",
      "input_2 (InputLayer)            [(None, 1)]          0                                            \n",
      "__________________________________________________________________________________________________\n",
      "embed_1 (Embedding)             (None, 1, 128)       773248      input_1[0][0]                    \n",
      "__________________________________________________________________________________________________\n",
      "embed_2 (Embedding)             (None, 1, 128)       505984      input_2[0][0]                    \n",
      "__________________________________________________________________________________________________\n",
      "reshape_1 (Reshape)             (None, 128)          0           embed_1[0][0]                    \n",
      "__________________________________________________________________________________________________\n",
      "reshape_2 (Reshape)             (None, 128)          0           embed_2[0][0]                    \n",
      "__________________________________________________________________________________________________\n",
      "concate (Concatenate)           (None, 256)          0           reshape_1[0][0]                  \n",
      "                                                                 reshape_2[0][0]                  \n",
      "__________________________________________________________________________________________________\n",
      "drop_1 (Dropout)                (None, 256)          0           concate[0][0]                    \n",
      "__________________________________________________________________________________________________\n",
      "dense_1 (Dense)                 (None, 128)          32896       drop_1[0][0]                     \n",
      "__________________________________________________________________________________________________\n",
      "drop_2 (Dropout)                (None, 128)          0           dense_1[0][0]                    \n",
      "__________________________________________________________________________________________________\n",
      "dense_2 (Dense)                 (None, 32)           4128        drop_2[0][0]                     \n",
      "__________________________________________________________________________________________________\n",
      "drop_3 (Dropout)                (None, 32)           0           dense_2[0][0]                    \n",
      "__________________________________________________________________________________________________\n",
      "dense_3 (Dense)                 (None, 8)            264         drop_3[0][0]                     \n",
      "__________________________________________________________________________________________________\n",
      "drop_4 (Dropout)                (None, 8)            0           dense_3[0][0]                    \n",
      "__________________________________________________________________________________________________\n",
      "outputs (Dense)                 (None, 1)            9           drop_4[0][0]                     \n",
      "==================================================================================================\n",
      "Total params: 1,316,529\n",
      "Trainable params: 1,316,529\n",
      "Non-trainable params: 0\n",
      "__________________________________________________________________________________________________\n"
     ]
    }
   ],
   "source": [
    "output_dim = 128\n",
    "input_1 = layers.Input(shape=(1,), name=\"input_1\")\n",
    "input_2 = layers.Input(shape=(1,), name=\"input_2\")\n",
    "embed_1 = layers.Embedding(input_dim=(n_users+1), output_dim=output_dim, input_length=1, name=\"embed_1\")(input_1)\n",
    "embed_2 = layers.Embedding(input_dim=(n_movies+1), output_dim=output_dim, input_length=1, name=\"embed_2\")(input_2)\n",
    "reshape_1 = layers.Reshape(target_shape=(output_dim,), name=\"reshape_1\")(embed_1)\n",
    "reshape_2 = layers.Reshape(target_shape=(output_dim,), name=\"reshape_2\")(embed_2)\n",
    "\n",
    "concate = layers.Concatenate(name=\"concate\")([reshape_1,reshape_2])\n",
    "x = layers.Dropout(rate=0.2, name=\"drop_1\")(concate)\n",
    "x = layers.Dense(units=output_dim, activation=\"relu\", name=\"dense_1\")(x)\n",
    "x = layers.Dropout(rate=0.5, name=\"drop_2\")(x)\n",
    "x = layers.Dense(units=(output_dim/4), activation=\"relu\", name=\"dense_2\")(x)\n",
    "x = layers.Dropout(rate=0.5, name=\"drop_3\")(x)\n",
    "x = layers.Dense(units=(output_dim/16), activation=\"relu\", name=\"dense_3\")(x)\n",
    "x = layers.Dropout(rate=0.5, name=\"drop_4\")(x)\n",
    "output = layers.Dense(units=1, activation=\"linear\", name=\"outputs\")(x)\n",
    "\n",
    "model = models.Model([input_1,input_2], output, name=\"rating_model\")\n",
    "model.compile(loss=\"mse\", optimizer=\"adam\")\n",
    "model.summary()"
   ]
  },
  {
   "cell_type": "code",
   "execution_count": 20,
   "metadata": {},
   "outputs": [
    {
     "name": "stdout",
     "output_type": "stream",
     "text": [
      "Train on 1000209 samples\n",
      "Epoch 1/3\n",
      "1000209/1000209 [==============================] - 27s 27us/sample - loss: 2.6733 - accuracy: 0.0554\n",
      "Epoch 2/3\n",
      "1000209/1000209 [==============================] - 27s 27us/sample - loss: 1.8254 - accuracy: 0.0562\n",
      "Epoch 3/3\n",
      "1000209/1000209 [==============================] - 28s 28us/sample - loss: 1.3685 - accuracy: 0.0562\n"
     ]
    }
   ],
   "source": [
    "np.random.seed(13)\n",
    "users = ratings[\"user_id\"].values\n",
    "movies = ratings['movie_id'].values\n",
    "labels = ratings['rating'].values\n",
    "# ran_index = np.random.permutation(len(users))\n",
    "# users = users[ran_index]\n",
    "# movies = movies[ran_index]\n",
    "# labels = labels[ran_index]\n",
    "x_train = [users, movies]\n",
    "y_train = labels\n",
    "\n",
    "history = model.fit(x_train, y_train, batch_size=1000, epochs=3, verbose=1)"
   ]
  },
  {
   "cell_type": "code",
   "execution_count": 21,
   "metadata": {},
   "outputs": [
    {
     "data": {
      "text/plain": [
       "dict_keys(['loss', 'accuracy'])"
      ]
     },
     "execution_count": 21,
     "metadata": {},
     "output_type": "execute_result"
    }
   ],
   "source": [
    "history.history.keys()"
   ]
  },
  {
   "cell_type": "code",
   "execution_count": 11,
   "metadata": {},
   "outputs": [
    {
     "data": {
      "image/png": "[encoded data removed]",
      "text/plain": [
       "<Figure size 864x216 with 2 Axes>"
      ]
     },
     "metadata": {
      "needs_background": "light"
     },
     "output_type": "display_data"
    }
   ],
   "source": [
    "def visual_train_status(history):\n",
    "        plt.figure(figsize=(12,3))\n",
    "        loss = history.history[\"loss\"]\n",
    "        val_loss = history.history[\"val_loss\"]\n",
    "        epochs = range(1, len(loss)+1)  \n",
    "        plt.subplot(1,2,1)\n",
    "        plt.plot(epochs, loss, \"b--\", label=\"Training Loss\")\n",
    "        plt.plot(epochs, val_loss, \"r--\", label=\"Validation Loss\")\n",
    "        plt.title(\"Training and Validation Loss\")\n",
    "        plt.xlabel(\"Epochs\")\n",
    "        plt.ylabel(\"Loss\")\n",
    "        plt.legend()\n",
    "        \n",
    "        # 顯示訓練和驗證準確度\n",
    "        acc = history.history[\"accuracy\"]\n",
    "        val_acc = history.history[\"val_accuracy\"]\n",
    "        epochs = range(1, len(acc)+1)\n",
    "        plt.subplot(1,2,2)\n",
    "        plt.plot(epochs, acc, \"b-\", label=\"Training Acc\")\n",
    "        plt.plot(epochs, val_acc, \"r--\", label=\"Validation Acc\")\n",
    "        plt.title(\"Training and Validation Accuracy\")\n",
    "        plt.xlabel(\"Epochs\")\n",
    "        plt.ylabel(\"Accuracy\")\n",
    "        plt.legend()\n",
    "        plt.show()\n",
    "        \n",
    "visual_train_status(history)"
   ]
  },
  {
   "cell_type": "code",
   "execution_count": 22,
   "metadata": {},
   "outputs": [
    {
     "name": "stderr",
     "output_type": "stream",
     "text": [
      "IOPub data rate exceeded.\n",
      "The notebook server will temporarily stop sending output\n",
      "to the client in order to avoid crashing it.\n",
      "To change this limit, set the config variable\n",
      "`--NotebookApp.iopub_data_rate_limit`.\n",
      "\n",
      "Current values:\n",
      "NotebookApp.iopub_data_rate_limit=1000000.0 (bytes/sec)\n",
      "NotebookApp.rate_limit_window=3.0 (secs)\n",
      "\n"
     ]
    },
    {
     "name": "stdout",
     "output_type": "stream",
     "text": [
      "[0.8798649972497269, 0.05616226]\n"
     ]
    }
   ],
   "source": [
    "i,j = 10,99\n",
    "pred = model.predict([np.array([users[i]]), np.array([movies[j]])])\n",
    "\n",
    "mse = model.evaluate(x=x_train, y=y_train, batch_size=128)\n",
    "print(mse)"
   ]
  },
  {
   "cell_type": "code",
   "execution_count": 23,
   "metadata": {},
   "outputs": [
    {
     "name": "stdout",
     "output_type": "stream",
     "text": [
      "[[3.3372936]]\n"
     ]
    }
   ],
   "source": [
    "print(pred)"
   ]
  },
  {
   "cell_type": "code",
   "execution_count": null,
   "metadata": {},
   "outputs": [],
   "source": []
  }
 ],
 "metadata": {
  "kernelspec": {
   "display_name": "Python 3",
   "language": "python",
   "name": "python3"
  },
  "language_info": {
   "codemirror_mode": {
    "name": "ipython",
    "version": 3
   },
   "file_extension": ".py",
   "mimetype": "text/x-python",
   "name": "python",
   "nbconvert_exporter": "python",
   "pygments_lexer": "ipython3",
   "version": "3.6.12"
  }
 },
 "nbformat": 4,
 "nbformat_minor": 4
}
