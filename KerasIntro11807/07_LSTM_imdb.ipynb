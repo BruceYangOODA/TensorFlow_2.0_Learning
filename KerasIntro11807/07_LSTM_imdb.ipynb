{
 "cells": [
  {
   "cell_type": "code",
   "execution_count": null,
   "metadata": {},
   "outputs": [],
   "source": []
  },
  {
   "cell_type": "code",
   "execution_count": null,
   "metadata": {},
   "outputs": [],
   "source": [
    "import tensorflow as tf\n",
    "from tensorflow.keras import datasets\n",
    "from tensorflow.keras import layers, models, optimizers\n",
    "import matplotlib.pyplot as plt\n",
    "import numpy as np\n",
    "from tf.keras.preprocessing import sequence "
   ]
  },
  {
   "cell_type": "code",
   "execution_count": 3,
   "metadata": {},
   "outputs": [
    {
     "name": "stdout",
     "output_type": "stream",
     "text": [
      "(25000,) (25000,)\n",
      "(25000,) (25000,)\n"
     ]
    }
   ],
   "source": [
    "from tensorflow.keras import datasets\n",
    "\n",
    "(x_train, y_train), (x_test, y_test) = datasets.imdb.load_data()\n",
    "print(x_train.shape,y_train.shape)\n",
    "print(x_test.shape,y_test.shape)"
   ]
  },
  {
   "cell_type": "code",
   "execution_count": 8,
   "metadata": {},
   "outputs": [
    {
     "name": "stdout",
     "output_type": "stream",
     "text": [
      "238.71364\n"
     ]
    },
    {
     "data": {
      "image/png": "[encoded data removed]",
      "text/plain": [
       "<Figure size 432x288 with 1 Axes>"
      ]
     },
     "metadata": {
      "needs_background": "light"
     },
     "output_type": "display_data"
    }
   ],
   "source": [
    "import matplotlib.pyplot as plt\n",
    "import numpy as np\n",
    "\n",
    "length_list = [int(len(comment)) for comment in x_train]\n",
    "print(np.mean(length_list))\n",
    "plt.hist(length_list, bins=range(min(length_list), max(length_list)+50, 50))\n",
    "plt.show()"
   ]
  },
  {
   "cell_type": "code",
   "execution_count": 17,
   "metadata": {},
   "outputs": [
    {
     "name": "stdout",
     "output_type": "stream",
     "text": [
      "vocab_size 88587\n"
     ]
    }
   ],
   "source": [
    "from tensorflow.keras.preprocessing import sequence \n",
    "\n",
    "(x_train, y_train), (x_test, y_test) = datasets.imdb.load_data()\n",
    "maxword = 400\n",
    "x_train = sequence.pad_sequences(x_train, maxlen=maxword)\n",
    "x_test = sequence.pad_sequences(x_test, maxlen=maxword)\n",
    "\n",
    "vocab_size = np.max([np.max(comment) for comment in x_train]) + 1\n",
    "print(\"vocab_size\",vocab_size)"
   ]
  },
  {
   "cell_type": "code",
   "execution_count": 20,
   "metadata": {},
   "outputs": [
    {
     "name": "stdout",
     "output_type": "stream",
     "text": [
      "Model: \"sequential_1\"\n",
      "_________________________________________________________________\n",
      "Layer (type)                 Output Shape              Param #   \n",
      "=================================================================\n",
      "embedding (Embedding)        (None, 400, 64)           5669568   \n",
      "_________________________________________________________________\n",
      "flatten (Flatten)            (None, 25600)             0         \n",
      "_________________________________________________________________\n",
      "dense_1 (Dense)              (None, 500)               12800500  \n",
      "_________________________________________________________________\n",
      "dense_2 (Dense)              (None, 400)               200400    \n",
      "_________________________________________________________________\n",
      "dense_3 (Dense)              (None, 200)               80200     \n",
      "_________________________________________________________________\n",
      "dense_4 (Dense)              (None, 50)                10050     \n",
      "_________________________________________________________________\n",
      "outputs (Dense)              (None, 1)                 51        \n",
      "=================================================================\n",
      "Total params: 18,760,769\n",
      "Trainable params: 18,760,769\n",
      "Non-trainable params: 0\n",
      "_________________________________________________________________\n"
     ]
    }
   ],
   "source": [
    "from tensorflow.keras import layers, models, optimizers\n",
    "import tensorflow as tf\n",
    "\n",
    "model = models.Sequential(name=\"imdb_model\")\n",
    "model.add(tf.keras.Input(shape=(maxword,), name=\"inputs\"))\n",
    "model.add(layers.Embedding(input_dim=vocab_size, output_dim=64, name=\"embedding\"))\n",
    "model.add(layers.Flatten(name=\"flatten\"))\n",
    "model.add(layers.Dense(units=500, activation=\"relu\", name=\"dense_1\"))\n",
    "model.add(layers.Dense(units=maxword, activation=\"relu\", name=\"dense_2\"))\n",
    "model.add(layers.Dense(units=(maxword//2), activation=\"relu\", name=\"dense_3\"))\n",
    "model.add(layers.Dense(units=50, activation=\"relu\", name=\"dense_4\"))\n",
    "model.add(layers.Dense(units=1, activation=\"sigmoid\", name=\"outputs\"))\n",
    "\n",
    "optimizer = optimizers.Adam(lr=0.01)\n",
    "model.compile(optimizer=optimizer, loss=\"binary_crossentropy\", metrics=[\"accuracy\"])\n",
    "model.summary()"
   ]
  },
  {
   "cell_type": "code",
   "execution_count": 21,
   "metadata": {},
   "outputs": [
    {
     "name": "stdout",
     "output_type": "stream",
     "text": [
      "Train on 25000 samples, validate on 25000 samples\n",
      "Epoch 1/6\n",
      "25000/25000 [==============================] - 51s 2ms/sample - loss: 0.4375 - accuracy: 0.8008 - val_loss: 0.3050 - val_accuracy: 0.8736\n",
      "Epoch 2/6\n",
      "25000/25000 [==============================] - 50s 2ms/sample - loss: 0.0897 - accuracy: 0.9703 - val_loss: 0.3852 - val_accuracy: 0.8584\n",
      "Epoch 3/6\n",
      "25000/25000 [==============================] - 50s 2ms/sample - loss: 0.0139 - accuracy: 0.9964 - val_loss: 1.1479 - val_accuracy: 0.8370\n",
      "Epoch 4/6\n",
      "25000/25000 [==============================] - 50s 2ms/sample - loss: 0.8697 - accuracy: 0.8104 - val_loss: 0.6931 - val_accuracy: 0.5000\n",
      "Epoch 5/6\n",
      "25000/25000 [==============================] - 51s 2ms/sample - loss: 0.6933 - accuracy: 0.5026 - val_loss: 0.6932 - val_accuracy: 0.5000\n",
      "Epoch 6/6\n",
      "25000/25000 [==============================] - 50s 2ms/sample - loss: 0.6933 - accuracy: 0.4975 - val_loss: 0.6932 - val_accuracy: 0.5000\n"
     ]
    }
   ],
   "source": [
    "history = model.fit(x_train, y_train, validation_data=(x_test, y_test), epochs=6,batch_size=128, verbose=1)"
   ]
  },
  {
   "cell_type": "code",
   "execution_count": 22,
   "metadata": {},
   "outputs": [
    {
     "data": {
      "text/plain": [
       "dict_keys(['loss', 'accuracy', 'val_loss', 'val_accuracy'])"
      ]
     },
     "execution_count": 22,
     "metadata": {},
     "output_type": "execute_result"
    }
   ],
   "source": [
    "history.history.keys()"
   ]
  },
  {
   "cell_type": "code",
   "execution_count": 23,
   "metadata": {},
   "outputs": [
    {
     "data": {
      "image/png": "[encoded data removed]",
      "text/plain": [
       "<Figure size 864x216 with 2 Axes>"
      ]
     },
     "metadata": {
      "needs_background": "light"
     },
     "output_type": "display_data"
    }
   ],
   "source": [
    "def visual_train_status(history):\n",
    "        plt.figure(figsize=(12,3))\n",
    "        loss = history.history[\"loss\"]\n",
    "        val_loss = history.history[\"val_loss\"]\n",
    "        epochs = range(1, len(loss)+1)  \n",
    "        plt.subplot(1,2,1)\n",
    "        plt.plot(epochs, loss, \"b--\", label=\"Training Loss\")\n",
    "        plt.plot(epochs, val_loss, \"r--\", label=\"Validation Loss\")\n",
    "        plt.title(\"Training and Validation Loss\")\n",
    "        plt.xlabel(\"Epochs\")\n",
    "        plt.ylabel(\"Loss\")\n",
    "        plt.legend()\n",
    "        \n",
    "        # 顯示訓練和驗證準確度\n",
    "        acc = history.history[\"accuracy\"]\n",
    "        val_acc = history.history[\"val_accuracy\"]\n",
    "        epochs = range(1, len(acc)+1)\n",
    "        plt.subplot(1,2,2)\n",
    "        plt.plot(epochs, acc, \"b-\", label=\"Training Acc\")\n",
    "        plt.plot(epochs, val_acc, \"r--\", label=\"Validation Acc\")\n",
    "        plt.title(\"Training and Validation Accuracy\")\n",
    "        plt.xlabel(\"Epochs\")\n",
    "        plt.ylabel(\"Accuracy\")\n",
    "        plt.legend()\n",
    "        plt.show()\n",
    "        \n",
    "visual_train_status(history)"
   ]
  },
  {
   "cell_type": "code",
   "execution_count": 26,
   "metadata": {},
   "outputs": [
    {
     "name": "stdout",
     "output_type": "stream",
     "text": [
      "score [0.6932240420913697, 0.5]\n"
     ]
    }
   ],
   "source": [
    "score = model.evaluate(x_test, y_test, verbose=0)\n",
    "print(\"score\",score)"
   ]
  },
  {
   "cell_type": "markdown",
   "metadata": {},
   "source": [
    "## Conv1D"
   ]
  },
  {
   "cell_type": "code",
   "execution_count": 30,
   "metadata": {},
   "outputs": [
    {
     "name": "stdout",
     "output_type": "stream",
     "text": [
      "Model: \"conv1D_model\"\n",
      "_________________________________________________________________\n",
      "Layer (type)                 Output Shape              Param #   \n",
      "=================================================================\n",
      "embedding (Embedding)        (None, 400, 64)           5669568   \n",
      "_________________________________________________________________\n",
      "conv_1 (Conv1D)              (None, 400, 64)           12352     \n",
      "_________________________________________________________________\n",
      "pool_1 (MaxPooling1D)        (None, 200, 64)           0         \n",
      "_________________________________________________________________\n",
      "drop_1 (Dropout)             (None, 200, 64)           0         \n",
      "_________________________________________________________________\n",
      "conv_2 (Conv1D)              (None, 200, 128)          24704     \n",
      "_________________________________________________________________\n",
      "pool_2 (MaxPooling1D)        (None, 100, 128)          0         \n",
      "_________________________________________________________________\n",
      "drop_2 (Dropout)             (None, 100, 128)          0         \n",
      "_________________________________________________________________\n",
      "flatten (Flatten)            (None, 12800)             0         \n",
      "_________________________________________________________________\n",
      "dense_1 (Dense)              (None, 64)                819264    \n",
      "_________________________________________________________________\n",
      "dense_2 (Dense)              (None, 32)                2080      \n",
      "_________________________________________________________________\n",
      "outputs (Dense)              (None, 1)                 33        \n",
      "=================================================================\n",
      "Total params: 6,528,001\n",
      "Trainable params: 6,528,001\n",
      "Non-trainable params: 0\n",
      "_________________________________________________________________\n"
     ]
    }
   ],
   "source": [
    "model = models.Sequential(name=\"conv1D_model\")\n",
    "model.add(tf.keras.Input(shape=(maxword,), name=\"inputs\"))\n",
    "model.add(layers.Embedding(input_dim=vocab_size, output_dim=64, name=\"embedding\"))\n",
    "model.add(layers.Conv1D(filters=64, kernel_size=3, padding=\"same\", activation=\"relu\", name=\"conv_1\"))\n",
    "model.add(layers.MaxPooling1D(pool_size=2, name=\"pool_1\"))\n",
    "model.add(layers.Dropout(rate=0.3, name=\"drop_1\"))\n",
    "model.add(layers.Conv1D(filters=128, kernel_size=3, padding=\"same\", activation=\"relu\", name=\"conv_2\"))\n",
    "model.add(layers.MaxPooling1D(pool_size=2, name=\"pool_2\"))\n",
    "model.add(layers.Dropout(rate=0.3, name=\"drop_2\"))\n",
    "model.add(layers.Flatten(name=\"flatten\"))\n",
    "model.add(layers.Dense(units=64, activation=\"relu\", name=\"dense_1\"))\n",
    "model.add(layers.Dense(units=32, activation=\"relu\", name=\"dense_2\"))\n",
    "model.add(layers.Dense(units=1, activation=\"sigmoid\", name=\"outputs\"))\n",
    "\n",
    "model.compile(loss = 'binary_crossentropy', optimizer = 'rmsprop', metrics = ['accuracy'])\n",
    "model.summary()"
   ]
  },
  {
   "cell_type": "code",
   "execution_count": 31,
   "metadata": {},
   "outputs": [
    {
     "name": "stdout",
     "output_type": "stream",
     "text": [
      "Train on 25000 samples, validate on 25000 samples\n",
      "Epoch 1/6\n",
      "25000/25000 [==============================] - 54s 2ms/sample - loss: 0.4990 - accuracy: 0.7219 - val_loss: 0.3076 - val_accuracy: 0.8639\n",
      "Epoch 2/6\n",
      "25000/25000 [==============================] - 55s 2ms/sample - loss: 0.2255 - accuracy: 0.9110 - val_loss: 0.2655 - val_accuracy: 0.8917\n",
      "Epoch 3/6\n",
      "25000/25000 [==============================] - 50s 2ms/sample - loss: 0.1509 - accuracy: 0.9437 - val_loss: 0.3081 - val_accuracy: 0.8861\n",
      "Epoch 4/6\n",
      "25000/25000 [==============================] - 51s 2ms/sample - loss: 0.1017 - accuracy: 0.9638 - val_loss: 0.4269 - val_accuracy: 0.8514\n",
      "Epoch 5/6\n",
      "25000/25000 [==============================] - 51s 2ms/sample - loss: 0.0726 - accuracy: 0.9752 - val_loss: 0.4192 - val_accuracy: 0.8616\n",
      "Epoch 6/6\n",
      "25000/25000 [==============================] - 51s 2ms/sample - loss: 0.0483 - accuracy: 0.9836 - val_loss: 0.4817 - val_accuracy: 0.8642\n"
     ]
    }
   ],
   "source": [
    "history = model.fit(x_train, y_train, validation_data=(x_test, y_test), epochs=6, batch_size=128, verbose=1)"
   ]
  },
  {
   "cell_type": "code",
   "execution_count": 32,
   "metadata": {},
   "outputs": [
    {
     "data": {
      "text/plain": [
       "dict_keys(['loss', 'accuracy', 'val_loss', 'val_accuracy'])"
      ]
     },
     "execution_count": 32,
     "metadata": {},
     "output_type": "execute_result"
    }
   ],
   "source": [
    "history.history.keys()"
   ]
  },
  {
   "cell_type": "code",
   "execution_count": 33,
   "metadata": {},
   "outputs": [
    {
     "data": {
      "image/png": "[encoded data removed]",
      "text/plain": [
       "<Figure size 864x216 with 2 Axes>"
      ]
     },
     "metadata": {
      "needs_background": "light"
     },
     "output_type": "display_data"
    }
   ],
   "source": [
    "visual_train_status(history)"
   ]
  },
  {
   "cell_type": "code",
   "execution_count": 35,
   "metadata": {},
   "outputs": [
    {
     "name": "stdout",
     "output_type": "stream",
     "text": [
      "25000/1 - 16s - loss: 0.7289 - accuracy: 0.8642\n",
      "[0.4816595212101936, 0.8642]\n"
     ]
    }
   ],
   "source": [
    "scores = model.evaluate(x_test, y_test, verbose=2)\n",
    "print(scores)"
   ]
  },
  {
   "cell_type": "markdown",
   "metadata": {},
   "source": [
    "# LSTM"
   ]
  },
  {
   "cell_type": "code",
   "execution_count": 37,
   "metadata": {},
   "outputs": [
    {
     "name": "stdout",
     "output_type": "stream",
     "text": [
      "Model: \"lstm_model\"\n",
      "_________________________________________________________________\n",
      "Layer (type)                 Output Shape              Param #   \n",
      "=================================================================\n",
      "embedding (Embedding)        (None, 400, 64)           5669568   \n",
      "_________________________________________________________________\n",
      "lstm_1 (LSTM)                (None, 400, 128)          98816     \n",
      "_________________________________________________________________\n",
      "drop_1 (Dropout)             (None, 400, 128)          0         \n",
      "_________________________________________________________________\n",
      "lstm_2 (LSTM)                (None, 400, 64)           49408     \n",
      "_________________________________________________________________\n",
      "drop_2 (Dropout)             (None, 400, 64)           0         \n",
      "_________________________________________________________________\n",
      "lstm_3 (LSTM)                (None, 32)                12416     \n",
      "_________________________________________________________________\n",
      "drop_3 (Dropout)             (None, 32)                0         \n",
      "_________________________________________________________________\n",
      "outputs (Dense)              (None, 1)                 33        \n",
      "=================================================================\n",
      "Total params: 5,830,241\n",
      "Trainable params: 5,830,241\n",
      "Non-trainable params: 0\n",
      "_________________________________________________________________\n"
     ]
    }
   ],
   "source": [
    "model = models.Sequential(name=\"lstm_model\")\n",
    "model.add(tf.keras.Input(shape=(maxword,), name=\"inputs\"))\n",
    "model.add(layers.Embedding(input_dim=vocab_size, output_dim=64, name=\"embedding\"))\n",
    "model.add(layers.LSTM(units=128, return_sequences=True, name=\"lstm_1\"))\n",
    "model.add(layers.Dropout(rate=0.3, name=\"drop_1\"))\n",
    "model.add(layers.LSTM(units=64, return_sequences=True, name=\"lstm_2\"))\n",
    "model.add(layers.Dropout(rate=0.3, name=\"drop_2\"))\n",
    "model.add(layers.LSTM(units=32, name=\"lstm_3\"))\n",
    "model.add(layers.Dropout(rate=0.3, name=\"drop_3\"))\n",
    "model.add(layers.Dense(1, activation=\"sigmoid\", name=\"outputs\"))\n",
    "\n",
    "model.compile(loss = 'binary_crossentropy', optimizer = 'rmsprop', metrics = ['accuracy'])\n",
    "model.summary()"
   ]
  },
  {
   "cell_type": "code",
   "execution_count": 40,
   "metadata": {},
   "outputs": [
    {
     "name": "stdout",
     "output_type": "stream",
     "text": [
      "Train on 2500 samples, validate on 250 samples\n",
      "Epoch 1/4\n",
      "2500/2500 [==============================] - 181s 72ms/sample - loss: 0.5987 - accuracy: 0.7092 - val_loss: 0.4847 - val_accuracy: 0.7680\n",
      "Epoch 2/4\n",
      "2500/2500 [==============================] - 181s 72ms/sample - loss: 0.4255 - accuracy: 0.8256 - val_loss: 0.4009 - val_accuracy: 0.8360\n",
      "Epoch 3/4\n",
      "2500/2500 [==============================] - 184s 74ms/sample - loss: 0.2499 - accuracy: 0.9100 - val_loss: 0.4073 - val_accuracy: 0.8200\n",
      "Epoch 4/4\n",
      "2500/2500 [==============================] - 184s 73ms/sample - loss: 0.1208 - accuracy: 0.9628 - val_loss: 0.6779 - val_accuracy: 0.7520\n"
     ]
    }
   ],
   "source": [
    "test_num = len(x_test) // 100\n",
    "x_test = x_test[:test_num]\n",
    "y_test = y_test[:test_num]\n",
    "train_num = len(x_train) // 10\n",
    "x_train = x_train[:train_num]\n",
    "y_train = y_train[:train_num]\n",
    "history = model.fit(x_train, y_train, validation_data=(x_test, y_test), epochs=4, batch_size=128, verbose=1)"
   ]
  },
  {
   "cell_type": "code",
   "execution_count": 41,
   "metadata": {},
   "outputs": [
    {
     "data": {
      "text/plain": [
       "dict_keys(['loss', 'accuracy', 'val_loss', 'val_accuracy'])"
      ]
     },
     "execution_count": 41,
     "metadata": {},
     "output_type": "execute_result"
    }
   ],
   "source": [
    "history.history.keys()"
   ]
  },
  {
   "cell_type": "code",
   "execution_count": 42,
   "metadata": {},
   "outputs": [
    {
     "data": {
      "image/png": "[encoded data removed]",
      "text/plain": [
       "<Figure size 864x216 with 2 Axes>"
      ]
     },
     "metadata": {
      "needs_background": "light"
     },
     "output_type": "display_data"
    }
   ],
   "source": [
    "visual_train_status(history)"
   ]
  },
  {
   "cell_type": "code",
   "execution_count": 43,
   "metadata": {},
   "outputs": [
    {
     "name": "stdout",
     "output_type": "stream",
     "text": [
      "250/1 - 2s - loss: 0.5350 - accuracy: 0.7520\n",
      "[0.6779489743709565, 0.752]\n"
     ]
    }
   ],
   "source": [
    "scores = model.evaluate(x_test, y_test, verbose=2)\n",
    "print(scores)"
   ]
  },
  {
   "cell_type": "code",
   "execution_count": null,
   "metadata": {},
   "outputs": [],
   "source": []
  }
 ],
 "metadata": {
  "kernelspec": {
   "display_name": "Python 3",
   "language": "python",
   "name": "python3"
  },
  "language_info": {
   "codemirror_mode": {
    "name": "ipython",
    "version": 3
   },
   "file_extension": ".py",
   "mimetype": "text/x-python",
   "name": "python",
   "nbconvert_exporter": "python",
   "pygments_lexer": "ipython3",
   "version": "3.6.12"
  }
 },
 "nbformat": 4,
 "nbformat_minor": 4
}
