{
 "cells": [
  {
   "cell_type": "markdown",
   "metadata": {},
   "source": [
    "### 07_img_mask\n",
    "from scipy import signal  \n",
    "c_digit = signal.convolve2d(img, sharpen, boundary=\"symm\", mode=\"same\")  \n",
    "img = np.load(file_path, allow_pickle=False, encoding='ASCII')  "
   ]
  },
  {
   "cell_type": "code",
   "execution_count": 1,
   "metadata": {},
   "outputs": [],
   "source": [
    "import os, sys\n",
    "import tensorflow as tf\n",
    "from tensorflow.keras.models import Sequential\n",
    "from tensorflow.keras.layers import Dense\n",
    "from tensorflow.keras.utils import to_categorical\n",
    "from tensorflow.keras.models import load_model\n",
    "import numpy as np\n",
    "import pandas as pd\n",
    "import matplotlib.pyplot as plt\n",
    "%matplotlib inline\n",
    "\n",
    "from scipy import signal"
   ]
  },
  {
   "cell_type": "code",
   "execution_count": 7,
   "metadata": {},
   "outputs": [
    {
     "data": {
      "image/png": "[encoded data removed]",
      "text/plain": [
       "<Figure size 432x288 with 1 Axes>"
      ]
     },
     "metadata": {
      "needs_background": "light"
     },
     "output_type": "display_data"
    }
   ],
   "source": [
    "img = np.load(os.path.join(\".\",\"sample\",\"digit8.npy\"))\n",
    "plt.figure()\n",
    "plt.imshow(img, cmap=\"gray\")\n",
    "plt.axis(\"on\")\n",
    "plt.show()"
   ]
  },
  {
   "cell_type": "code",
   "execution_count": 12,
   "metadata": {},
   "outputs": [
    {
     "name": "stdout",
     "output_type": "stream",
     "text": [
      "0  0  0  0  0  0  0  0  0  0  0  0  0  0  0  0  0  0  0  0  0  0  0  0  0  0  0  0  \n",
      "0  0  0  0  0  0  0  0  0  0  0  0  0  0  0  0  0  0  0  0  0  0  0  0  0  0  0  0  \n",
      "0  0  0  0  0  0  0  0  0  0  0  0  0  0  0  0  0  0  0  0  0  0  0  0  0  0  0  0  \n",
      "0  0  0  0  0  0  0  0  0  0  0  0  0  0  0  0  0  0  0  0  0  0  0  0  0  0  0  0  \n",
      "0  0  0  0  0  0  0  0  0  0  0  0  0  0  0  0  0  0  0  0  0  0  0  0  0  0  0  0  \n",
      "0  0  0  0  0  0  0  0  0  0  0  0  0  0  0  0  0  0  0  11  203  229  32  0  0  0  0  0  \n",
      "0  0  0  0  0  0  0  0  0  0  0  0  0  0  0  26  47  47  30  95  254  215  13  0  0  0  0  0  \n",
      "0  0  0  0  0  0  0  0  0  0  0  45  154  185  185  223  253  253  133  175  255  188  19  0  0  0  0  0  \n",
      "0  0  0  0  0  0  0  0  0  0  0  110  253  253  253  246  161  228  253  253  254  92  0  0  0  0  0  0  \n",
      "0  0  0  0  0  0  0  0  0  0  128  245  253  158  137  21  0  48  233  253  233  8  0  0  0  0  0  0  \n",
      "0  0  0  0  0  0  0  0  0  0  139  254  223  25  0  0  36  170  254  244  106  0  0  0  0  0  0  0  \n",
      "0  0  0  0  0  0  0  0  0  0  55  212  253  161  11  26  178  253  236  113  0  0  0  0  0  0  0  0  \n",
      "0  0  0  0  0  0  0  0  0  0  7  155  253  228  80  223  253  253  109  0  0  0  0  0  0  0  0  0  \n",
      "0  0  0  0  0  0  0  0  0  0  0  141  253  253  253  254  253  154  29  0  0  0  0  0  0  0  0  0  \n",
      "0  0  0  0  0  0  0  0  0  0  0  110  253  253  253  254  179  38  0  0  0  0  0  0  0  0  0  0  \n",
      "0  0  0  0  0  0  0  0  0  0  3  171  254  254  254  179  0  0  0  0  0  0  0  0  0  0  0  0  \n",
      "0  0  0  0  0  0  0  0  0  0  171  253  253  253  253  178  0  0  0  0  0  0  0  0  0  0  0  0  \n",
      "0  0  0  0  0  0  0  0  26  123  254  253  203  156  253  200  0  0  0  0  0  0  0  0  0  0  0  0  \n",
      "0  0  0  0  0  0  0  0  93  253  254  121  13  93  253  158  0  0  0  0  0  0  0  0  0  0  0  0  \n",
      "0  0  0  0  0  0  0  64  239  253  76  8  32  219  253  126  0  0  0  0  0  0  0  0  0  0  0  0  \n",
      "0  0  0  0  0  0  0  133  254  191  0  5  108  234  254  106  0  0  0  0  0  0  0  0  0  0  0  0  \n",
      "0  0  0  0  0  0  0  132  253  190  5  85  253  236  154  0  0  0  0  0  0  0  0  0  0  0  0  0  \n",
      "0  0  0  0  0  0  0  153  253  169  192  253  253  77  0  0  0  0  0  0  0  0  0  0  0  0  0  0  \n",
      "0  0  0  0  0  0  0  112  253  253  254  236  129  9  0  0  0  0  0  0  0  0  0  0  0  0  0  0  \n",
      "0  0  0  0  0  0  0  17  118  243  191  113  0  0  0  0  0  0  0  0  0  0  0  0  0  0  0  0  \n",
      "0  0  0  0  0  0  0  0  0  0  0  0  0  0  0  0  0  0  0  0  0  0  0  0  0  0  0  0  \n",
      "0  0  0  0  0  0  0  0  0  0  0  0  0  0  0  0  0  0  0  0  0  0  0  0  0  0  0  0  \n",
      "0  0  0  0  0  0  0  0  0  0  0  0  0  0  0  0  0  0  0  0  0  0  0  0  0  0  0  0  \n"
     ]
    }
   ],
   "source": [
    "for i in range(img.shape[0]):\n",
    "    for j in range(img.shape[1]):\n",
    "        print(img[i][j],' ',end='')\n",
    "    print()"
   ]
  },
  {
   "cell_type": "code",
   "execution_count": 17,
   "metadata": {},
   "outputs": [
    {
     "data": {
      "image/png": "[encoded data removed]",
      "text/plain": [
       "<Figure size 432x288 with 2 Axes>"
      ]
     },
     "metadata": {
      "needs_background": "light"
     },
     "output_type": "display_data"
    }
   ],
   "source": [
    "edge = [\n",
    "    [0, 1, 0],\n",
    "    [1,-4, 1],\n",
    "    [0, 1, 0]\n",
    "    ]\n",
    "plt.figure()\n",
    "plt.subplot(1,2,1)\n",
    "plt.imshow(img, cmap=\"gray\")\n",
    "plt.axis(\"on\")\n",
    "plt.title(\"original image\")\n",
    "\n",
    "c_digit = signal.convolve2d(img, edge, boundary=\"symm\", mode=\"same\")\n",
    "plt.subplot(1,2,2)\n",
    "plt.imshow(c_digit, cmap=\"gray\")\n",
    "plt.axis(\"on\")\n",
    "plt.title(\"edge-detection image\")\n",
    "plt.show()"
   ]
  },
  {
   "cell_type": "code",
   "execution_count": 18,
   "metadata": {},
   "outputs": [
    {
     "name": "stdout",
     "output_type": "stream",
     "text": [
      "0  0  0  0  0  0  0  0  0  0  0  0  0  0  0  0  0  0  0  0  0  0  0  0  0  0  0  0  \n",
      "0  0  0  0  0  0  0  0  0  0  0  0  0  0  0  0  0  0  0  0  0  0  0  0  0  0  0  0  \n",
      "0  0  0  0  0  0  0  0  0  0  0  0  0  0  0  0  0  0  0  0  0  0  0  0  0  0  0  0  \n",
      "0  0  0  0  0  0  0  0  0  0  0  0  0  0  0  0  0  0  0  0  0  0  0  0  0  0  0  0  \n",
      "0  0  0  0  0  0  0  0  0  0  0  0  0  0  0  0  0  0  0  11  203  229  32  0  0  0  0  0  \n",
      "0  0  0  0  0  0  0  0  0  0  0  0  0  0  0  26  47  47  41  254  -318  -466  114  32  0  0  0  0  \n",
      "0  0  0  0  0  0  0  0  0  0  0  45  154  185  211  166  138  142  155  90  -248  -176  214  13  0  0  0  0  \n",
      "0  0  0  0  0  0  0  0  0  0  45  84  -133  -148  -79  -182  -328  -351  179  36  -149  -171  125  19  0  0  0  0  \n",
      "0  0  0  0  0  0  0  0  0  0  238  103  -242  -163  -191  -326  83  -197  -165  -77  -183  82  111  0  0  0  0  0  \n",
      "0  0  0  0  0  0  0  0  0  128  -128  -235  -133  36  -116  299  266  439  -124  -49  -311  293  8  0  0  0  0  0  \n",
      "0  0  0  0  0  0  0  0  0  139  -119  -197  -107  442  173  83  204  -89  -133  -250  53  114  0  0  0  0  0  0  \n",
      "0  0  0  0  0  0  0  0  0  55  138  -131  -163  -127  223  308  -144  -175  -215  28  219  0  0  0  0  0  0  0  \n",
      "0  0  0  0  0  0  0  0  0  7  182  -7  -123  -165  395  -279  -105  -243  82  222  0  0  0  0  0  0  0  0  \n",
      "0  0  0  0  0  0  0  0  0  0  148  -46  -112  -25  -172  -33  -172  -43  147  29  0  0  0  0  0  0  0  0  \n",
      "0  0  0  0  0  0  0  0  0  0  113  125  -142  1  2  -151  -171  181  67  0  0  0  0  0  0  0  0  0  \n",
      "0  0  0  0  0  0  0  0  0  3  330  -64  -85  -2  -77  -30  358  38  0  0  0  0  0  0  0  0  0  0  \n",
      "0  0  0  0  0  0  0  0  26  294  -174  -164  -49  -96  -74  -80  178  0  0  0  0  0  0  0  0  0  0  0  \n",
      "0  0  0  0  0  0  0  26  112  41  -215  -181  -137  178  -150  -211  200  0  0  0  0  0  0  0  0  0  0  0  \n",
      "0  0  0  0  0  0  0  157  146  -289  -312  44  397  269  -255  -53  158  0  0  0  0  0  0  0  0  0  0  0  \n",
      "0  0  0  0  0  0  64  116  -292  -253  211  202  220  -264  -160  13  126  0  0  0  0  0  0  0  0  0  0  0  \n",
      "0  0  0  0  0  0  133  -82  -200  -67  277  181  92  -119  -269  -44  106  0  0  0  0  0  0  0  0  0  0  0  \n",
      "0  0  0  0  0  0  132  11  -183  -142  447  176  -330  -226  -126  260  0  0  0  0  0  0  0  0  0  0  0  0  \n",
      "0  0  0  0  0  0  153  -115  -184  212  -87  -246  -300  190  231  0  0  0  0  0  0  0  0  0  0  0  0  0  \n",
      "0  0  0  0  0  0  112  -25  -276  -93  -144  -195  -18  170  9  0  0  0  0  0  0  0  0  0  0  0  0  0  \n",
      "0  0  0  0  0  0  17  162  41  -410  -154  -25  242  9  0  0  0  0  0  0  0  0  0  0  0  0  0  0  \n",
      "0  0  0  0  0  0  0  17  118  243  191  113  0  0  0  0  0  0  0  0  0  0  0  0  0  0  0  0  \n",
      "0  0  0  0  0  0  0  0  0  0  0  0  0  0  0  0  0  0  0  0  0  0  0  0  0  0  0  0  \n",
      "0  0  0  0  0  0  0  0  0  0  0  0  0  0  0  0  0  0  0  0  0  0  0  0  0  0  0  0  \n"
     ]
    }
   ],
   "source": [
    "for i in range(c_digit.shape[0]):\n",
    "    for j in range(c_digit.shape[1]):\n",
    "        print(c_digit[i][j],' ',end='')\n",
    "    print()"
   ]
  },
  {
   "cell_type": "code",
   "execution_count": 19,
   "metadata": {},
   "outputs": [
    {
     "data": {
      "image/png": "[encoded data removed]",
      "text/plain": [
       "<Figure size 432x288 with 2 Axes>"
      ]
     },
     "metadata": {
      "needs_background": "light"
     },
     "output_type": "display_data"
    }
   ],
   "source": [
    "sharpen = [\n",
    "    [0, -1, 0],\n",
    "    [-1, 5, -1],\n",
    "    [0, -1, 0]\n",
    "    ]\n",
    "plt.figure()\n",
    "plt.subplot(1,2,1)\n",
    "plt.imshow(img, cmap=\"gray\")\n",
    "plt.axis(\"on\")\n",
    "plt.title(\"original image\")\n",
    "\n",
    "c_digit = signal.convolve2d(img, sharpen, boundary=\"symm\", mode=\"same\")\n",
    "plt.subplot(1,2,2)\n",
    "plt.imshow(c_digit, cmap=\"gray\")\n",
    "plt.axis(\"on\")\n",
    "plt.title(\"sharpen image\")\n",
    "plt.show()"
   ]
  },
  {
   "cell_type": "code",
   "execution_count": 20,
   "metadata": {},
   "outputs": [
    {
     "name": "stdout",
     "output_type": "stream",
     "text": [
      "0  0  0  0  0  0  0  0  0  0  0  0  0  0  0  0  0  0  0  0  0  0  0  0  0  0  0  0  \n",
      "0  0  0  0  0  0  0  0  0  0  0  0  0  0  0  0  0  0  0  0  0  0  0  0  0  0  0  0  \n",
      "0  0  0  0  0  0  0  0  0  0  0  0  0  0  0  0  0  0  0  0  0  0  0  0  0  0  0  0  \n",
      "0  0  0  0  0  0  0  0  0  0  0  0  0  0  0  0  0  0  0  0  0  0  0  0  0  0  0  0  \n",
      "0  0  0  0  0  0  0  0  0  0  0  0  0  0  0  0  0  0  0  -11  -203  -229  -32  0  0  0  0  0  \n",
      "0  0  0  0  0  0  0  0  0  0  0  0  0  0  0  -26  -47  -47  -41  -243  521  695  -82  -32  0  0  0  0  \n",
      "0  0  0  0  0  0  0  0  0  0  0  -45  -154  -185  -211  -140  -91  -95  -125  5  502  391  -201  -13  0  0  0  0  \n",
      "0  0  0  0  0  0  0  0  0  0  -45  -39  287  333  264  405  581  604  -46  139  404  359  -106  -19  0  0  0  0  \n",
      "0  0  0  0  0  0  0  0  0  0  -238  7  495  416  444  572  78  425  418  330  437  10  -111  0  0  0  0  0  \n",
      "0  0  0  0  0  0  0  0  0  -128  256  480  386  122  253  -278  -266  -391  357  302  544  -285  -8  0  0  0  0  0  \n",
      "0  0  0  0  0  0  0  0  0  -139  258  451  330  -417  -173  -83  -168  259  387  494  53  -114  0  0  0  0  0  0  \n",
      "0  0  0  0  0  0  0  0  0  -55  -83  343  416  288  -212  -282  322  428  451  85  -219  0  0  0  0  0  0  0  \n",
      "0  0  0  0  0  0  0  0  0  -7  -175  162  376  393  -315  502  358  496  27  -222  0  0  0  0  0  0  0  0  \n",
      "0  0  0  0  0  0  0  0  0  0  -148  187  365  278  425  287  425  197  -118  -29  0  0  0  0  0  0  0  0  \n",
      "0  0  0  0  0  0  0  0  0  0  -113  -15  395  252  251  405  350  -143  -67  0  0  0  0  0  0  0  0  0  \n",
      "0  0  0  0  0  0  0  0  0  -3  -327  235  339  256  331  209  -358  -38  0  0  0  0  0  0  0  0  0  0  \n",
      "0  0  0  0  0  0  0  0  -26  -294  345  417  302  349  327  258  -178  0  0  0  0  0  0  0  0  0  0  0  \n",
      "0  0  0  0  0  0  0  -26  -86  82  469  434  340  -22  403  411  -200  0  0  0  0  0  0  0  0  0  0  0  \n",
      "0  0  0  0  0  0  0  -157  -53  542  566  77  -384  -176  508  211  -158  0  0  0  0  0  0  0  0  0  0  0  \n",
      "0  0  0  0  0  0  -64  -52  531  506  -135  -194  -188  483  413  113  -126  0  0  0  0  0  0  0  0  0  0  0  \n",
      "0  0  0  0  0  0  -133  215  454  258  -277  -176  16  353  523  150  -106  0  0  0  0  0  0  0  0  0  0  0  \n",
      "0  0  0  0  0  0  -132  121  436  332  -442  -91  583  462  280  -260  0  0  0  0  0  0  0  0  0  0  0  0  \n",
      "0  0  0  0  0  0  -153  268  437  -43  279  499  553  -113  -231  0  0  0  0  0  0  0  0  0  0  0  0  0  \n",
      "0  0  0  0  0  0  -112  137  529  346  398  431  147  -161  -9  0  0  0  0  0  0  0  0  0  0  0  0  0  \n",
      "0  0  0  0  0  0  -17  -145  77  653  345  138  -242  -9  0  0  0  0  0  0  0  0  0  0  0  0  0  0  \n",
      "0  0  0  0  0  0  0  -17  -118  -243  -191  -113  0  0  0  0  0  0  0  0  0  0  0  0  0  0  0  0  \n",
      "0  0  0  0  0  0  0  0  0  0  0  0  0  0  0  0  0  0  0  0  0  0  0  0  0  0  0  0  \n",
      "0  0  0  0  0  0  0  0  0  0  0  0  0  0  0  0  0  0  0  0  0  0  0  0  0  0  0  0  \n"
     ]
    }
   ],
   "source": [
    "for i in range(c_digit.shape[0]):\n",
    "    for j in range(c_digit.shape[1]):\n",
    "        print(c_digit[i][j],' ',end='')\n",
    "    print()"
   ]
  },
  {
   "cell_type": "code",
   "execution_count": 21,
   "metadata": {},
   "outputs": [
    {
     "data": {
      "image/png": "[encoded data removed]",
      "text/plain": [
       "<Figure size 432x288 with 5 Axes>"
      ]
     },
     "metadata": {
      "needs_background": "light"
     },
     "output_type": "display_data"
    }
   ],
   "source": [
    "img = np.load(\"digit3.npy\")\n",
    "filters = [[\n",
    "    [-1, -1, -1],\n",
    "    [ 1,  1,  1],\n",
    "    [ 0,  0,  0]],\n",
    "   [[-1,  1,  0],\n",
    "    [-1,  1,  0],\n",
    "    [-1,  1,  0]],\n",
    "   [[ 0,  0,  0],\n",
    "    [ 1,  1,  1],\n",
    "    [-1, -1, -1]],\n",
    "   [[ 0,  1, -1],\n",
    "    [ 0,  1, -1],\n",
    "    [ 0,  1, -1]]]\n",
    "\n",
    "plt.figure()\n",
    "plt.subplot(1, 5, 1)\n",
    "plt.imshow(img, cmap=\"gray\")\n",
    "plt.axis(\"off\")\n",
    "plt.title(\"original\")\n",
    "\n",
    "for i in range(2, 6):\n",
    "    plt.subplot(1, 5, i)\n",
    "    c = signal.convolve2d(img, filters[i-2], boundary=\"symm\", mode=\"same\")\n",
    "    plt.imshow(c, cmap=\"gray\")\n",
    "    plt.axis(\"off\")\n",
    "    plt.title(\"filter\"+str(i-1))   \n",
    "\n",
    "plt.show()\n"
   ]
  },
  {
   "cell_type": "code",
   "execution_count": null,
   "metadata": {},
   "outputs": [],
   "source": []
  }
 ],
 "metadata": {
  "kernelspec": {
   "display_name": "Python 3",
   "language": "python",
   "name": "python3"
  },
  "language_info": {
   "codemirror_mode": {
    "name": "ipython",
    "version": 3
   },
   "file_extension": ".py",
   "mimetype": "text/x-python",
   "name": "python",
   "nbconvert_exporter": "python",
   "pygments_lexer": "ipython3",
   "version": "3.6.12"
  }
 },
 "nbformat": 4,
 "nbformat_minor": 4
}
