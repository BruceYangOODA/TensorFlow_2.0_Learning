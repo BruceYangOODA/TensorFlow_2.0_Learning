{
 "cells": [
  {
   "cell_type": "markdown",
   "metadata": {},
   "source": [
    "### 05_model_SafeLoad\n",
    "df.to_html(path)  \n",
    "json_str = model.to_json()  f.write(json_str)  \n",
    "model.save_weights(weight_path)  \n",
    "model.save(model_path)  "
   ]
  },
  {
   "cell_type": "code",
   "execution_count": 1,
   "metadata": {},
   "outputs": [],
   "source": [
    "import os, sys\n",
    "import tensorflow as tf\n",
    "from tensorflow.keras.models import Sequential\n",
    "from tensorflow.keras.layers import Dense\n",
    "from tensorflow.keras.utils import to_categorical\n",
    "import numpy as np\n",
    "import pandas as pd\n",
    "import matplotlib.pyplot as plt\n",
    "%matplotlib inline"
   ]
  },
  {
   "cell_type": "code",
   "execution_count": 3,
   "metadata": {},
   "outputs": [
    {
     "name": "stdout",
     "output_type": "stream",
     "text": [
      "   Pregnancies  Glucose  BloodPressure  SkinThickness  Insulin   BMI  \\\n",
      "0            6      148             72             35        0  33.6   \n",
      "1            1       85             66             29        0  26.6   \n",
      "2            8      183             64              0        0  23.3   \n",
      "3            1       89             66             23       94  28.1   \n",
      "4            0      137             40             35      168  43.1   \n",
      "\n",
      "   DiabetesPedigreeFunction  Age  Outcome  \n",
      "0                     0.627   50        1  \n",
      "1                     0.351   31        0  \n",
      "2                     0.672   32        1  \n",
      "3                     0.167   21        0  \n",
      "4                     2.288   33        1  \n",
      "(768, 9)\n"
     ]
    }
   ],
   "source": [
    "df = pd.read_csv(os.path.join(\".\",\"diabetes.csv\"))\n",
    "print(df.head())\n",
    "df.head().to_html(os.path.join(\".\",\"model_data\",\"Ch5_2_1.html\"))\n",
    "print(df.shape)"
   ]
  },
  {
   "cell_type": "code",
   "execution_count": 8,
   "metadata": {},
   "outputs": [
    {
     "data": {
      "text/plain": [
       "Pregnancies                   6.000\n",
       "Glucose                     148.000\n",
       "BloodPressure                72.000\n",
       "SkinThickness                35.000\n",
       "Insulin                       0.000\n",
       "BMI                          33.600\n",
       "DiabetesPedigreeFunction      0.627\n",
       "Age                          50.000\n",
       "Outcome                       1.000\n",
       "Name: 0, dtype: float64"
      ]
     },
     "execution_count": 8,
     "metadata": {},
     "output_type": "execute_result"
    }
   ],
   "source": [
    "df.loc[0,:]"
   ]
  },
  {
   "cell_type": "code",
   "execution_count": 32,
   "metadata": {},
   "outputs": [
    {
     "name": "stdout",
     "output_type": "stream",
     "text": [
      "Train on 768 samples\n",
      "Epoch 1/15\n",
      "768/768 [==============================] - 0s 538us/sample - loss: 0.7144 - accuracy: 0.5234\n",
      "Epoch 2/15\n",
      "768/768 [==============================] - 0s 120us/sample - loss: 0.6364 - accuracy: 0.6992\n",
      "Epoch 3/15\n",
      "768/768 [==============================] - 0s 107us/sample - loss: 0.6068 - accuracy: 0.7031\n",
      "Epoch 4/15\n",
      "768/768 [==============================] - 0s 105us/sample - loss: 0.5862 - accuracy: 0.7083\n",
      "Epoch 5/15\n",
      "768/768 [==============================] - ETA: 0s - loss: 0.5748 - accuracy: 0.72 - 0s 108us/sample - loss: 0.5696 - accuracy: 0.7344\n",
      "Epoch 6/15\n",
      "768/768 [==============================] - 0s 118us/sample - loss: 0.5563 - accuracy: 0.7318\n",
      "Epoch 7/15\n",
      "768/768 [==============================] - 0s 107us/sample - loss: 0.5443 - accuracy: 0.7474\n",
      "Epoch 8/15\n",
      "768/768 [==============================] - 0s 149us/sample - loss: 0.5338 - accuracy: 0.7513\n",
      "Epoch 9/15\n",
      "768/768 [==============================] - 0s 179us/sample - loss: 0.5246 - accuracy: 0.7526\n",
      "Epoch 10/15\n",
      "768/768 [==============================] - 0s 113us/sample - loss: 0.5170 - accuracy: 0.7630\n",
      "Epoch 11/15\n",
      "768/768 [==============================] - 0s 116us/sample - loss: 0.5102 - accuracy: 0.7630\n",
      "Epoch 12/15\n",
      "768/768 [==============================] - 0s 105us/sample - loss: 0.5046 - accuracy: 0.7708\n",
      "Epoch 13/15\n",
      "768/768 [==============================] - 0s 112us/sample - loss: 0.5001 - accuracy: 0.7773\n",
      "Epoch 14/15\n",
      "768/768 [==============================] - 0s 114us/sample - loss: 0.4956 - accuracy: 0.7799\n",
      "Epoch 15/15\n",
      "768/768 [==============================] - 0s 110us/sample - loss: 0.4913 - accuracy: 0.7865\n",
      "準確度 = 0.79\n"
     ]
    }
   ],
   "source": [
    "np.random.seed(10)\n",
    "dataset = df.values\n",
    "np.random.shuffle(dataset)\n",
    "X = dataset[:, 0:8]\n",
    "Y = dataset[:, 8]\n",
    "# 特徵標準化\n",
    "X -= X.mean(axis=0)\n",
    "X /= X.std(axis=0)\n",
    "np.random.seed(10)  # 指定亂數種子\n",
    "# 載入糖尿病資料集\n",
    "df = pd.read_csv(os.path.join(\".\",\"diabetes.csv\"))\n",
    "dataset = df.values\n",
    "np.random.shuffle(dataset)  # 使用亂數打亂資料\n",
    "# 分割成特徵資料和標籤資料\n",
    "X = dataset[:, 0:8]\n",
    "Y = dataset[:, 8]\n",
    "# 特徵標準化\n",
    "X -= X.mean(axis=0)\n",
    "X /= X.std(axis=0)\n",
    "# 定義模型\n",
    "# One-hot編碼\n",
    "Y = to_categorical(Y) ###\n",
    "model = Sequential()\n",
    "model.add(Dense(10, input_shape=(X.shape[1],), activation=\"relu\"))\n",
    "model.add(Dense(8, activation=\"relu\"))\n",
    "model.add(Dense(Y.shape[1], activation=\"softmax\"))\n",
    "# model.summary()   # 顯示模型摘要資訊\n",
    "# 編譯模型\n",
    "model.compile(loss=\"binary_crossentropy\", optimizer=\"sgd\",\n",
    "              metrics=[\"accuracy\"]) \n",
    "# 訓練模型\n",
    "model.fit(X, Y, epochs=15, batch_size=10, verbose=1)\n",
    "# 評估模型\n",
    "loss, accuracy = model.evaluate(X, Y, verbose=0)\n",
    "print(\"準確度 = {:.2f}\".format(accuracy))\n"
   ]
  },
  {
   "cell_type": "code",
   "execution_count": 34,
   "metadata": {},
   "outputs": [
    {
     "name": "stdout",
     "output_type": "stream",
     "text": [
      "訓練資料集的準確度 = 0.79\n",
      "測試資料集的準確度 = 0.72\n"
     ]
    },
    {
     "data": {
      "image/png": "[encoded data removed]",
      "text/plain": [
       "<Figure size 432x288 with 1 Axes>"
      ]
     },
     "metadata": {
      "needs_background": "light"
     },
     "output_type": "display_data"
    },
    {
     "data": {
      "image/png": "[encoded data removed]",
      "text/plain": [
       "<Figure size 432x288 with 1 Axes>"
      ]
     },
     "metadata": {
      "needs_background": "light"
     },
     "output_type": "display_data"
    }
   ],
   "source": [
    "X_train, Y_train = X[:690], Y[:690]     # 訓練資料前690筆\n",
    "X_test, Y_test = X[690:], Y[690:]       # 測試資料後78筆\n",
    "model.compile(loss=\"binary_crossentropy\", optimizer=\"adam\", \n",
    "              metrics=[\"accuracy\"])\n",
    "history = model.fit(X_train, Y_train, validation_data=(X_test, Y_test), \n",
    "          epochs=10, batch_size=10, verbose=0)\n",
    "# 評估模型\n",
    "loss, accuracy = model.evaluate(X_train, Y_train, verbose=0)\n",
    "print(\"訓練資料集的準確度 = {:.2f}\".format(accuracy))\n",
    "loss, accuracy = model.evaluate(X_test, Y_test, verbose=0)\n",
    "print(\"測試資料集的準確度 = {:.2f}\".format(accuracy))\n",
    "# 顯示訓練和驗證損失圖表\n",
    "\n",
    "loss = history.history[\"loss\"]\n",
    "epochs = range(1, len(loss)+1)\n",
    "val_loss = history.history[\"val_loss\"]\n",
    "plt.plot(epochs, loss, \"bo\", label=\"Training Loss\")\n",
    "plt.plot(epochs, val_loss, \"r\", label=\"Validation Loss\")\n",
    "plt.title(\"Training and Validation Loss\")\n",
    "plt.xlabel(\"Epochs\")\n",
    "plt.ylabel(\"Loss\")\n",
    "plt.legend()\n",
    "plt.show()\n",
    "# 顯示訓練和驗證準確度\n",
    "acc = history.history[\"accuracy\"]\n",
    "epochs = range(1, len(acc)+1)\n",
    "val_acc = history.history[\"val_accuracy\"]\n",
    "plt.plot(epochs, acc, \"b-\", label=\"Training Acc\")\n",
    "plt.plot(epochs, val_acc, \"r--\", label=\"Validation Acc\")\n",
    "plt.title(\"Training and Validation Accuracy\")\n",
    "plt.xlabel(\"Epochs\")\n",
    "plt.ylabel(\"Accuracy\")\n",
    "plt.legend()\n",
    "plt.show()\n"
   ]
  },
  {
   "cell_type": "code",
   "execution_count": 35,
   "metadata": {},
   "outputs": [],
   "source": [
    "json_str = model.to_json()\n",
    "with open(os.path.join(\".\",\"model_data\",\"Ch5_5_1Model.config\"), \"w\") as text_file:\n",
    "    text_file.write(json_str)\n",
    "# 儲存模型權重\n",
    "model.save_weights(os.path.join(\".\",\"model_data\",\"Ch5_5_1Model.weight\"))"
   ]
  },
  {
   "cell_type": "code",
   "execution_count": 36,
   "metadata": {},
   "outputs": [],
   "source": [
    "model.save(os.path.join(\".\",\"model_data\",\"Ch5_5_1a.h5\"))"
   ]
  },
  {
   "cell_type": "code",
   "execution_count": 41,
   "metadata": {},
   "outputs": [
    {
     "name": "stdout",
     "output_type": "stream",
     "text": [
      "[0.94350123 0.05649875]\n",
      "[0.52070904 0.47929093]\n",
      "[0.9692554  0.03074463]\n",
      "[0.11821854 0.8817815 ]\n",
      "[0.97141063 0.02858939]\n"
     ]
    }
   ],
   "source": [
    "predict_values = model.predict(X_test, batch_size=10, verbose=0)\n",
    "for i in range(5):\n",
    "    print(predict_values[i])"
   ]
  },
  {
   "cell_type": "code",
   "execution_count": null,
   "metadata": {},
   "outputs": [],
   "source": []
  }
 ],
 "metadata": {
  "kernelspec": {
   "display_name": "Python 3",
   "language": "python",
   "name": "python3"
  },
  "language_info": {
   "codemirror_mode": {
    "name": "ipython",
    "version": 3
   },
   "file_extension": ".py",
   "mimetype": "text/x-python",
   "name": "python",
   "nbconvert_exporter": "python",
   "pygments_lexer": "ipython3",
   "version": "3.6.12"
  }
 },
 "nbformat": 4,
 "nbformat_minor": 4
}
