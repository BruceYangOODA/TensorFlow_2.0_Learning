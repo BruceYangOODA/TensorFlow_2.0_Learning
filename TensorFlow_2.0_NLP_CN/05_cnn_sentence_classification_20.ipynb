{
 "cells": [
  {
   "cell_type": "markdown",
   "metadata": {},
   "source": [
    "### 05_cnn_sentence_classification_20"
   ]
  },
  {
   "cell_type": "code",
   "execution_count": null,
   "metadata": {},
   "outputs": [],
   "source": []
  },
  {
   "cell_type": "code",
   "execution_count": 1,
   "metadata": {},
   "outputs": [],
   "source": [
    "# url = 'http://cogcomp.org/Data/QA/QC/'\n",
    "# dir_name = 'question-classif-data'\n",
    "\n",
    "# def maybe_download(dir_name, filename, expected_bytes):\n",
    "#   \"\"\"Download a file if not present, and make sure it's the right size.\"\"\"\n",
    "#   if not os.path.exists(dir_name):\n",
    "#         os.mkdir(dir_name)\n",
    "#   if not os.path.exists(os.path.join(dir_name,filename)):\n",
    "#     filename, _ = urlretrieve(url + filename, os.path.join(dir_name,filename))\n",
    "#   print(os.path.join(dir_name,filename))\n",
    "#   statinfo = os.stat(os.path.join(dir_name,filename))\n",
    "#   if statinfo.st_size == expected_bytes:\n",
    "#     print('Found and verified %s' % os.path.join(dir_name,filename))\n",
    "#   else:\n",
    "#     print(statinfo.st_size)\n",
    "#     raise Exception(\n",
    "#       'Failed to verify ' + os.path.join(dir_name,filename) + '. Can you get to it with a browser?')\n",
    "#   return filename\n",
    "\n",
    "# filename = maybe_download(dir_name, 'train_1000.label', 60774)\n",
    "# test_filename = maybe_download(dir_name, 'TREC_10.label',23354)"
   ]
  },
  {
   "cell_type": "code",
   "execution_count": 59,
   "metadata": {},
   "outputs": [
    {
     "name": "stdout",
     "output_type": "stream",
     "text": [
      "train_1000.label Exist\n",
      "TREC_10.label Exist\n",
      "['DESC', 'ENTY', 'ABBR', 'HUM', 'NUM', 'LOC']\n"
     ]
    }
   ],
   "source": [
    "import os\n",
    "\n",
    "url = 'http://cogcomp.org/Data/QA/QC/'\n",
    "data_dir = os.path.join(\".\",\"data\",\"question-classif-data\")\n",
    "filename = 'train_1000.label'\n",
    "test_filename = 'TREC_10.label'\n",
    "\n",
    "filenames = ['train_1000.label','TREC_10.label']\n",
    "for i in range(len(filenames)):\n",
    "    file_exists = os.path.isfile(os.path.join(data_dir,filenames[i]))\n",
    "    if file_exists:\n",
    "        print(filenames[i],\"Exist\")\n",
    "    else:\n",
    "        print(\"download file\")\n",
    "        # maybe_downlaod\n",
    "\n",
    "batch_size = 128 # We process 16 questions at a time\n",
    "all_labels = []\n",
    "with open(os.path.join(data_dir,filename)) as f:\n",
    "    for line in f.readlines():\n",
    "        content = line.split(\":\")\n",
    "        if content[0] not in all_labels:\n",
    "            all_labels.append(content[0])\n",
    "            \n",
    "print(all_labels)"
   ]
  },
  {
   "cell_type": "code",
   "execution_count": 60,
   "metadata": {},
   "outputs": [
    {
     "name": "stdout",
     "output_type": "stream",
     "text": [
      "questions 1000 labels 1000\n",
      "max_sent_length 33\n",
      "quest ['ind', 'who', 'killed', 'gandhi', '?']\n",
      "label HUM\n",
      "{'DESC': 0, 'ENTY': 1, 'ABBR': 2, 'HUM': 3, 'NUM': 4, 'LOC': 5}\n",
      "HUM\n",
      "label [0. 0. 0. 1. 0. 0.]\n"
     ]
    }
   ],
   "source": [
    "max_sent_length = 0 #問句中最長陣列的句子長度\n",
    "questions = []\n",
    "labels = []\n",
    "\n",
    "with open(os.path.join(data_dir,filename),\"r\",encoding=\"latin-1\") as f:\n",
    "    for line in f:\n",
    "        content = line.split(\":\")\n",
    "        label, question = content[0],content[1]\n",
    "        question = question.lower().split()\n",
    "        questions.append(question)\n",
    "        labels.append(label)\n",
    "        if len(question) > max_sent_length:\n",
    "            max_sent_length= len(question)\n",
    "print(\"questions\",len(questions),\"labels\",len(labels))\n",
    "print(\"max_sent_length\",max_sent_length)\n",
    "print(\"quest\",questions[13])\n",
    "print(\"label\",labels[13])\n",
    "temp_label = labels[13]\n",
    "from tensorflow.keras import utils\n",
    "label_dict = dict()\n",
    "for i in range(len(all_labels)):\n",
    "    label_dict[all_labels[i]] = i    \n",
    "print(label_dict)\n",
    "\n",
    "labels = [label_dict[label] for label in labels]\n",
    "labels = utils.to_categorical(labels)\n",
    "print(temp_label)\n",
    "print(\"label\",labels[13])"
   ]
  },
  {
   "cell_type": "code",
   "execution_count": 61,
   "metadata": {},
   "outputs": [
    {
     "name": "stdout",
     "output_type": "stream",
     "text": [
      "10835 Words found.\n",
      "Found 2773 words in the vocabulary. \n",
      "data shape (1000, 33)\n"
     ]
    }
   ],
   "source": [
    "import collections\n",
    "from tensorflow.keras.preprocessing import sequence\n",
    "\n",
    "words = []\n",
    "count = []\n",
    "data = []\n",
    "for sent in questions:\n",
    "    words.extend(sent)\n",
    "print('%d Words found.'%len(words))  \n",
    "count.extend(collections.Counter(words).most_common())\n",
    "vocab_size = len(count) + 1\n",
    "print('Found %d words in the vocabulary. '%vocab_size)\n",
    "dictionary = dict()\n",
    "dictionary[\"PAD\"] = len(dictionary)\n",
    "for word, _ in count:\n",
    "    dictionary[word] = len(dictionary)\n",
    "    \n",
    "reverse_dictionary = dict(zip(dictionary.values(), dictionary.keys())) \n",
    "\n",
    "for sent in questions:\n",
    "    sent_idx = list()\n",
    "    for word in sent:\n",
    "        index = dictionary[word]\n",
    "        sent_idx.append(index)\n",
    "    data.append(sent_idx)\n",
    "data = sequence.pad_sequences(data, padding='post')\n",
    "print(\"data shape\",data.shape)"
   ]
  },
  {
   "cell_type": "code",
   "execution_count": 62,
   "metadata": {},
   "outputs": [
    {
     "name": "stdout",
     "output_type": "stream",
     "text": [
      "ind(7) who(13) killed(145) gandhi(793) ?(1) PAD(0) PAD(0) PAD(0) PAD(0) PAD(0) PAD(0) PAD(0) PAD(0) PAD(0) PAD(0) PAD(0) PAD(0) PAD(0) PAD(0) PAD(0) PAD(0) PAD(0) PAD(0) PAD(0) PAD(0) PAD(0) PAD(0) PAD(0) PAD(0) PAD(0) PAD(0) PAD(0) PAD(0) "
     ]
    }
   ],
   "source": [
    "index = 13\n",
    "for word in data[index]:\n",
    "    print(\"%s(%d)\"%(reverse_dictionary[word],word), end=\" \")"
   ]
  },
  {
   "cell_type": "code",
   "execution_count": 63,
   "metadata": {},
   "outputs": [
    {
     "name": "stdout",
     "output_type": "stream",
     "text": [
      "Model: \"model_4\"\n",
      "_________________________________________________________________\n",
      "Layer (type)                 Output Shape              Param #   \n",
      "=================================================================\n",
      "input_5 (InputLayer)         [(None, 33)]              0         \n",
      "_________________________________________________________________\n",
      "embedding_4 (Embedding)      (None, 33, 128)           354944    \n",
      "_________________________________________________________________\n",
      "lstm_4 (LSTM)                (None, 128)               131584    \n",
      "_________________________________________________________________\n",
      "dense_4 (Dense)              (None, 6)                 774       \n",
      "=================================================================\n",
      "Total params: 487,302\n",
      "Trainable params: 487,302\n",
      "Non-trainable params: 0\n",
      "_________________________________________________________________\n"
     ]
    }
   ],
   "source": [
    "from tensorflow.keras import layers, models, optimizers\n",
    "from tensorflow import keras\n",
    "\n",
    "embed_dim = 128\n",
    "\n",
    "inputs = keras.Input(shape=(max_sent_length,))\n",
    "d = layers.Embedding(input_dim=vocab_size, output_dim=embed_dim)(inputs)\n",
    "d = layers.LSTM(units=embed_dim, dropout=0.2, recurrent_dropout=0.2)(d)\n",
    "outputs = layers.Dense(units=len(all_labels), activation=\"softmax\")(d)\n",
    "model = models.Model(inputs, outputs)\n",
    "model.summary()\n",
    "\n",
    "optimizer = optimizers.Adam()"
   ]
  },
  {
   "cell_type": "code",
   "execution_count": null,
   "metadata": {},
   "outputs": [],
   "source": [
    "_data = []\n",
    "_labels = []\n",
    "for i in range(len(data)//batch_size):    \n",
    "    _data.append(data[i*batch_size:(i+1)*batch_size])\n",
    "    _labels.append(labels[i*batch_size:(i+1)*batch_size])"
   ]
  },
  {
   "cell_type": "code",
   "execution_count": 145,
   "metadata": {},
   "outputs": [
    {
     "name": "stdout",
     "output_type": "stream",
     "text": [
      "epoch 0 step 3 : loss 1.5584677 ; accuracy 0.484375\n",
      "epoch 0 step 6 : loss 1.5766143 ; accuracy 0.4375\n",
      "total_step 7\n",
      "epoch 1 step 3 : loss 1.5569447 ; accuracy 0.484375\n",
      "epoch 1 step 6 : loss 1.571444 ; accuracy 0.4375\n",
      "total_step 7\n",
      "epoch 2 step 3 : loss 1.5639052 ; accuracy 0.484375\n",
      "epoch 2 step 6 : loss 1.5770938 ; accuracy 0.4375\n",
      "total_step 7\n",
      "Final epoch 2 : loss 1.4898777 ; accuracy 0.546875\n"
     ]
    }
   ],
   "source": [
    "import tensorflow as tf\n",
    "\n",
    "@tf.function\n",
    "def compute_loss(logits, labels):\n",
    "    loss = tf.nn.softmax_cross_entropy_with_logits(logits=logits, labels=labels)\n",
    "    #print(\"loss\",loss)\n",
    "    return tf.reduce_mean(loss)\n",
    "\n",
    "@tf.function\n",
    "def compute_accuracy(logits, labels):\n",
    "    predictions = tf.argmax(logits, axis=1)\n",
    "    labels = tf.argmax(labels, axis=1)\n",
    "    #print(\"predictions\",predictions)\n",
    "    #print(\"labels\",labels)\n",
    "    return tf.reduce_mean(tf.cast(tf.equal(predictions, labels), tf.float32))\n",
    "\n",
    "@tf.function\n",
    "def train_one_step(model, optimizer, x, y):    \n",
    "    with tf.GradientTape() as tape:\n",
    "        logits = model(x)\n",
    "        #print(\"logits\",logits)\n",
    "        #print(\"y\",y)\n",
    "        loss = compute_loss(logits, y)\n",
    "    grads = tape.gradient(loss, model.trainable_variables)\n",
    "    optimizer.apply_gradients(zip(grads, model.trainable_variables))\n",
    "    accuracy = compute_accuracy(logits, y)\n",
    "    \n",
    "    return loss, accuracy\n",
    "\n",
    "train_accuracy_over_time = []\n",
    "train_loss_over_time = []\n",
    "\n",
    "def train(epoch, model, optimizer):\n",
    "    loss = 0.0\n",
    "    accuracy = 0.0\n",
    "    total_step = 0\n",
    "    for step, (x,y) in enumerate(zip(_data,_labels)):            \n",
    "        total_step += 1\n",
    "        loss, accuracy = train_one_step(model, optimizer, x, y)\n",
    "        if (step+1) % 3 == 0:\n",
    "            train_loss_over_time.append(loss.numpy())\n",
    "            train_accuracy_over_time.append(accuracy.numpy())\n",
    "            print('epoch', epoch,\"step\",(step+1), ': loss', loss.numpy(), '; accuracy', accuracy.numpy())\n",
    "    print(\"total_step\",total_step)\n",
    "    return loss, accuracy\n",
    "\n",
    "for epoch in range(3):\n",
    "    loss, accuracy = train(epoch, model, optimizer)\n",
    "print('Final epoch', epoch, ': loss', loss.numpy(), '; accuracy', accuracy.numpy())\n",
    "    "
   ]
  },
  {
   "cell_type": "code",
   "execution_count": 146,
   "metadata": {},
   "outputs": [
    {
     "data": {
      "image/png": "[encoded data removed]",
      "text/plain": [
       "<Figure size 1080x288 with 2 Axes>"
      ]
     },
     "metadata": {
      "needs_background": "light"
     },
     "output_type": "display_data"
    }
   ],
   "source": [
    "import matplotlib.pyplot as plt\n",
    "x_axis = np.arange(len(train_loss_over_time))\n",
    "\n",
    "fig, ax = plt.subplots(nrows=1, ncols=2)\n",
    "fig.set_size_inches(w=15,h=4)\n",
    "ax[0].plot(x_axis, train_loss_over_time)\n",
    "ax[0].set_xlabel('Epochs',fontsize=18)\n",
    "ax[0].set_ylabel('Average train loss',fontsize=18)\n",
    "ax[0].set_title('Training Loss over Time',fontsize=20)\n",
    "ax[1].plot(x_axis, train_accuracy_over_time)\n",
    "ax[1].set_xlabel('Epochs',fontsize=18)\n",
    "ax[1].set_ylabel('Test accuracy',fontsize=18)\n",
    "ax[1].set_title('Test Accuracy over Time',fontsize=20)\n",
    "plt.show()\n",
    "#fig.savefig('mnist_stats.jpg')"
   ]
  },
  {
   "cell_type": "code",
   "execution_count": 151,
   "metadata": {},
   "outputs": [
    {
     "name": "stdout",
     "output_type": "stream",
     "text": [
      "labels [3 1 5 0 4 0 0 4 1 3]\n",
      "preds  [3 1 1 1 3 1 1 1 1 3]\n"
     ]
    }
   ],
   "source": [
    "import numpy as np\n",
    "index = 13\n",
    "test_data = data[index:index+10]\n",
    "test_labels = labels[index:index+10]\n",
    "preds = model.predict(test_data)\n",
    "test_labels = np.argmax(test_labels, axis=1)\n",
    "preds = np.argmax(preds, axis=1)\n",
    "\n",
    "print(\"labels\",test_labels)\n",
    "print(\"preds \",preds)"
   ]
  },
  {
   "cell_type": "code",
   "execution_count": null,
   "metadata": {},
   "outputs": [],
   "source": []
  }
 ],
 "metadata": {
  "kernelspec": {
   "display_name": "Python 3",
   "language": "python",
   "name": "python3"
  },
  "language_info": {
   "codemirror_mode": {
    "name": "ipython",
    "version": 3
   },
   "file_extension": ".py",
   "mimetype": "text/x-python",
   "name": "python",
   "nbconvert_exporter": "python",
   "pygments_lexer": "ipython3",
   "version": "3.6.12"
  }
 },
 "nbformat": 4,
 "nbformat_minor": 4
}
