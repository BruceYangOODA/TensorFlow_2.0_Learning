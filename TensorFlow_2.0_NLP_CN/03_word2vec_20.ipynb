{
 "cells": [
  {
   "cell_type": "markdown",
   "metadata": {},
   "source": [
    "### 03_word2vec"
   ]
  },
  {
   "cell_type": "code",
   "execution_count": null,
   "metadata": {},
   "outputs": [],
   "source": []
  },
  {
   "cell_type": "code",
   "execution_count": 5,
   "metadata": {},
   "outputs": [
    {
     "name": "stdout",
     "output_type": "stream",
     "text": [
      "Starting Reading data\n",
      "Data size 11634270\n",
      "Example words (start):  ['Propaganda', 'is', 'a', 'concerted', 'set', 'of', 'messages', 'aimed', 'at', 'influencing']\n",
      "Example words (end):  ['useless', 'for', 'cultivation', '.', 'and', 'people', 'have', 'sex', 'there', '.']\n"
     ]
    }
   ],
   "source": [
    "import os\n",
    "import bz2\n",
    "import nltk\n",
    "\n",
    "words = []\n",
    "file_path = os.path.join(\".\",\"data\" ,\"wikipedia2text-extracted.txt.bz2\")\n",
    "with bz2.BZ2File(file_path) as f:\n",
    "    print(\"Starting Reading data\")\n",
    "    file_string = f.read().decode(\"utf-8\")\n",
    "    file_string = nltk.word_tokenize(file_string)\n",
    "    words.extend(file_string)\n",
    "\n",
    "print('Data size %d' % len(words))\n",
    "print('Example words (start): ',words[:10])\n",
    "print('Example words (end): ',words[-10:])"
   ]
  },
  {
   "cell_type": "code",
   "execution_count": 18,
   "metadata": {},
   "outputs": [
    {
     "name": "stdout",
     "output_type": "stream",
     "text": [
      "[['Propaganda', 'is', 'a', 'concerted', 'set', 'of', 'messages', 'aimed', 'at', 'influencing', 'the', 'opinions', 'or', 'behavior', 'of', 'large', 'numbers', 'of', 'people', '.', 'Instead', 'of', 'impartially', 'providing', 'information', ',', 'propaganda', 'in', 'its', 'most', 'basic', 'sense', 'presents', 'information', 'in', 'order', 'to', 'influence', 'its', 'audience', '.', 'The', 'most', 'effective', 'propaganda', 'is', 'often', 'completely', 'truthful', ',', 'but', 'some', 'propaganda', 'presents', 'facts', 'selectively', 'to', 'encourage', 'a', 'particular', 'synthesis', ',', 'or', 'gives', 'loaded', 'messages', 'in', 'order', 'to', 'produce', 'an', 'emotional', 'rather', 'than', 'rational', 'response', 'to', 'the', 'information', 'presented', '.', 'The', 'desired', 'result', 'is', 'a', 'change', 'of', 'the', 'cognitive', 'narrative', 'of', 'the', 'subject', 'in', 'the', 'target', 'audience', '.', 'The']]\n"
     ]
    }
   ],
   "source": [
    "import collections\n",
    "\n",
    "vocab_size = 30000\n",
    "count = [[\"UNK\",-1]]\n",
    "count.extend(collections.Counter(words).most_common(vocab_size-1))\n",
    "dictionary = dict()\n",
    "\n",
    "for word, _ in count:\n",
    "    dictionary[word] = len(dictionary)\n",
    "data = list()\n",
    "unk_count = 0\n",
    "for word in words:\n",
    "    if word in dictionary:\n",
    "        index = dictionary[word]\n",
    "    else:\n",
    "        index = 0\n",
    "        unk_count += 1\n",
    "    data.append(index)\n",
    "    \n",
    "count[0][1] = unk_count\n",
    "reverse_dictionary = dict(zip(dictionary.values(), dictionary.keys()))\n",
    "assert len(dictionary) == vocab_size\n",
    "print([words[:100]])"
   ]
  },
  {
   "cell_type": "code",
   "execution_count": 10,
   "metadata": {},
   "outputs": [
    {
     "name": "stdout",
     "output_type": "stream",
     "text": [
      "Most common words (+UNK) [['UNK', 590492], ('the', 690297), (',', 632179), ('.', 439931), ('of', 402970), ('and', 309512)]\n",
      "Sample data\n",
      "Propaganda(18393) is(9) a(8) concerted(19089) set(221) of(4) messages(6441) aimed(3769) at(30) influencing(12061) the(1) opinions(7479) or(27) behavior(1776) of(4) large(125) numbers(530) of(4) people(90) .(3) Instead(2514) of(4) UNK(0) providing(1769) information(614) ,(2) propaganda(3273) in(6) its(40) most(50) basic(1265) sense(894) presents(5397) information(614) in(6) order(263) to(7) influence(411) its(40) audience(1832) .(3) The(10) most(50) effective(1393) propaganda(3273) is(9) often(107) completely(1150) UNK(0) ,(2) but(43) some(62) propaganda(3273) presents(5397) facts(7027) selectively(18059) to(7) encourage(5698) a(8) particular(470) synthesis(4409) ,(2) or(27) gives(1802) loaded(7719) messages(6441) in(6) order(263) to(7) produce(730) an(28) emotional(4286) rather(345) than(57) rational(4109) response(1086) to(7) the(1) information(614) presented(1475) .(3) The(10) desired(4866) result(283) is(9) a(8) change(499) of(4) the(1) cognitive(5068) narrative(4420) of(4) the(1) subject(715) in(6) the(1) target(2495) audience(1832) .(3) The(10) "
     ]
    }
   ],
   "source": [
    "print('Most common words (+UNK)', count[:6])\n",
    "print('Sample data')\n",
    "for i in range(100):\n",
    "    print(\"%s(%d)\"%(reverse_dictionary[data[i]],data[i]), end=\" \")\n",
    "\n",
    "del words  # Hint to reduce memory."
   ]
  },
  {
   "cell_type": "code",
   "execution_count": 27,
   "metadata": {},
   "outputs": [
    {
     "name": "stdout",
     "output_type": "stream",
     "text": [
      "Model: \"model_4\"\n",
      "_________________________________________________________________\n",
      "Layer (type)                 Output Shape              Param #   \n",
      "=================================================================\n",
      "inputs (InputLayer)          [(None, 4)]               0         \n",
      "_________________________________________________________________\n",
      "embed_1 (Embedding)          (None, 4, 128)            3840000   \n",
      "_________________________________________________________________\n",
      "lstm (LSTM)                  (None, 128)               131584    \n",
      "_________________________________________________________________\n",
      "outputs (Dense)              (None, 30000)             3870000   \n",
      "=================================================================\n",
      "Total params: 7,841,584\n",
      "Trainable params: 7,841,584\n",
      "Non-trainable params: 0\n",
      "_________________________________________________________________\n"
     ]
    }
   ],
   "source": [
    "from tensorflow.keras import optimizers, layers, models\n",
    "from tensorflow import keras\n",
    "embed_size = 128\n",
    "inputs = keras.Input(shape=(4,), name=\"inputs\")\n",
    "d = layers.Embedding(input_dim=vocab_size, output_dim=embed_size, name=\"embed_1\")(inputs)\n",
    "d = layers.LSTM(units=embed_size, dropout=0.2, recurrent_dropout=0.2)(d)\n",
    "outputs = layers.Dense(units=vocab_size, activation=\"softmax\", name=\"outputs\")(d)\n",
    "model = models.Model(inputs, outputs)\n",
    "model.summary()\n",
    "\n",
    "optimizer = optimizers.Adam()"
   ]
  },
  {
   "cell_type": "code",
   "execution_count": 64,
   "metadata": {},
   "outputs": [],
   "source": [
    "import tensorflow as tf\n",
    "import numpy as np\n",
    "import collections\n",
    "from tensorflow.keras import utils\n",
    "\n",
    "data_index = 0\n",
    "window_size = 2\n",
    "span = 2 * window_size + 1\n",
    "batch_size = 128\n",
    "data_size = int(len(data)//100)\n",
    "data = data[:data_size]\n",
    "\n",
    "\n",
    "def generate_dataset_cbow():\n",
    "    global data_index\n",
    "    batch = np.ndarray(shape=(batch_size,span-1), dtype=np.int32)\n",
    "    labels = np.ndarray(shape=(batch_size,), dtype=np.int64)\n",
    "    buffer = collections.deque(maxlen=span)\n",
    "    \n",
    "    for _ in range(span):\n",
    "        buffer.append(data[data_index])\n",
    "        data_index = (data_index+1) % data_size\n",
    "        \n",
    "    for i in range(batch_size):\n",
    "        target = window_size\n",
    "        target_to_avoid = [window_size]\n",
    "        col_idx = 0\n",
    "        for j in range(span):\n",
    "            if j == span//2:\n",
    "                continue\n",
    "            batch[i, col_idx] = buffer[j]\n",
    "            col_idx += 1\n",
    "        labels[i] = buffer[target]\n",
    "        \n",
    "        buffer.append(data[data_index])\n",
    "        data_index = (data_index+1) % len(data)       \n",
    "    \n",
    "    #labels = utils.to_categorical(labels, num_classes=vocab_size, dtype=np.int64)    \n",
    "    return batch, labels\n"
   ]
  },
  {
   "cell_type": "code",
   "execution_count": 103,
   "metadata": {},
   "outputs": [
    {
     "name": "stdout",
     "output_type": "stream",
     "text": [
      "epoch 0 step 100 : loss 10.195211 ; accuracy 0.1171875\n",
      "epoch 0 step 200 : loss 10.175871 ; accuracy 0.1328125\n",
      "epoch 0 step 300 : loss 10.188414 ; accuracy 0.125\n",
      "epoch 0 step 400 : loss 10.234638 ; accuracy 0.0703125\n",
      "epoch 0 step 500 : loss 10.19216 ; accuracy 0.1171875\n",
      "epoch 0 step 600 : loss 10.179636 ; accuracy 0.125\n",
      "epoch 0 step 700 : loss 10.184181 ; accuracy 0.125\n",
      "epoch 0 step 800 : loss 10.125515 ; accuracy 0.1875\n",
      "epoch 0 step 900 : loss 10.123022 ; accuracy 0.1875\n",
      "epoch 0 step 1000 : loss 10.093235 ; accuracy 0.2265625\n",
      "epoch 0 step 1100 : loss 10.128441 ; accuracy 0.1796875\n",
      "total_step 1163\n",
      "epoch 1 step 100 : loss 10.174669 ; accuracy 0.1328125\n",
      "epoch 1 step 200 : loss 10.161349 ; accuracy 0.1484375\n",
      "epoch 1 step 300 : loss 10.087364 ; accuracy 0.2265625\n",
      "epoch 1 step 400 : loss 10.161015 ; accuracy 0.1484375\n",
      "epoch 1 step 500 : loss 10.123077 ; accuracy 0.1875\n",
      "epoch 1 step 600 : loss 10.209995 ; accuracy 0.1015625\n",
      "epoch 1 step 700 : loss 10.122937 ; accuracy 0.1875\n",
      "epoch 1 step 800 : loss 10.118849 ; accuracy 0.1953125\n",
      "epoch 1 step 900 : loss 10.12347 ; accuracy 0.1875\n",
      "epoch 1 step 1000 : loss 10.11754 ; accuracy 0.1953125\n",
      "epoch 1 step 1100 : loss 10.100246 ; accuracy 0.2109375\n",
      "total_step 1163\n",
      "epoch 2 step 100 : loss 10.106243 ; accuracy 0.203125\n",
      "epoch 2 step 200 : loss 10.111494 ; accuracy 0.1953125\n",
      "epoch 2 step 300 : loss 10.121091 ; accuracy 0.1875\n",
      "epoch 2 step 400 : loss 10.0989275 ; accuracy 0.2109375\n",
      "epoch 2 step 500 : loss 10.12281 ; accuracy 0.1875\n",
      "epoch 2 step 600 : loss 10.058951 ; accuracy 0.2578125\n",
      "epoch 2 step 700 : loss 10.114426 ; accuracy 0.1953125\n",
      "epoch 2 step 800 : loss 10.139408 ; accuracy 0.171875\n",
      "epoch 2 step 900 : loss 10.104206 ; accuracy 0.2109375\n",
      "epoch 2 step 1000 : loss 10.169848 ; accuracy 0.140625\n",
      "epoch 2 step 1100 : loss 10.120619 ; accuracy 0.1875\n",
      "total_step 1163\n",
      "Final epoch 2 : loss 10.131705 ; accuracy 0.1796875\n"
     ]
    }
   ],
   "source": [
    "data_index = 0\n",
    "@tf.function\n",
    "def compute_loss(logits, labels):\n",
    "    return tf.reduce_mean(tf.nn.sparse_softmax_cross_entropy_with_logits(logits=logits, labels=labels))\n",
    "\n",
    "@tf.function\n",
    "def compute_accuracy(logits, labels):\n",
    "    predictions = tf.argmax(logits, axis=1)\n",
    "    return tf.reduce_mean(tf.cast(tf.equal(predictions, labels), tf.float32))\n",
    "\n",
    "@tf.function\n",
    "def train_one_step(model, optimizer, x, y):    \n",
    "    with tf.GradientTape() as tape:\n",
    "        logits = model(x)\n",
    "        loss = compute_loss(logits, y)\n",
    "    grads = tape.gradient(loss, model.trainable_variables)\n",
    "    optimizer.apply_gradients(zip(grads, model.trainable_variables))\n",
    "    accuracy = compute_accuracy(logits, y)\n",
    "    \n",
    "    return loss, accuracy\n",
    "\n",
    "train_accuracy_over_time = []\n",
    "train_loss_over_time = []\n",
    "\n",
    "def train(epoch, model, optimizer):\n",
    "    loss = 0.0\n",
    "    accuracy = 0.0\n",
    "    total_step = 0\n",
    "    for step in range(int(data_size//100)):\n",
    "        (x, y) = generate_dataset_cbow()\n",
    "        total_step += 1\n",
    "        loss, accuracy = train_one_step(model, optimizer, x, y)\n",
    "        if (step+1) % 100 == 0:\n",
    "            train_loss_over_time.append(loss.numpy())\n",
    "            train_accuracy_over_time.append(accuracy.numpy())\n",
    "            print('epoch', epoch,\"step\",(step+1), ': loss', loss.numpy(), '; accuracy', accuracy.numpy())\n",
    "    print(\"total_step\",total_step)\n",
    "    return loss, accuracy\n",
    "\n",
    "for epoch in range(3):\n",
    "    loss, accuracy = train(epoch, model, optimizer)\n",
    "print('Final epoch', epoch, ': loss', loss.numpy(), '; accuracy', accuracy.numpy())\n",
    "    "
   ]
  },
  {
   "cell_type": "code",
   "execution_count": 104,
   "metadata": {},
   "outputs": [
    {
     "data": {
      "image/png": "[encoded data removed]",
      "text/plain": [
       "<Figure size 1080x288 with 2 Axes>"
      ]
     },
     "metadata": {
      "needs_background": "light"
     },
     "output_type": "display_data"
    }
   ],
   "source": [
    "import matplotlib.pyplot as plt\n",
    "x_axis = np.arange(len(train_loss_over_time))\n",
    "\n",
    "fig, ax = plt.subplots(nrows=1, ncols=2)\n",
    "fig.set_size_inches(w=15,h=4)\n",
    "ax[0].plot(x_axis, train_loss_over_time)\n",
    "ax[0].set_xlabel('Epochs',fontsize=18)\n",
    "ax[0].set_ylabel('Average train loss',fontsize=18)\n",
    "ax[0].set_title('Training Loss over Time',fontsize=20)\n",
    "ax[1].plot(x_axis, train_accuracy_over_time)\n",
    "ax[1].set_xlabel('Epochs',fontsize=18)\n",
    "ax[1].set_ylabel('Test accuracy',fontsize=18)\n",
    "ax[1].set_title('Test Accuracy over Time',fontsize=20)\n",
    "plt.show()\n",
    "#fig.savefig('mnist_stats.jpg')"
   ]
  },
  {
   "cell_type": "code",
   "execution_count": 138,
   "metadata": {},
   "outputs": [
    {
     "name": "stdout",
     "output_type": "stream",
     "text": [
      "['exception', 'Square', 'systematic', 'beneath', 'Easter', 'overthrow', '3.1', 'screenplays', 'contrived']\n"
     ]
    }
   ],
   "source": [
    "#result(283) is(9) a(8) change(499) of(4)\n",
    "test_data = [283,9,499,4]\n",
    "test_data = np.array(test_data)\n",
    "test_data = np.expand_dims(test_data, axis=0)\n",
    "preds = model.predict(test_data)\n",
    "preds = -preds[0]\n",
    "preds = preds.argsort()\n",
    "preds = np.argwhere(a>29990)\n",
    "print([reverse_dictionary[pred[0]] for pred in preds])"
   ]
  },
  {
   "cell_type": "code",
   "execution_count": null,
   "metadata": {},
   "outputs": [],
   "source": []
  }
 ],
 "metadata": {
  "kernelspec": {
   "display_name": "Python 3",
   "language": "python",
   "name": "python3"
  },
  "language_info": {
   "codemirror_mode": {
    "name": "ipython",
    "version": 3
   },
   "file_extension": ".py",
   "mimetype": "text/x-python",
   "name": "python",
   "nbconvert_exporter": "python",
   "pygments_lexer": "ipython3",
   "version": "3.6.12"
  }
 },
 "nbformat": 4,
 "nbformat_minor": 4
}
