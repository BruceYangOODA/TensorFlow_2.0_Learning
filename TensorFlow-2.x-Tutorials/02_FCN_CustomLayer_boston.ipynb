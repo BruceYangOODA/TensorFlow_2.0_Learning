{
 "cells": [
  {
   "cell_type": "markdown",
   "metadata": {},
   "source": [
    "## Fully-connected Network"
   ]
  },
  {
   "cell_type": "code",
   "execution_count": 2,
   "metadata": {},
   "outputs": [],
   "source": [
    "import os, sys\n",
    "import tensorflow as tf\n",
    "from tensorflow.keras import layers, models, datasets, optimizers, metrics\n",
    "import matplotlib.pyplot as plt"
   ]
  },
  {
   "cell_type": "code",
   "execution_count": 8,
   "metadata": {},
   "outputs": [
    {
     "name": "stdout",
     "output_type": "stream",
     "text": [
      "datasets: (60000, 28, 28) (60000,) 0 255\n",
      "Model: \"sequential\"\n",
      "_________________________________________________________________\n",
      "Layer (type)                 Output Shape              Param #   \n",
      "=================================================================\n",
      "hidden_1 (Dense)             multiple                  200960    \n",
      "_________________________________________________________________\n",
      "hidden_2 (Dense)             multiple                  32896     \n",
      "_________________________________________________________________\n",
      "hidden_3 (Dense)             multiple                  8256      \n",
      "_________________________________________________________________\n",
      "outputs (Dense)              multiple                  650       \n",
      "=================================================================\n",
      "Total params: 242,762\n",
      "Trainable params: 242,762\n",
      "Non-trainable params: 0\n",
      "_________________________________________________________________\n"
     ]
    }
   ],
   "source": [
    "(x,y),(x_t,y_t) = datasets.mnist.load_data()\n",
    "def mnist_dataset():\n",
    "    (xs, ys), _ = datasets.mnist.load_data()\n",
    "    print('datasets:', xs.shape, ys.shape, xs.min(), xs.max())\n",
    "    xs = tf.convert_to_tensor(xs, dtype=tf.float32) / 255.\n",
    "    db = tf.data.Dataset.from_tensor_slices((xs,ys))\n",
    "    db = db.batch(32)\n",
    "    return db\n",
    "\n",
    "def create_model():\n",
    "    model = models.Sequential()\n",
    "    #model.add(layers.Input(shape=(), name=\"inputs\"))\n",
    "    model.add(layers.Dense(units=256, activation=\"relu\", name=\"hidden_1\"))\n",
    "    model.add(layers.Dense(units=128, activation=\"relu\", name=\"hidden_2\"))\n",
    "    model.add(layers.Dense(units=64, activation=\"relu\", name=\"hidden_3\"))\n",
    "    model.add(layers.Dense(units=10, activation=\"softmax\", name=\"outputs\"))\n",
    "    \n",
    "    model.build(input_shape=(None,28*28))\n",
    "    model.summary()\n",
    "    return model\n",
    "\n",
    "dataset = mnist_dataset()\n",
    "model = create_model()\n",
    "optimizer = optimizers.SGD(lr=0.05)    \n",
    "acc_metrics = metrics.Accuracy()"
   ]
  },
  {
   "cell_type": "code",
   "execution_count": 12,
   "metadata": {},
   "outputs": [
    {
     "name": "stdout",
     "output_type": "stream",
     "text": [
      "step200 loss: 0.3513, accu: 0.8125\n",
      "step400 loss: 0.3542, accu: 0.7188\n",
      "step600 loss: 0.1325, accu: 0.9688\n",
      "step800 loss: 0.1722, accu: 0.8750\n",
      "step1000 loss: 0.1348, accu: 0.9375\n",
      "step1200 loss: 0.2089, accu: 0.8125\n",
      "step1400 loss: 0.0092, accu: 1.0000\n",
      "step1600 loss: 0.1091, accu: 0.9375\n",
      "step1800 loss: 0.0348, accu: 1.0000\n"
     ]
    },
    {
     "data": {
      "text/plain": [
       "<tf.Tensor: id=169767, shape=(), dtype=float32, numpy=0.015465901>"
      ]
     },
     "execution_count": 12,
     "metadata": {},
     "output_type": "execute_result"
    }
   ],
   "source": [
    "acc_metrics = metrics.Accuracy()\n",
    "def train():\n",
    "    step_total = 0\n",
    "    for step, (x,y) in enumerate(dataset):\n",
    "        with tf.GradientTape() as tape:\n",
    "            # [b, 28, 28] => [b, 784]\n",
    "            x = tf.reshape(x, (-1, 28*28))\n",
    "            outputs = model(x)\n",
    "            y_onehot = tf.one_hot(y, depth=10)\n",
    "            # shape(1,10)\n",
    "            loss = tf.square(outputs-y_onehot) \n",
    "            # shape(1,)\n",
    "            loss = tf.reduce_sum(loss) / 32 #batch_size = 32\n",
    "            \n",
    "        acc_metrics.update_state(tf.argmax(outputs, axis=1), y)\n",
    "        grads = tape.gradient(loss, model.trainable_variables)\n",
    "        optimizer.apply_gradients(zip(grads, model.trainable_variables))\n",
    "        step_total += 1\n",
    "        \n",
    "        if (step+1) % 200 ==0:\n",
    "            print(\"step{} loss: {:.4f}, accu: {:.4f}\".format((step+1), float(loss), acc_metrics.result().numpy()))\n",
    "            #print(step, 'loss:', float(loss), 'acc:', acc_meter.result().numpy())\n",
    "        acc_metrics.reset_states()\n",
    "        \n",
    "    print(\"finish training after \",step_total)\n",
    "    return loss\n",
    "\n",
    "train()"
   ]
  },
  {
   "cell_type": "code",
   "execution_count": 14,
   "metadata": {},
   "outputs": [
    {
     "name": "stdout",
     "output_type": "stream",
     "text": [
      "predictions:7210414969\n",
      "labels:\t    7210414959"
     ]
    },
    {
     "data": {
      "image/png": "[encoded data removed]",
      "text/plain": [
       "<Figure size 864x216 with 10 Axes>"
      ]
     },
     "metadata": {
      "needs_background": "light"
     },
     "output_type": "display_data"
    }
   ],
   "source": [
    "predictions = model.predict(x_t[0:10].reshape((10,28*28)))\n",
    "print(\"predictions:\",end=\"\")\n",
    "for predict in predictions:\n",
    "    print(predict.argmax(axis=0),end=\"\")\n",
    "print()\n",
    "print(\"labels:\\t    \",end=\"\")\n",
    "for label in y_t[0:10]:\n",
    "    print(label,end=\"\")\n",
    "plt.figure(figsize=(12,3))\n",
    "for i in range(10):\n",
    "    plt.subplot(1,10,(i+1))\n",
    "    plt.imshow(x_t[i], cmap=\"gray\")\n",
    "    plt.axis(\"off\")\n",
    "plt.show()"
   ]
  },
  {
   "cell_type": "markdown",
   "metadata": {},
   "source": [
    "## Custom Layer"
   ]
  },
  {
   "cell_type": "code",
   "execution_count": 16,
   "metadata": {},
   "outputs": [],
   "source": [
    "import os, sys\n",
    "import numpy as np\n",
    "import matplotlib.pyplot as plt\n",
    "import tensorflow as tf\n",
    "from tensorflow.keras import layers, models, datasets, optimizers, metrics\n"
   ]
  },
  {
   "cell_type": "code",
   "execution_count": 36,
   "metadata": {},
   "outputs": [],
   "source": [
    "\n",
    "class Regressor(layers.Layer):\n",
    "    def __init__(self):\n",
    "        super(Regressor, self).__init__()\n",
    "        # [dim_in, dim_out]\n",
    "        self.w = self.add_variable('abc', [13, 1])\n",
    "        # [dim_out]\n",
    "        self.b = self.add_variable('def', [1])\n",
    "    def call(self, x):\n",
    "        x = tf.matmul(x, self.w) + self.b\n",
    "        return x"
   ]
  },
  {
   "cell_type": "code",
   "execution_count": 37,
   "metadata": {},
   "outputs": [
    {
     "name": "stdout",
     "output_type": "stream",
     "text": [
      "x_t.shape: (404, 13)\n",
      "x_v.shape (102, 13)\n",
      "y_t.shape (404,)\n"
     ]
    }
   ],
   "source": [
    "(x_t, y_t), (x_v, y_v) = datasets.boston_housing.load_data()\n",
    "def boston_dataset():\n",
    "    (x_t, y_t), (x_v, y_v) = datasets.boston_housing.load_data()\n",
    "    print(\"x_t.shape:\", x_t.shape)\n",
    "    print(\"x_v.shape\", x_v.shape)\n",
    "    print(\"y_t.shape\", y_t.shape)\n",
    "    x_t, x_v = x_t.astype(np.float32), x_v.astype(np.float32)\n",
    "    ds_train = tf.data.Dataset.from_tensor_slices((x_t,y_t)).batch(64)\n",
    "    ds_val = tf.data.Dataset.from_tensor_slices((x_v,y_v)).batch(102)\n",
    "    return ds_train, ds_val\n",
    "\n",
    "ds_train, ds_val = boston_dataset()\n",
    "layer = Regressor()\n",
    "criteon = tf.keras.losses.MeanSquaredError()\n",
    "optimizer = optimizers.Adam(learning_rate=1e-2)\n"
   ]
  },
  {
   "cell_type": "code",
   "execution_count": 47,
   "metadata": {},
   "outputs": [
    {
     "name": "stdout",
     "output_type": "stream",
     "text": [
      "x_t.shape: (404, 13)\n",
      "x_v.shape (102, 13)\n",
      "y_t.shape (404,)\n",
      "2 loss:218.6010\n",
      "4 loss:57.1966\n",
      "6 loss:46.9522\n",
      "epoch 0 loss:56.0306 \n",
      "2 loss:192.4347\n",
      "4 loss:49.7373\n",
      "6 loss:45.7310\n",
      "epoch 1 loss:46.5643 \n",
      "2 loss:167.7911\n",
      "4 loss:43.6559\n",
      "6 loss:45.2009\n",
      "epoch 2 loss:38.8629 \n"
     ]
    }
   ],
   "source": [
    "ds_train, ds_val = boston_dataset()\n",
    "def train(dataset):\n",
    "    for epoch in range(3):\n",
    "        step_total = 0\n",
    "        for step, (x,y) in enumerate(dataset):\n",
    "            step_total += 1\n",
    "            with tf.GradientTape() as tape:\n",
    "                logits = layer(x)\n",
    "                logits =  tf.squeeze(logits, axis=1)\n",
    "                loss = criteon(y, logits)\n",
    "            grads = tape.gradient(loss, layer.trainable_variables)\n",
    "            optimizer.apply_gradients(zip(grads, layer.trainable_variables))\n",
    "            \n",
    "            if (step+1) % 2 == 0:\n",
    "                print((step+1), \"loss:{:.4f}\".format(loss / step_total))\n",
    "        print(\"epoch\",epoch, \"loss:{:.4f} \".format(loss.numpy() / step_total))\n",
    "    \n",
    "train(ds_train)"
   ]
  },
  {
   "cell_type": "code",
   "execution_count": 48,
   "metadata": {},
   "outputs": [
    {
     "name": "stdout",
     "output_type": "stream",
     "text": [
      "epoch 0 loss:253.9355 \n",
      "epoch 1 loss:251.0693 \n",
      "epoch 2 loss:248.1583 \n"
     ]
    }
   ],
   "source": [
    "train(ds_val)"
   ]
  },
  {
   "cell_type": "code",
   "execution_count": 41,
   "metadata": {},
   "outputs": [
    {
     "data": {
      "text/plain": [
       "[<tf.Variable 'abc:0' shape=(13, 1) dtype=float32, numpy=\n",
       " array([[ 0.81119305],\n",
       "        [ 0.5033438 ],\n",
       "        [ 0.09181662],\n",
       "        [-0.25702798],\n",
       "        [ 0.7896131 ],\n",
       "        [ 0.44819722],\n",
       "        [ 0.06434384],\n",
       "        [ 0.82559675],\n",
       "        [-0.45509833],\n",
       "        [ 0.08913743],\n",
       "        [-0.12547153],\n",
       "        [-0.1355514 ],\n",
       "        [ 0.5431093 ]], dtype=float32)>,\n",
       " <tf.Variable 'def:0' shape=(1,) dtype=float32, numpy=array([0.84987164], dtype=float32)>]"
      ]
     },
     "execution_count": 41,
     "metadata": {},
     "output_type": "execute_result"
    }
   ],
   "source": [
    "layer.weights"
   ]
  },
  {
   "cell_type": "code",
   "execution_count": 42,
   "metadata": {},
   "outputs": [
    {
     "name": "stdout",
     "output_type": "stream",
     "text": [
      "<tf.Variable 'abc:0' shape=(13, 1) dtype=float32, numpy=\n",
      "array([[ 0.81119305],\n",
      "       [ 0.5033438 ],\n",
      "       [ 0.09181662],\n",
      "       [-0.25702798],\n",
      "       [ 0.7896131 ],\n",
      "       [ 0.44819722],\n",
      "       [ 0.06434384],\n",
      "       [ 0.82559675],\n",
      "       [-0.45509833],\n",
      "       [ 0.08913743],\n",
      "       [-0.12547153],\n",
      "       [-0.1355514 ],\n",
      "       [ 0.5431093 ]], dtype=float32)>\n",
      "\n",
      "<tf.Variable 'def:0' shape=(1,) dtype=float32, numpy=array([0.84987164], dtype=float32)>\n"
     ]
    }
   ],
   "source": [
    "print(layer.w)\n",
    "print()\n",
    "print(layer.b)"
   ]
  },
  {
   "cell_type": "code",
   "execution_count": null,
   "metadata": {},
   "outputs": [],
   "source": []
  }
 ],
 "metadata": {
  "kernelspec": {
   "display_name": "Python 3",
   "language": "python",
   "name": "python3"
  },
  "language_info": {
   "codemirror_mode": {
    "name": "ipython",
    "version": 3
   },
   "file_extension": ".py",
   "mimetype": "text/x-python",
   "name": "python",
   "nbconvert_exporter": "python",
   "pygments_lexer": "ipython3",
   "version": "3.6.12"
  }
 },
 "nbformat": 4,
 "nbformat_minor": 4
}
