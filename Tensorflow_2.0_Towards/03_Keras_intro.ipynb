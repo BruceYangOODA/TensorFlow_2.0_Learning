{
 "cells": [
  {
   "cell_type": "markdown",
   "metadata": {},
   "source": [
    "### [Keras API](https://keras.io/api/)\n",
    "### [Numpy API](https://numpy.org/doc/stable/reference/index.html)\n",
    "\n",
    "自定義 Layer\n",
    "自定義 Model  \n",
    "模型儲存  \n",
    "\n",
    "model.save_weigits(filepath)\n",
    "model = create_model()\n",
    "model.load_weights(filepath)\n",
    "\n",
    "model.save(filepath)\n",
    "model = models.load_model(filepath)\n",
    "\n",
    "numpy.random.randint(low, high=None, size=None, dtype='l')"
   ]
  },
  {
   "cell_type": "code",
   "execution_count": 3,
   "metadata": {},
   "outputs": [],
   "source": [
    "import tensorflow as tf\n",
    "import numpy as np\n",
    "from tensorflow import keras\n",
    "from tensorflow.keras import layers, models\n",
    "\n",
    "seed = 13\n",
    "np.random.seed(seed)"
   ]
  },
  {
   "cell_type": "code",
   "execution_count": 90,
   "metadata": {},
   "outputs": [
    {
     "name": "stdout",
     "output_type": "stream",
     "text": [
      "txt_source_1 [18 48 10 16 38 34 25 44 35 26]\n",
      "txt_source_2 [52 96 87 63 60 59 61 52 82 69]\n",
      "txt_source_1 (10,) \t txt_source_2 (10,)\n",
      "inputs 的第0維是不確定尺寸的batch_size，layers 通常會忽視第0維，所以第0維要先 expand_dims 擴充出來\n",
      "txt_source_1 (1, 10) \t txt_source_2 (1, 10)\n",
      "embedding_1 input_dim=100 , output_dim=13, inputs=(None, 10)\n",
      "embedding_1 outputs.shape (None, 10, 13)\n",
      "embedding_2 input_dim=100 , output_dim=13, inputs=(None, 10)\n",
      "embedding_2 outputs.shape (None, 10, 13)\n",
      "lstm_1 units=32, inputs=(None, 10, 13)\n",
      "lstm_1 outputs.shape (None, 32)\n",
      "lstm_2 units=64, inputs=(None, 10, 13)\n",
      "lstm_2 outputs.shape (None, 64)\n",
      "\n",
      "第一批次投入, batch_size=1\n",
      "lstm_1_outputs.shape (1, 32)\n",
      "lstm_2_outputs.shape (1, 64)\n",
      "合併 lstm_1_outputs lstm_2_outputs ，第0軸同值，以第0軸進行合併\n",
      "concate_layer_outputs.shape (1, 96)\n",
      "\n",
      "合併層分別餵值給 不同的 predict 層，給出不同的 predict\n",
      "predict_1.shape (1, 1)\n",
      "predict_2.shape (1, 100)\n"
     ]
    }
   ],
   "source": [
    "seed = 13\n",
    "np.random.seed(seed)\n",
    "num_words = 100\n",
    "txt_source_1 = np.random.randint(low=50, size=10)\n",
    "txt_source_2 = np.random.randint(low=50,high=100, size=10)\n",
    "embedding_1 = layers.Embedding(input_dim=num_words, output_dim=13)\n",
    "embedding_2 = layers.Embedding(input_dim=num_words, output_dim=13)\n",
    "lstm_1 = layers.LSTM(32)\n",
    "lstm_2 = layers.LSTM(64)\n",
    "\n",
    "output_layer_1 = layers.Dense(units=1)\n",
    "output_layer_2 = layers.Dense(units=100)\n",
    "\n",
    "print(\"txt_source_1\",txt_source_1)\n",
    "print(\"txt_source_2\",txt_source_2)\n",
    "print(\"txt_source_1\",txt_source_1.shape,\"\\t\",\"txt_source_2\",txt_source_2.shape)\n",
    "print(\"inputs 的第0維是不確定尺寸的batch_size，layers 通常會忽視第0維，所以第0維要先 expand_dims 擴充出來\")\n",
    "txt_source_1 =tf.expand_dims(txt_source_1, axis=0)\n",
    "txt_source_2 =tf.expand_dims(txt_source_2, axis=0)\n",
    "print(\"txt_source_1\",txt_source_1.shape,\"\\t\",\"txt_source_2\",txt_source_2.shape)\n",
    "print(\"embedding_1 input_dim=100 , output_dim=13, inputs=(None, 10)\")\n",
    "print(\"embedding_1 outputs.shape\",embedding_1.compute_output_shape(input_shape=(None,10)))\n",
    "print(\"embedding_2 input_dim=100 , output_dim=13, inputs=(None, 10)\")\n",
    "print(\"embedding_2 outputs.shape\",embedding_2.compute_output_shape(input_shape=(None,10)))\n",
    "print(\"lstm_1 units=32, inputs=(None, 10, 13)\")\n",
    "print(\"lstm_1 outputs.shape\",lstm_1.compute_output_shape(input_shape=(None, 10, 13)))\n",
    "print(\"lstm_2 units=64, inputs=(None, 10, 13)\")\n",
    "print(\"lstm_2 outputs.shape\",lstm_2.compute_output_shape(input_shape=(None,10,13)))\n",
    "print()\n",
    "print(\"第一批次投入, batch_size=1\")\n",
    "lstm_1_outputs = lstm_1(embedding_1(txt_source_1))\n",
    "lstm_2_outputs = lstm_2(embedding_2(txt_source_2))\n",
    "print(\"lstm_1_outputs.shape\",lstm_1_outputs.shape)\n",
    "print(\"lstm_2_outputs.shape\",lstm_2_outputs.shape)\n",
    "concate_layer_outputs = layers.concatenate([lstm_1_outputs,lstm_2_outputs])\n",
    "print(\"合併 lstm_1_outputs lstm_2_outputs ，第0軸同值，以第0軸進行合併\")\n",
    "print(\"concate_layer_outputs.shape\",concate_layer_outputs.shape)\n",
    "print()\n",
    "print(\"合併層分別餵值給 不同的 predict 層，給出不同的 predict\")\n",
    "\n",
    "predict_1 = output_layer_1(concate_layer_outputs) \n",
    "predict_2 = output_layer_2(concate_layer_outputs) \n",
    "print(\"predict_1.shape\",predict_1.shape)\n",
    "print(\"predict_2.shape\",predict_2.shape)"
   ]
  },
  {
   "cell_type": "markdown",
   "metadata": {},
   "source": [
    "### 自定義 Layer"
   ]
  },
  {
   "cell_type": "code",
   "execution_count": 140,
   "metadata": {},
   "outputs": [
    {
     "name": "stdout",
     "output_type": "stream",
     "text": [
      "input_shape (5, 10)\n",
      "input_shape[-1] = 10\n",
      "MyDenseLayer(units=13) 自定義內核kernel.shape是\n",
      "(input_shape[-1],units)\t self.kernel (10, 13)\n",
      "call 方法定義 outputs 是 inputs 與 kernel 的乘積\n",
      "inputs(5,10) * kernel(10,13) = (5,13)\n",
      "outputs.shape (5, 13)\n",
      "outputs\n",
      "tf.Tensor(\n",
      "[[-1.2395321   0.5037262  -0.3948251   0.02081331  0.56775415 -0.2135733\n",
      "  -0.39356157  0.25855166  0.58117986 -0.3557209  -0.40026766 -0.8912854\n",
      "   1.1180192 ]\n",
      " [-1.4274954   1.0056986  -0.7326327  -0.7313405  -0.63006926 -0.9528735\n",
      "   0.6477816  -0.19287156 -0.41200137 -0.7933595  -1.5083256  -0.08673576\n",
      "  -0.32435635]\n",
      " [ 1.0695055  -1.5059757  -0.27395836 -1.5259657   0.98028755 -0.16290466\n",
      "  -1.5180768  -0.38570347  0.5167788   0.37858826  2.3674963  -0.7480683\n",
      "   1.184243  ]\n",
      " [ 1.1673536  -0.99624455  0.16720666 -0.3855187   0.03444865  1.0790647\n",
      "  -1.1444905   0.5952683   0.5254709   0.97738564  1.3313545  -0.74869365\n",
      "   1.0607816 ]\n",
      " [ 0.50073826  0.16083673 -0.60955906 -1.4797384   0.12872718  1.0826287\n",
      "  -0.9371912  -0.01380042 -0.01816669  0.27386305  0.45032838 -0.36249495\n",
      "   0.9700559 ]], shape=(5, 13), dtype=float32)\n"
     ]
    }
   ],
   "source": [
    "class MyDenseLayer(layers.Layer):\n",
    "    def __init__(self, units):\n",
    "        super(MyDenseLayer, self).__init__()\n",
    "        self.num_outputs = units       \n",
    "        \n",
    "    def build(self, input_shape):\n",
    "        self.kernel = self.add_variable(name=\"kernel\",\n",
    "                      shape=(int(input_shape[-1]), self.num_outputs))\n",
    "        self.op_shape = (int(input_shape[0]), self.num_outputs)\n",
    "        \n",
    "    def call(self, inputs):\n",
    "        return tf.matmul(inputs, self.kernel)\n",
    "\n",
    "shape = (5,10)\n",
    "layer = MyDenseLayer(13)\n",
    "layer.build(shape)\n",
    "print(\"input_shape\",shape)\n",
    "print(\"input_shape[-1] =\",shape[-1])\n",
    "print(\"MyDenseLayer(units=13) 自定義內核kernel.shape是\")\n",
    "print(\"(input_shape[-1],units)\\t\", \"self.kernel\",layer.kernel.shape)\n",
    "\n",
    "np.random.seed(seed)\n",
    "inputs = np.random.normal(size=shape).astype(np.float32)\n",
    "outputs = layer(inputs)\n",
    "\n",
    "print(\"call 方法定義 outputs 是 inputs 與 kernel 的乘積\")\n",
    "print(\"inputs(5,10) * kernel(10,13) = (5,13)\")\n",
    "print(\"outputs.shape\",layer(inputs).shape)\n",
    "print(\"outputs\")\n",
    "print(outputs)"
   ]
  },
  {
   "cell_type": "markdown",
   "metadata": {},
   "source": [
    "### 自定義 Model"
   ]
  },
  {
   "cell_type": "code",
   "execution_count": 147,
   "metadata": {},
   "outputs": [
    {
     "name": "stdout",
     "output_type": "stream",
     "text": [
      "input_shape= (3, 4)\n",
      "layer_1 units = 5, outputs= (3, 5)\n",
      "layer_2 units = 10, outputs= (3, 10)\n",
      "model.predict.shape (3, 10)\n",
      "Model: \"my_model_19\"\n",
      "_________________________________________________________________\n",
      "Layer (type)                 Output Shape              Param #   \n",
      "=================================================================\n",
      "my_dense_layer_55 (MyDenseLa multiple                  20        \n",
      "_________________________________________________________________\n",
      "my_dense_layer_56 (MyDenseLa multiple                  50        \n",
      "=================================================================\n",
      "Total params: 70\n",
      "Trainable params: 70\n",
      "Non-trainable params: 0\n",
      "_________________________________________________________________\n",
      "predict\n",
      "tf.Tensor(\n",
      "[[ 0.80190194 -1.9273742   0.24396832  0.14072034 -1.0808374   0.8717728\n",
      "   0.5275319   0.03014566  0.6637947  -0.14115961]\n",
      " [ 0.07960504 -0.9355753  -0.28438684  0.3910032  -0.46222162  0.19415335\n",
      "   0.14213584 -0.04647347  0.4220163  -0.07509527]\n",
      " [-0.23284486  1.1881171  -0.65556085  0.13655096 -0.02338164 -0.5181538\n",
      "  -0.06247193  0.17872141 -0.6896861  -0.23201069]], shape=(3, 10), dtype=float32)\n"
     ]
    }
   ],
   "source": [
    "class MyModel(models.Model):\n",
    "    def __init__(self):\n",
    "        super(MyModel, self).__init__()        \n",
    "        self.layer_1 = MyDenseLayer(5)\n",
    "        self.layer_2 = MyDenseLayer(10)\n",
    "        \n",
    "    def call(self, inputs):     \n",
    "        x = self.layer_1(inputs)\n",
    "        x = self.layer_2(x)\n",
    "        return x\n",
    "    \n",
    "shape = (3, 4)\n",
    "model = MyModel()\n",
    "model.build(input_shape=shape)\n",
    "print(\"input_shape=\",shape)\n",
    "print(\"layer_1 units = 5, outputs=\",model.layers[0].op_shape)\n",
    "print(\"layer_2 units = 10, outputs=\",model.layers[1].op_shape)\n",
    "inputs = np.random.normal(size=shape).astype(np.float32)\n",
    "predict = model(inputs)\n",
    "print(\"model.predict.shape\",predict.shape)\n",
    "model.summary()\n",
    "print(\"predict\")\n",
    "print(predict)"
   ]
  },
  {
   "cell_type": "markdown",
   "metadata": {},
   "source": [
    "### 模型儲存"
   ]
  },
  {
   "cell_type": "code",
   "execution_count": 150,
   "metadata": {},
   "outputs": [],
   "source": [
    "filename = \"weights.ckpt\"\n",
    "filename2= \"model.h5\"\n",
    "model.save_weigits(filename)\n",
    "model.save(filename2)\n",
    "\n",
    "model = create_model()\n",
    "model.load_weights(filename)\n",
    "\n",
    "model = models.load_model(filename2)"
   ]
  },
  {
   "cell_type": "code",
   "execution_count": null,
   "metadata": {},
   "outputs": [],
   "source": []
  }
 ],
 "metadata": {
  "kernelspec": {
   "display_name": "Python 3",
   "language": "python",
   "name": "python3"
  },
  "language_info": {
   "codemirror_mode": {
    "name": "ipython",
    "version": 3
   },
   "file_extension": ".py",
   "mimetype": "text/x-python",
   "name": "python",
   "nbconvert_exporter": "python",
   "pygments_lexer": "ipython3",
   "version": "3.6.12"
  }
 },
 "nbformat": 4,
 "nbformat_minor": 4
}
