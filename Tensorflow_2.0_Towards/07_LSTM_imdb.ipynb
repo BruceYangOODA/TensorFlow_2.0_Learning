{
 "cells": [
  {
   "cell_type": "markdown",
   "metadata": {},
   "source": [
    "### 07_LSTM_imdb\n",
    "\n",
    "word_index = datasets.imdb.get_word_index()  \n",
    "index_word = {v:k for k,v in word_index.items()}  \n",
    "judge = lambda x:1 if x>0.5 else 0  \n"
   ]
  },
  {
   "cell_type": "code",
   "execution_count": 25,
   "metadata": {},
   "outputs": [
    {
     "name": "stdout",
     "output_type": "stream",
     "text": [
      "3.6.12 |Anaconda, Inc.| (default, Sep  9 2020, 00:29:25) [MSC v.1916 64 bit (AMD64)]\n",
      "False\n",
      "2.0.0\n"
     ]
    }
   ],
   "source": [
    "import os,sys\n",
    "import numpy as np\n",
    "import pandas as pd\n",
    "import tensorflow as tf\n",
    "import matplotlib.pyplot as plt\n",
    "from tensorflow.keras import datasets,layers,models,optimizers,Sequential,metrics,losses,utils\n",
    "import matplotlib.pyplot as plt\n",
    "\n",
    "from tensorflow.keras.preprocessing import sequence\n",
    "\n",
    "print(sys.version)\n",
    "print(tf.test.is_gpu_available())\n",
    "print(tf.__version__)"
   ]
  },
  {
   "cell_type": "code",
   "execution_count": 90,
   "metadata": {},
   "outputs": [
    {
     "name": "stdout",
     "output_type": "stream",
     "text": [
      "x_train 短評字數\n",
      "218\t189\t141\t550\t147\t43\t123\t562\t233\t130\t450\t99\t117\t238\t109\t129\t163\t752\t212\t177\t129\t140\t256\t888\t93\t142\t220\t193\t171\t221\t\n",
      "x_test 短評字數\n",
      "68\t260\t603\t181\t108\t132\t761\t180\t134\t370\t209\t248\t398\t326\t131\t255\t127\t184\t188\t105\t230\t137\t88\t70\t170\t305\t273\t134\t232\t264\t"
     ]
    }
   ],
   "source": [
    "num_words = 2000 # 20000\n",
    "maxlen = 100\n",
    "# 取得 imdb key value 對照表\n",
    "word_index = datasets.imdb.get_word_index()\n",
    "index_word = {v:k for k,v in word_index.items()}\n",
    "\n",
    "(x_train, y_train), (x_test, y_test) = imdb.load_data(num_words=num_words)\n",
    "print(\"x_train 短評字數\")\n",
    "for i in range(30):\n",
    "    print(len(x_train[i]),end=\"\\t\")\n",
    "print()\n",
    "print(\"x_test 短評字數\")\n",
    "for i in range(30):\n",
    "    print(len(x_test[i]),end=\"\\t\")"
   ]
  },
  {
   "cell_type": "code",
   "execution_count": 91,
   "metadata": {},
   "outputs": [
    {
     "name": "stdout",
     "output_type": "stream",
     "text": [
      "(2500, 100) (2500,)\n",
      "(2500, 100) (2500,)\n",
      "x_train 短評字數\n",
      "100\t100\t100\t100\t100\t100\t100\t100\t100\t100\t100\t100\t100\t100\t100\t100\t100\t100\t100\t100\t100\t100\t100\t100\t100\t100\t100\t100\t100\t100\t\n",
      "x_test 短評字數\n",
      "100\t100\t100\t100\t100\t100\t100\t100\t100\t100\t100\t100\t100\t100\t100\t100\t100\t100\t100\t100\t100\t100\t100\t100\t100\t100\t100\t100\t100\t100\t"
     ]
    }
   ],
   "source": [
    "def data_normalize(train, test, scale=1):\n",
    "    (x_train,y_train) = train\n",
    "    (x_test,y_test) = test\n",
    "    train_nums = x_train.shape[0] // scale\n",
    "    test_nums = x_test.shape[0] // scale\n",
    "    x_train, y_train = x_train[:train_nums], y_train[:train_nums]\n",
    "    x_test, y_test = x_test[:train_nums], y_test[:train_nums]\n",
    "    \n",
    "    x_train = sequence.pad_sequences(x_train, maxlen=maxlen)\n",
    "    x_test = sequence.pad_sequences(x_test, maxlen=maxlen)\n",
    "    print(x_train.shape,y_train.shape)\n",
    "    print(x_test.shape,y_test.shape)\n",
    "    \n",
    "    return (x_train,y_train),(x_test,y_test)\n",
    "    \n",
    "(x_train, y_train), (x_test, y_test) = data_normalize((x_train, y_train), (x_test, y_test),scale=10)\n",
    "print(\"x_train 短評字數\")\n",
    "for i in range(30):\n",
    "    print(len(x_train[i]),end=\"\\t\")\n",
    "print()\n",
    "print(\"x_test 短評字數\")\n",
    "for i in range(30):\n",
    "    print(len(x_test[i]),end=\"\\t\")"
   ]
  },
  {
   "cell_type": "code",
   "execution_count": 38,
   "metadata": {},
   "outputs": [
    {
     "name": "stdout",
     "output_type": "stream",
     "text": [
      "x_train[0]\n",
      " [1415   33    6   22   12  215   28   77   52    5   14  407   16   82\n",
      "    2    8    4  107  117    2   15  256    4    2    7    2    5  723\n",
      "   36   71   43  530  476   26  400  317   46    7    4    2 1029   13\n",
      "  104   88    4  381   15  297   98   32    2   56   26  141    6  194\n",
      "    2   18    4  226   22   21  134  476   26  480    5  144   30    2\n",
      "   18   51   36   28  224   92   25  104    4  226   65   16   38 1334\n",
      "   88   12   16  283    5   16    2  113  103   32   15   16    2   19\n",
      "  178   32]\n",
      "x_train[0] index->word\n",
      "critics(1415) they(33) is(6) you(22) that(12) isn't(215) one(28) will(77) very(52) to(5) as(14) itself(407) with(16) other(82) and(2) in(8) of(4) seen(107) over(117) and(2) for(15) anyone(256) of(4) and(2) br(7) and(2) to(5) whether(723) from(36) than(71) out(43) themselves(530) history(476) he(26) name(400) half(317) some(46) br(7) of(4) and(2) odd(1029) was(13) two(104) most(88) of(4) mean(381) for(15) 1(297) any(98) an(32) and(2) she(56) he(26) should(141) is(6) thought(194) and(2) but(18) of(4) script(226) you(22) not(21) while(134) history(476) he(26) heart(480) to(5) real(144) at(30) and(2) but(18) when(51) from(36) one(28) bit(224) then(92) have(25) two(104) of(4) script(226) their(65) with(16) her(38) nobody(1334) most(88) that(12) with(16) wasn't(283) to(5) with(16) and(2) acting(113) watch(103) an(32) for(15) with(16) and(2) film(19) want(178) an(32) "
     ]
    }
   ],
   "source": [
    "print(\"x_train[0]\\n\",x_train[0])\n",
    "print(\"x_train[0] index->word\")\n",
    "for i in range(len(x_train[0])):\n",
    "    index = x_train[0][i]\n",
    "    print(index_word[index]+\"(\"+str(index)+\")\", end=\" \")"
   ]
  },
  {
   "cell_type": "code",
   "execution_count": 189,
   "metadata": {},
   "outputs": [],
   "source": [
    "## SimpleRNNCell 一直出錯\n",
    "class Simple_LSTM(models.Model):\n",
    "    def __init__(self, units):\n",
    "        super(Simple_LSTM, self).__init__()\n",
    "        self.state_0 = [tf.zeros([batch_size, units])]        \n",
    "        self.embedding = layers.Embedding(input_dim=num_words, output_dim=embed_outdim, input_length=maxlen)\n",
    "        self.block_1 = layers.SimpleRNNCell(units, dropout=0.1) #units: dimensionality of the output space \n",
    "        self.out = layers.Dense(1)\n",
    "        \n",
    "    def call(self, inputs):\n",
    "        x = self.embedding(inputs)\n",
    "        state_0 = self.state_0\n",
    "        for word in tf.unstack(x, axis=1):\n",
    "            out, state_1 = self.block_1(word, state_0)\n",
    "            state_0 = state_1\n",
    "        x = self.out(out)\n",
    "        prob = tf.sigmoid(x)\n",
    "        return prob\n",
    "    \n",
    "units = 64\n",
    "embed_outdim = 128\n",
    "epochs = 10\n",
    "batch_size = 128\n",
    "\n",
    "def LSTM_imdb():\n",
    "    model = Sequential()\n",
    "    model.add(Embedding(num_words, 128))\n",
    "    model.add(LSTM(128, dropout=0.2, recurrent_dropout=0.2))\n",
    "    model.add(Dense(1, activation=\"sigmoid\"))\n",
    "    \n",
    "    model.compile(loss=\"binary_crossentropy\", optimizer=\"adam\", metrics=[\"accuracy\"])\n",
    "    return model\n",
    "\n",
    "model = LSTM_imdb()\n",
    "#optimizer = optimizers.Adam(lr=0.01)\n",
    "#loss_func = losses.BinaryCrossentropy()\n",
    "#model.compile(optimizer=optimizer, loss=loss_func,metrics=['accuracy'])"
   ]
  },
  {
   "cell_type": "code",
   "execution_count": 190,
   "metadata": {},
   "outputs": [
    {
     "name": "stdout",
     "output_type": "stream",
     "text": [
      "Train on 2500 samples, validate on 2500 samples\n",
      "Epoch 1/10\n",
      "2500/2500 [==============================] - 45s 18ms/sample - loss: 0.6898 - accuracy: 0.5316 - val_loss: 0.6783 - val_accuracy: 0.6140\n",
      "Epoch 2/10\n",
      "2500/2500 [==============================] - 42s 17ms/sample - loss: 0.6109 - accuracy: 0.7156 - val_loss: 0.5373 - val_accuracy: 0.7756\n",
      "Epoch 3/10\n",
      "2500/2500 [==============================] - 42s 17ms/sample - loss: 0.4594 - accuracy: 0.8096 - val_loss: 0.4789 - val_accuracy: 0.7820\n",
      "Epoch 4/10\n",
      "2500/2500 [==============================] - 99s 40ms/sample - loss: 0.3576 - accuracy: 0.8628 - val_loss: 0.4633 - val_accuracy: 0.7936\n",
      "Epoch 5/10\n",
      "2500/2500 [==============================] - 49s 20ms/sample - loss: 0.2922 - accuracy: 0.8836 - val_loss: 0.4914 - val_accuracy: 0.7832\n",
      "Epoch 6/10\n",
      "2500/2500 [==============================] - 49s 20ms/sample - loss: 0.2649 - accuracy: 0.9048 - val_loss: 0.4946 - val_accuracy: 0.7996\n",
      "Epoch 7/10\n",
      "2500/2500 [==============================] - 49s 20ms/sample - loss: 0.1990 - accuracy: 0.9320 - val_loss: 0.5267 - val_accuracy: 0.7856\n",
      "Epoch 8/10\n",
      "2500/2500 [==============================] - 49s 20ms/sample - loss: 0.1900 - accuracy: 0.9348 - val_loss: 0.5130 - val_accuracy: 0.7728\n",
      "Epoch 9/10\n",
      "2500/2500 [==============================] - 50s 20ms/sample - loss: 0.1788 - accuracy: 0.9384 - val_loss: 0.5948 - val_accuracy: 0.7812\n",
      "Epoch 10/10\n",
      "2500/2500 [==============================] - 50s 20ms/sample - loss: 0.1360 - accuracy: 0.9544 - val_loss: 0.6344 - val_accuracy: 0.7896\n"
     ]
    }
   ],
   "source": [
    "#train = tf.data.Dataset.from_tensor_slices((x_train,y_train))\n",
    "#train = train.batch(batch_size,drop_remainder=True)\n",
    "#test =  tf.data.Dataset.from_tensor_slices((x_test,y_test))\n",
    "#test = test.batch(batch_size,drop_remainder=True)\n",
    "\n",
    "history = model.fit(x_train,y_train, epochs=epochs,batch_size=batch_size, verbose=1,validation_data=(x_test,y_test))"
   ]
  },
  {
   "cell_type": "code",
   "execution_count": 191,
   "metadata": {
    "scrolled": true
   },
   "outputs": [
    {
     "name": "stdout",
     "output_type": "stream",
     "text": [
      "Model: \"sequential\"\n",
      "_________________________________________________________________\n",
      "Layer (type)                 Output Shape              Param #   \n",
      "=================================================================\n",
      "embedding_33 (Embedding)     (None, None, 128)         256000    \n",
      "_________________________________________________________________\n",
      "lstm (LSTM)                  (None, 128)               131584    \n",
      "_________________________________________________________________\n",
      "dense_33 (Dense)             (None, 1)                 129       \n",
      "=================================================================\n",
      "Total params: 387,713\n",
      "Trainable params: 387,713\n",
      "Non-trainable params: 0\n",
      "_________________________________________________________________\n"
     ]
    }
   ],
   "source": [
    "model.summary()"
   ]
  },
  {
   "cell_type": "code",
   "execution_count": 192,
   "metadata": {},
   "outputs": [
    {
     "data": {
      "image/png": "[encoded data removed]",
      "text/plain": [
       "<Figure size 864x216 with 2 Axes>"
      ]
     },
     "metadata": {
      "needs_background": "light"
     },
     "output_type": "display_data"
    }
   ],
   "source": [
    "def visual_train_status(history):\n",
    "        plt.figure(figsize=(12,3))\n",
    "        loss = history.history[\"loss\"]\n",
    "        val_loss = history.history[\"val_loss\"]\n",
    "        epochs = range(1, len(loss)+1)  \n",
    "        plt.subplot(1,2,1)\n",
    "        plt.plot(epochs, loss, \"b--\", label=\"Training Loss\")\n",
    "        plt.plot(epochs, val_loss, \"r--\", label=\"Validation Loss\")\n",
    "        plt.title(\"Training and Validation Loss\")\n",
    "        plt.xlabel(\"Epochs\")\n",
    "        plt.ylabel(\"Loss\")\n",
    "        plt.legend()\n",
    "        \n",
    "        # 顯示訓練和驗證準確度\n",
    "        acc = history.history[\"accuracy\"]\n",
    "        val_acc = history.history[\"val_accuracy\"]\n",
    "        epochs = range(1, len(acc)+1)\n",
    "        plt.subplot(1,2,2)\n",
    "        plt.plot(epochs, acc, \"b-\", label=\"Training Acc\")\n",
    "        plt.plot(epochs, val_acc, \"r--\", label=\"Validation Acc\")\n",
    "        plt.title(\"Training and Validation Accuracy\")\n",
    "        plt.xlabel(\"Epochs\")\n",
    "        plt.ylabel(\"Accuracy\")\n",
    "        plt.legend()\n",
    "        plt.show()\n",
    "        \n",
    "visual_train_status(history)"
   ]
  },
  {
   "cell_type": "code",
   "execution_count": 203,
   "metadata": {},
   "outputs": [
    {
     "name": "stdout",
     "output_type": "stream",
     "text": [
      "Predictions\n",
      "1 0 1 0 0 0 1 0 1 1 \n",
      "Labels\n",
      "1 1 0 0 0 0 0 0 1 1 \n"
     ]
    }
   ],
   "source": [
    "index = 100 # np.random.randint(900)\n",
    "preds = model.predict(x_test[index:index+10])\n",
    "print(\"Predictions\")\n",
    "for i in range(10):    \n",
    "    judge = lambda x:1 if x>0.5 else 0\n",
    "    print(str(judge(preds[i])),end=\" \")\n",
    "print()\n",
    "labels = y_test[index:index+10]\n",
    "print(\"Labels\")\n",
    "for i in range(10):  \n",
    "    print(labels[i],end=\" \")\n",
    "print()"
   ]
  },
  {
   "cell_type": "code",
   "execution_count": null,
   "metadata": {},
   "outputs": [],
   "source": []
  }
 ],
 "metadata": {
  "kernelspec": {
   "display_name": "Python 3",
   "language": "python",
   "name": "python3"
  },
  "language_info": {
   "codemirror_mode": {
    "name": "ipython",
    "version": 3
   },
   "file_extension": ".py",
   "mimetype": "text/x-python",
   "name": "python",
   "nbconvert_exporter": "python",
   "pygments_lexer": "ipython3",
   "version": "3.6.12"
  }
 },
 "nbformat": 4,
 "nbformat_minor": 4
}
