{
 "cells": [
  {
   "cell_type": "markdown",
   "metadata": {},
   "source": [
    "### [Tensorflow API](https://www.tensorflow.org/api_docs/python/tf/transpose)\n",
    "\n",
    "tf.convert_to_tensor()   \n",
    "tf.Variable()  \n",
    "tf.random.normal(shape, mean=0.0, stddev=1.0)  高斯分配  \n",
    "tf.random.truncated_normal(shape, mean=0.0, stddev=1.0)  超過兩倍stddev 重新隨機  \n",
    "tf.random.uniform(shape, minval=0, maxval=None) 隨機均勻分配  \n",
    "tf.transpose(a, perm=None)  維度置換  \n",
    "tf.expand_dims(input, axis)  維度擴張  \n",
    "tf.stack(values, axis=0)  陣列合併  \n",
    "tf.unstack(value, num=None, axis=0)  陣列分離  \n",
    "tf.split(value, num_or_size_splits, axis=0)  陣列切分  \n",
    "tf.reshape(tensor, shape)  \n",
    "tf.sort(values, axis=-1, direction='ASCENDING') 值排序direction='DESCENDING'  \n",
    "tf.argsort(values, axis=-1, direction='ASCENDING')  索引 值排序  \n",
    "tf.math.top_k(values, k=5)  \n",
    "tf.pad(tensor, paddings) padding [上,下],[左,右]  \n",
    "tf.clip_by_value(t, clip_value_min, clip_value_max)  設定上下限值\n",
    "### 陣列運算\n",
    "tf.add()  \n",
    "tf.matmul()  \n",
    "tf.reduce_mean(input_tensor, axis=None, keepdims=False)  維度平均值  \n",
    "tf.argmax(input, axis=None, output_type=tf.dtypes.int64)  維度最高值 index  \n"
   ]
  },
  {
   "cell_type": "code",
   "execution_count": 1,
   "metadata": {},
   "outputs": [],
   "source": [
    "import tensorflow as tf\n",
    "import numpy as np\n",
    "tf.random.set_seed(13)"
   ]
  },
  {
   "cell_type": "code",
   "execution_count": 2,
   "metadata": {},
   "outputs": [
    {
     "name": "stdout",
     "output_type": "stream",
     "text": [
      "tf.Tensor([1 2 3], shape=(3,), dtype=int32)\n",
      "[1 2 3]\n",
      "tf.Tensor([1 2 3], shape=(3,), dtype=int32)\n"
     ]
    }
   ],
   "source": [
    "a = tf.constant([1,2,3])\n",
    "print(a)\n",
    "b = np.array([1,2,3])\n",
    "print(b)\n",
    "c = tf.convert_to_tensor(b)\n",
    "print(c)"
   ]
  },
  {
   "cell_type": "code",
   "execution_count": 3,
   "metadata": {},
   "outputs": [
    {
     "name": "stdout",
     "output_type": "stream",
     "text": [
      "tf.Tensor([1. 1. 1. 1. 1. 1.], shape=(6,), dtype=float32)\n",
      "[1. 1. 1. 1. 1. 1.]\n",
      "<tf.Variable 'AAA:0' shape=(6,) dtype=float32, numpy=array([1., 1., 1., 1., 1., 1.], dtype=float32)>\n"
     ]
    }
   ],
   "source": [
    "a = tf.ones(6)\n",
    "print(a)\n",
    "b = np.ones(6)\n",
    "print(b)\n",
    "c = tf.Variable(a,name='AAA')\n",
    "print(c)"
   ]
  },
  {
   "cell_type": "code",
   "execution_count": 4,
   "metadata": {},
   "outputs": [
    {
     "name": "stdout",
     "output_type": "stream",
     "text": [
      "tf.Tensor(\n",
      "[[ 0.46733698  0.89927393 -0.78262424  1.2429025   0.91533005 -0.01959391]\n",
      " [-0.91800916  1.3692256  -1.31887     0.21624413 -1.1789111   0.60704744]\n",
      " [ 0.6109831   1.8275427   1.0842904   0.5007278  -1.0628445  -0.39373967]\n",
      " [-0.6633529  -0.11908418 -0.84424454 -0.8022675  -1.7084516   0.870811  ]\n",
      " [ 0.45595148  0.07939936  1.2668875  -1.5246252   0.41710547  0.9672959 ]\n",
      " [-0.7834893  -1.5207744   0.6580479  -0.72674286  0.9868633   0.55997133]], shape=(6, 6), dtype=float32)\n",
      "tf.Tensor(\n",
      "[[-0.10572089  0.03422752 -0.06972283  0.06160088  0.11293981  0.01581248]\n",
      " [ 0.00137381 -0.11582494  0.01400663 -0.12974095  0.18685198 -0.03969903]\n",
      " [ 0.0041482   0.10200614 -0.11151971  0.02647186  0.05471441 -0.15147632]\n",
      " [ 0.03979918  0.01785305 -0.10575604 -0.12299742  0.03118414  0.09764815]\n",
      " [ 0.14534749  0.1480333  -0.029688   -0.04189356 -0.03023089  0.15326816]\n",
      " [ 0.04878144 -0.022572    0.03277205  0.07772904 -0.05893312 -0.02636266]], shape=(6, 6), dtype=float32)\n",
      "tf.Tensor(\n",
      "[[0.27229798 0.899922   0.49376798 0.7113595  0.58747673 0.42197454]\n",
      " [0.25707066 0.90093744 0.54813755 0.5163686  0.16093624 0.3339355 ]\n",
      " [0.87411237 0.27337456 0.14497387 0.2675538  0.9977938  0.11223352]\n",
      " [0.97764707 0.25421214 0.4093001  0.91392577 0.943084   0.61562824]\n",
      " [0.08930922 0.9373119  0.31639028 0.35471284 0.9945718  0.8935785 ]\n",
      " [0.88578796 0.24126053 0.07230878 0.11342967 0.4294448  0.9231341 ]], shape=(6, 6), dtype=float32)\n"
     ]
    }
   ],
   "source": [
    "a = tf.random.normal([6,6],mean=0, stddev=1)\n",
    "print(a)\n",
    "b = tf.random.truncated_normal((6,6),mean=0, stddev=0.1)\n",
    "print(b)\n",
    "c = tf.random.uniform((6,6),minval=0, maxval=1)\n",
    "print(c)"
   ]
  },
  {
   "cell_type": "code",
   "execution_count": 5,
   "metadata": {},
   "outputs": [
    {
     "name": "stdout",
     "output_type": "stream",
     "text": [
      "(2, 3, 4, 5)\n",
      "tf.transpose\n",
      "(5, 4, 3, 2)\n"
     ]
    }
   ],
   "source": [
    "a = tf.ones([2,3,4,5])\n",
    "print(a.shape)\n",
    "a = tf.transpose(a, perm=[3,2,1,0])\n",
    "print(\"tf.transpose\")\n",
    "print(a.shape)"
   ]
  },
  {
   "cell_type": "code",
   "execution_count": 6,
   "metadata": {},
   "outputs": [
    {
     "name": "stdout",
     "output_type": "stream",
     "text": [
      "(2, 3, 4)\n",
      "expand_dims axis=0\n",
      "(1, 2, 3, 4)\n",
      "expand_dims axis=-1\n",
      "(1, 2, 3, 4, 1)\n"
     ]
    }
   ],
   "source": [
    "a = tf.random.normal([2,3,4])\n",
    "print(a.shape)\n",
    "print(\"expand_dims axis=0\")\n",
    "a = tf.expand_dims(a, axis=0)\n",
    "print(a.shape)\n",
    "print(\"expand_dims axis=-1\")\n",
    "a = tf.expand_dims(a, axis=-1)\n",
    "print(a.shape)"
   ]
  },
  {
   "cell_type": "code",
   "execution_count": 7,
   "metadata": {},
   "outputs": [
    {
     "name": "stdout",
     "output_type": "stream",
     "text": [
      "tf.Tensor(\n",
      "[[[1. 1. 1.]\n",
      "  [1. 1. 1.]]], shape=(1, 2, 3), dtype=float32)\n",
      "tf.Tensor(\n",
      "[[[0. 0. 0.]\n",
      "  [0. 0. 0.]]], shape=(1, 2, 3), dtype=float32)\n",
      "tf.Tensor(\n",
      "[[[[1. 1. 1.]\n",
      "   [1. 1. 1.]]]\n",
      "\n",
      "\n",
      " [[[0. 0. 0.]\n",
      "   [0. 0. 0.]]]], shape=(2, 1, 2, 3), dtype=float32)\n",
      "tf.Tensor(\n",
      "[[[[1. 0.]\n",
      "   [1. 0.]\n",
      "   [1. 0.]]\n",
      "\n",
      "  [[1. 0.]\n",
      "   [1. 0.]\n",
      "   [1. 0.]]]], shape=(1, 2, 3, 2), dtype=float32)\n"
     ]
    }
   ],
   "source": [
    "a = tf.ones([1,2,3])\n",
    "b = tf.zeros([1,2,3])\n",
    "print(a)\n",
    "print(b)\n",
    "c = tf.stack((a,b), axis=0)\n",
    "print(c)\n",
    "d = tf.stack((a,b), axis=-1)\n",
    "print(d)"
   ]
  },
  {
   "cell_type": "code",
   "execution_count": 8,
   "metadata": {},
   "outputs": [
    {
     "name": "stdout",
     "output_type": "stream",
     "text": [
      "a (2, 32, 3)\n",
      "unstack axis=2\n",
      "a (2, 32)\n",
      "b (2, 32)\n",
      "c (2, 32)\n"
     ]
    }
   ],
   "source": [
    "a = tf.ones([2,32,3])\n",
    "print(\"a\",a.shape)\n",
    "a,b,c = tf.unstack(a, axis=2)\n",
    "print(\"unstack axis=2\")\n",
    "print(\"a\",a.shape)\n",
    "print(\"b\",b.shape)\n",
    "print(\"c\",c.shape)"
   ]
  },
  {
   "cell_type": "code",
   "execution_count": 9,
   "metadata": {},
   "outputs": [
    {
     "name": "stdout",
     "output_type": "stream",
     "text": [
      "a (2, 32, 3)\n",
      "\tsplit\n",
      "b (2, 16, 3)\n",
      "c (2, 16, 3)\n"
     ]
    }
   ],
   "source": [
    "a = tf.ones([2,32,3])\n",
    "print(\"a\",a.shape)\n",
    "b,c = tf.split(a, axis=1, num_or_size_splits=2)\n",
    "print(\"\\tsplit\")\n",
    "print(\"b\",b.shape)\n",
    "print(\"c\",c.shape)"
   ]
  },
  {
   "cell_type": "code",
   "execution_count": 10,
   "metadata": {},
   "outputs": [
    {
     "name": "stdout",
     "output_type": "stream",
     "text": [
      "[3, 4, 1, 2, 6]\n",
      "\tsort\n",
      "tf.Tensor([1 2 3 4 6], shape=(5,), dtype=int32)\n"
     ]
    }
   ],
   "source": [
    "a = [3,4,1,2,6]\n",
    "b = tf.sort(a)\n",
    "print(a)\n",
    "print(\"\\tsort\")\n",
    "print(b)"
   ]
  },
  {
   "cell_type": "code",
   "execution_count": 11,
   "metadata": {},
   "outputs": [
    {
     "name": "stdout",
     "output_type": "stream",
     "text": [
      "[1, 2, 6, 5, 4, 3]\n",
      "\targsort\n",
      "tf.Tensor([0 1 5 4 3 2], shape=(6,), dtype=int32)\n"
     ]
    }
   ],
   "source": [
    "a = [1,2,6,5,4,3]\n",
    "b = tf.argsort(a)\n",
    "print(a)\n",
    "print(\"\\targsort\")\n",
    "print(b)"
   ]
  },
  {
   "cell_type": "code",
   "execution_count": 12,
   "metadata": {},
   "outputs": [
    {
     "name": "stdout",
     "output_type": "stream",
     "text": [
      "[1, 2, 6, 5, 4, 3]\n",
      "\ttf.math.top_k\n",
      "indices tf.Tensor([2 3 4], shape=(3,), dtype=int32)\n",
      "values tf.Tensor([6 5 4], shape=(3,), dtype=int32)\n",
      "a[2]=6\n",
      "a[3]=5\n",
      "a[4]=4\n"
     ]
    }
   ],
   "source": [
    "a = [1,2,6,5,4,3]\n",
    "b = tf.math.top_k(a, k=3)\n",
    "print(a)\n",
    "print(\"\\ttf.math.top_k\")\n",
    "print(\"indices\",b.indices)\n",
    "print(\"values\",b.values)\n",
    "print(\"a[2]=6\")\n",
    "print(\"a[3]=5\")\n",
    "print(\"a[4]=4\")"
   ]
  },
  {
   "cell_type": "code",
   "execution_count": 13,
   "metadata": {},
   "outputs": [
    {
     "name": "stdout",
     "output_type": "stream",
     "text": [
      "tf.Tensor(\n",
      "[[ 1.3927455  -0.45965314  0.49407616]\n",
      " [ 0.17237073  0.93350935  1.6913122 ]\n",
      " [ 0.91713065 -0.16278401  0.39941907]], shape=(3, 3), dtype=float32)\n",
      "\t\tpad [上,下],[左,右]\n",
      "\t\t[[2,1],[1,2]]\n",
      "tf.Tensor(\n",
      "[[ 0.          0.          0.          0.          0.          0.        ]\n",
      " [ 0.          0.          0.          0.          0.          0.        ]\n",
      " [ 0.          1.3927455  -0.45965314  0.49407616  0.          0.        ]\n",
      " [ 0.          0.17237073  0.93350935  1.6913122   0.          0.        ]\n",
      " [ 0.          0.91713065 -0.16278401  0.39941907  0.          0.        ]\n",
      " [ 0.          0.          0.          0.          0.          0.        ]], shape=(6, 6), dtype=float32)\n",
      "\t\ta.shape (3, 3)\n",
      "\t\tb.shape (6, 6)\n"
     ]
    }
   ],
   "source": [
    "a = tf.random.normal((3,3))\n",
    "b = tf.pad(a,[[2,1],[1,2]])\n",
    "print(a)\n",
    "print(\"\\t\\tpad [上,下],[左,右]\")\n",
    "print(\"\\t\\t[[2,1],[1,2]]\")\n",
    "print(b)\n",
    "print(\"\\t\\ta.shape\",a.shape)\n",
    "print(\"\\t\\tb.shape\",b.shape)"
   ]
  },
  {
   "cell_type": "code",
   "execution_count": 14,
   "metadata": {},
   "outputs": [
    {
     "name": "stdout",
     "output_type": "stream",
     "text": [
      "tf.Tensor(\n",
      "[[-1.4116935   0.1200662  -0.72520065]\n",
      " [-1.0911381   0.6683593  -0.36648452]\n",
      " [-0.01737416  0.88172203 -0.8082091 ]], shape=(3, 3), dtype=float32)\n",
      "\tclip_ba_value 0~1\n",
      "tf.Tensor(\n",
      "[[0.         0.1200662  0.        ]\n",
      " [0.         0.6683593  0.        ]\n",
      " [0.         0.88172203 0.        ]], shape=(3, 3), dtype=float32)\n"
     ]
    }
   ],
   "source": [
    "a = tf.random.normal([3,3])\n",
    "print(a)\n",
    "print(\"\\tclip_ba_value 0~1\")\n",
    "b = tf.clip_by_value(a, 0, 1)\n",
    "print(b)"
   ]
  },
  {
   "cell_type": "code",
   "execution_count": 67,
   "metadata": {},
   "outputs": [
    {
     "name": "stdout",
     "output_type": "stream",
     "text": [
      "a [[1, 2], [3, 4]] (2, 2)\n",
      "b [[4, 3], [2, 1]] (2, 2)\n",
      "\ta+b\t 尾數shape同樣才能相加\n",
      "tf.Tensor(\n",
      "[[5 5]\n",
      " [5 5]], shape=(2, 2), dtype=int32)\n",
      "a [[1, 2], [3, 4], [5, 6]] (3, 2)\n",
      "b [[1, 2]] \t\t   (1, 2)\n",
      "tf.Tensor(\n",
      "[[2 4]\n",
      " [4 6]\n",
      " [6 8]], shape=(3, 2), dtype=int32)\n"
     ]
    }
   ],
   "source": [
    "a = [[1,2],[3,4]]\n",
    "b = [[4,3],[2,1]]\n",
    "print(\"a\",a,np.array(a).shape)\n",
    "print(\"b\",b,np.array(b).shape)\n",
    "print(\"\\ta+b\\t 尾數shape同樣才能相加\")\n",
    "print(tf.add(a,b))\n",
    "a = [[1,2],[3,4],[5,6]]\n",
    "b = [[1,2]]\n",
    "print(\"a\",a,np.array(a).shape)\n",
    "print(\"b\",b,\"\\t\\t  \",np.array(b).shape)\n",
    "print(tf.add(a,b))"
   ]
  },
  {
   "cell_type": "code",
   "execution_count": 69,
   "metadata": {},
   "outputs": [
    {
     "name": "stdout",
     "output_type": "stream",
     "text": [
      "a [[2, 3], [4, 5], [6, 7]]\n",
      "b [[5, 4], [3, 2]]\n",
      "\ta*b\n",
      "tf.Tensor(\n",
      "[[19 14]\n",
      " [35 26]\n",
      " [51 38]], shape=(3, 2), dtype=int32)\n",
      "\n",
      "a[0][0]=2 * b[0][0]=5 + a[0][1]=3 * b[1][0]=3\t19\n",
      "a[0][0]=2 * b[0][1]=4 + a[0][1]=3 * b[1][1]=2\t14\n",
      "\n",
      "a[1][0]=4 * b[0][0]=5 + a[1][1]=5 * b[1][0]=3\t35\n",
      "a[1][0]=4 * b[0][1]=4 + a[1][1]=5 * b[1][1]=2\t26\n",
      "\n",
      "a[2][0]=6 * b[0][0]=5 + a[2][1]=7 * b[1][0]=3\t51\n",
      "a[2][0]=6 * b[0][1]=4 + a[2][1]=7 * b[1][1]=2\t38\n",
      "a.shape (3, 2)\n",
      "b.shape (2, 2)\n",
      "c.shape (3, 2) a*b 取a的頭,b的尾\n",
      "a(6,32,4) * b(4,6,8) = c(6,32,8)\n",
      "a的頭 6,32\tb的尾 8 => 6,32,8\n"
     ]
    }
   ],
   "source": [
    "a = [[2,3],[4,5],[6,7]]\n",
    "b = [[5,4],[3,2]]\n",
    "print(\"a\",a)\n",
    "print(\"b\",b)\n",
    "print(\"\\ta*b\")\n",
    "c = tf.matmul(a,b)\n",
    "print(c)\n",
    "print()\n",
    "print(\"a[0][0]=2 * b[0][0]=5 + a[0][1]=3 * b[1][0]=3\\t19\")\n",
    "print(\"a[0][0]=2 * b[0][1]=4 + a[0][1]=3 * b[1][1]=2\\t14\")\n",
    "print()\n",
    "print(\"a[1][0]=4 * b[0][0]=5 + a[1][1]=5 * b[1][0]=3\\t35\")\n",
    "print(\"a[1][0]=4 * b[0][1]=4 + a[1][1]=5 * b[1][1]=2\\t26\")\n",
    "print()\n",
    "print(\"a[2][0]=6 * b[0][0]=5 + a[2][1]=7 * b[1][0]=3\\t51\")\n",
    "print(\"a[2][0]=6 * b[0][1]=4 + a[2][1]=7 * b[1][1]=2\\t38\")\n",
    "print(\"a.shape\",np.array(a).shape)\n",
    "print(\"b.shape\",np.array(b).shape)\n",
    "print(\"c.shape\",np.array(c).shape,\"a*b 取a的頭,b的尾\")\n",
    "print(\"a(6,32,4) * b(4,6,8) = c(6,32,8)\")\n",
    "print(\"a的頭 6,32\\tb的尾 8 => 6,32,8\")"
   ]
  },
  {
   "cell_type": "code",
   "execution_count": 102,
   "metadata": {},
   "outputs": [
    {
     "name": "stdout",
     "output_type": "stream",
     "text": [
      "[[1.0, 2.0, 3.0], [4.0, 5.0, 6.0]]\n",
      "a.shape (2, 3)\n",
      "reduce_mean axis=0 [2.5 3.5 4.5]\n",
      "消滅0軸，a.shape(3,)\n",
      "a[0][0]=1.0 + a[1][0]=4.0 / a[0].shape=2  => 2.5\n",
      "\n",
      "reduce_mean axis=1 [2. 5.]\n",
      "消滅1軸，a.shape(2,)\n",
      "a[0][0]=1.0 + a[0][1]=2.0 + a[0][2]=3.0 / a[1].shape=3 => 2.0\n"
     ]
    }
   ],
   "source": [
    "a = [[1.,2.,3.],[4.,5.,6.]]\n",
    "print(a)\n",
    "b = tf.reduce_mean(a, axis=0)\n",
    "print(\"a.shape\",np.array(a).shape)\n",
    "print(\"reduce_mean axis=0\",b.numpy())\n",
    "print(\"消滅0軸，a.shape(3,)\")\n",
    "print(\"a[0][0]=1.0 + a[1][0]=4.0 / a[0].shape=2  => 2.5\")\n",
    "print()\n",
    "c = tf.reduce_mean(a, axis=1)\n",
    "print(\"reduce_mean axis=1\",c.numpy())\n",
    "print(\"消滅1軸，a.shape(2,)\")\n",
    "print(\"a[0][0]=1.0 + a[0][1]=2.0 + a[0][2]=3.0 / a[1].shape=3 => 2.0\")"
   ]
  },
  {
   "cell_type": "code",
   "execution_count": 129,
   "metadata": {},
   "outputs": [
    {
     "name": "stdout",
     "output_type": "stream",
     "text": [
      "[[1, 2, 3, 4], [4, 3, 2, 1], [8, 1, 2, 5]]\n",
      "a.shape (3, 4)\n",
      "tf.argmax axis=0 [2 1 0 2]\n",
      "a[0][0]=1 a[1][0]=4 a[2][0]=8 index=2\n",
      "a[0][1]=2 a[1][1]=3 a[2][1]=1 index=1\n",
      "\n",
      "tf.argmax axis=1 [3 0 0]\n"
     ]
    }
   ],
   "source": [
    "a = [[1,2,3,4],[4,3,2,1],[8,1,2,5]]\n",
    "print(a)\n",
    "print(\"a.shape\",np.array(a).shape)\n",
    "a = tf.convert_to_tensor(a)\n",
    "b = tf.argmax(a, axis=0)\n",
    "print(\"tf.argmax axis=0\",b.numpy())\n",
    "print(\"a[0][0]=1 a[1][0]=4 a[2][0]=8 index=2\")\n",
    "print(\"a[0][1]=2 a[1][1]=3 a[2][1]=1 index=1\")\n",
    "print()\n",
    "c = tf.argmax(a, axis=1)\n",
    "print(\"tf.argmax axis=1\",c.numpy())"
   ]
  },
  {
   "cell_type": "code",
   "execution_count": null,
   "metadata": {},
   "outputs": [],
   "source": []
  }
 ],
 "metadata": {
  "kernelspec": {
   "display_name": "Python 3",
   "language": "python",
   "name": "python3"
  },
  "language_info": {
   "codemirror_mode": {
    "name": "ipython",
    "version": 3
   },
   "file_extension": ".py",
   "mimetype": "text/x-python",
   "name": "python",
   "nbconvert_exporter": "python",
   "pygments_lexer": "ipython3",
   "version": "3.6.12"
  }
 },
 "nbformat": 4,
 "nbformat_minor": 4
}
