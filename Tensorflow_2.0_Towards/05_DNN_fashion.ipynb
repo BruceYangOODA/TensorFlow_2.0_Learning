{
 "cells": [
  {
   "cell_type": "markdown",
   "metadata": {},
   "source": [
    "### 05_DNN_fashion  \n",
    "Deep Neural Network 深度神經網路  \n",
    "data = tf.data.Dataset.from_tensor_slices((x,y))  \n",
    "data = data.map(fuction).shuffle(num_smp).batch(batch_size)  \n",
    "\n",
    "data_iter = iter(data)  \n",
    "samples = next(data_iter)  \n",
    "y_one_hot = tf.one_hot(y, depth=10)  "
   ]
  },
  {
   "cell_type": "code",
   "execution_count": 43,
   "metadata": {},
   "outputs": [
    {
     "name": "stdout",
     "output_type": "stream",
     "text": [
      "3.6.12 |Anaconda, Inc.| (default, Sep  9 2020, 00:29:25) [MSC v.1916 64 bit (AMD64)]\n",
      "2.0.0\n"
     ]
    }
   ],
   "source": [
    "import sys, os\n",
    "import pandas as pd\n",
    "import numpy as np\n",
    "import matplotlib.pyplot as plt\n",
    "import tensorflow as tf\n",
    "from tensorflow import keras\n",
    "\n",
    "import time\n",
    "\n",
    "print(sys.version)\n",
    "print(tf.__version__)\n",
    "#class_names = ['T-shirt/top', 'Trouser', 'Pullover', 'Dress', 'Coat', 'Sandal', 'Shirt', 'Sneaker', 'Bag', 'Ankle boot'] \n",
    "class_names = [\"上衣\",\"褲子\",\"套衫\",\"連衣裙\",\"外套\",\"涼鞋\",\"襯衫\",\"運動鞋\",\"袋子\",\"踝靴\"]"
   ]
  },
  {
   "cell_type": "code",
   "execution_count": 64,
   "metadata": {},
   "outputs": [
    {
     "name": "stdout",
     "output_type": "stream",
     "text": [
      "<tf.Variable 'Variable:0' shape=(1,) dtype=float32, numpy=array([-0.9706699], dtype=float32)>\n",
      "<tf.Variable 'Variable:0' shape=(1,) dtype=float32, numpy=array([0.], dtype=float32)>\n"
     ]
    }
   ],
   "source": [
    "np.random.seed(13)\n",
    "n_samples = 50\n",
    "X = np.random.rand(n_samples).astype(np.float32)\n",
    "Y = X * 10 + 5\n",
    "W = tf.Variable(tf.random.normal(shape=(1,),mean=-0.5))\n",
    "b = tf.Variable(tf.zeros(shape=(1,)))\n",
    "print(W)\n",
    "print(b)"
   ]
  },
  {
   "cell_type": "code",
   "execution_count": 65,
   "metadata": {},
   "outputs": [],
   "source": [
    "def linear_regression(x):\n",
    "    return x * W + b\n",
    "\n",
    "def mean_square(y_pred, y_true):\n",
    "    return tf.reduce_sum(tf.pow(y_pred-y_true, 2)) / (n_samples)\n",
    "\n",
    "learning_rate = 0.01\n",
    "optimizer = tf.keras.optimizers.SGD(learning_rate)\n",
    "log_grads = []\n",
    "def run_optimization(show_grads):\n",
    "    with tf.GradientTape() as tape:\n",
    "        pred = linear_regression(X)\n",
    "        loss = mean_square(pred, Y)\n",
    "        \n",
    "    gradients = tape.gradient(loss, [W, b]) # model.trainable_variables\n",
    "    if (show_grads):        \n",
    "        log_grads.append(gradients)\n",
    "    optimizer.apply_gradients(zip(gradients, [W, b])) # model.trainable_variables"
   ]
  },
  {
   "cell_type": "code",
   "execution_count": 66,
   "metadata": {},
   "outputs": [
    {
     "name": "stdout",
     "output_type": "stream",
     "text": [
      "step: 100, loss: 3.721121, W: 4.058379, b: 7.299740\n",
      "step: 200, loss: 2.237636, W: 5.163899, b: 7.492721\n",
      "step: 300, loss: 1.651152, W: 5.863091, b: 7.183551\n",
      "step: 400, loss: 1.220676, W: 6.444644, b: 6.880615\n",
      "step: 500, loss: 0.902446, W: 6.943144, b: 6.617246\n",
      "step: 600, loss: 0.667176, W: 7.371651, b: 6.390567\n",
      "step: 700, loss: 0.493243, W: 7.740079, b: 6.195646\n",
      "step: 800, loss: 0.364654, W: 8.056865, b: 6.028049\n",
      "step: 900, loss: 0.269589, W: 8.329244, b: 5.883941\n",
      "step: 1000, loss: 0.199307, W: 8.563440, b: 5.760034\n"
     ]
    }
   ],
   "source": [
    "training_steps = 1000\n",
    "display_step = 100\n",
    "show_grads = False\n",
    "for step in range(training_steps):\n",
    "    show_grads = False\n",
    "    if (step+1) % display_step == 0:\n",
    "        show_grads = True\n",
    "    run_optimization(show_grads)\n",
    "    if (step+1) % display_step == 0:\n",
    "        pred = linear_regression(X)\n",
    "        loss = mean_square(pred, Y)\n",
    "        print(\"step: %i, loss: %f, W: %f, b: %f\" % ((step+1), loss, W.numpy(), b.numpy()))\n",
    "                                 "
   ]
  },
  {
   "cell_type": "code",
   "execution_count": 74,
   "metadata": {},
   "outputs": [
    {
     "name": "stdout",
     "output_type": "stream",
     "text": [
      "<tf.Variable 'Variable:0' shape=(1,) dtype=float32, numpy=array([8.56344], dtype=float32)>\n",
      "<tf.Variable 'Variable:0' shape=(1,) dtype=float32, numpy=array([5.7600336], dtype=float32)>\n"
     ]
    }
   ],
   "source": [
    "print(W)\n",
    "print(b)"
   ]
  },
  {
   "cell_type": "code",
   "execution_count": 84,
   "metadata": {},
   "outputs": [
    {
     "name": "stdout",
     "output_type": "stream",
     "text": [
      "W_g [-1.746068] \t b_g [-1.2553313]\n",
      "W_g [-0.7971609] \t b_g [0.25156933]\n",
      "W_g [-0.6304273] \t b_g [0.32024676]\n",
      "W_g [-0.5377631] \t b_g [0.28347275]\n",
      "W_g [-0.4620472] \t b_g [0.24437091]\n",
      "W_g [-0.39725325] \t b_g [0.21016566]\n",
      "W_g [-0.34156626] \t b_g [0.18070987]\n",
      "W_g [-0.29368493] \t b_g [0.15538341]\n",
      "W_g [-0.25251818] \t b_g [0.13360137]\n",
      "W_g [-0.21712384] \t b_g [0.11486955]\n",
      "W_g 值是負的，所以W加回去  b_g 值是正的，所以b減回去\n"
     ]
    }
   ],
   "source": [
    "for item in log_grads:\n",
    "    print(\"W_g\",item[0].numpy(),\"\\t\",\"b_g\",item[1].numpy())\n",
    "print(\"W_g 值是負的，所以W加回去\",\" b_g 值是正的，所以b減回去\")"
   ]
  },
  {
   "cell_type": "code",
   "execution_count": 114,
   "metadata": {},
   "outputs": [
    {
     "name": "stdout",
     "output_type": "stream",
     "text": [
      "(60000, 28, 28) (60000,)\n"
     ]
    }
   ],
   "source": [
    "class_names = [\"上衣\",\"褲子\",\"套衫\",\"連衣裙\",\"外套\",\"涼鞋\",\"襯衫\",\"運動鞋\",\"袋子\",\"踝靴\"]\n",
    "\n",
    "def data_normalize(train, test):\n",
    "    (x_train,y_train) = train\n",
    "    (x_test,y_test) = test\n",
    "    x_train = x_train.astype(np.float32) / 255. \n",
    "    x_test = x_test.astype(np.float32) /255.\n",
    "    y_train = keras.utils.to_categorical(y_train)\n",
    "    y_test = keras.utils.to_categorical(y_test)\n",
    "    y_train = y_train.astype(np.int32)\n",
    "    y_test = y_test.astype(np.int32)\n",
    "    return (x_train,y_train),(x_test,y_test) \n",
    "\n",
    "(x_train,y_train),(x_test,y_test) = keras.datasets.fashion_mnist.load_data()\n",
    "(x_train,y_train),(x_test,y_test) = data_normalize((x_train,y_train),(x_test,y_test))\n",
    "print(x_train.shape, y_train.shape)"
   ]
  },
  {
   "cell_type": "code",
   "execution_count": 112,
   "metadata": {},
   "outputs": [
    {
     "name": "stdout",
     "output_type": "stream",
     "text": [
      "id_22_外套_lb_4\n"
     ]
    },
    {
     "data": {
      "image/png": "[encoded data removed]",
      "text/plain": [
       "<Figure size 432x288 with 2 Axes>"
      ]
     },
     "metadata": {
      "needs_background": "light"
     },
     "output_type": "display_data"
    }
   ],
   "source": [
    "index = np.random.randint(100,size=(1,))\n",
    "index = index[0]\n",
    "lb_index = y_train[index]\n",
    "title = \"id_\"+str(index)+\"_\"+class_names[lb_index]+\"_lb_\"+str(lb_index)\n",
    "print(title)\n",
    "plt.figure()\n",
    "plt.imshow(x_train[index].reshape((28,28)))\n",
    "plt.colorbar()\n",
    "plt.grid(True)\n",
    "plt.show()"
   ]
  },
  {
   "cell_type": "code",
   "execution_count": 150,
   "metadata": {},
   "outputs": [
    {
     "name": "stdout",
     "output_type": "stream",
     "text": [
      "(128, 28, 28) (128, 10)\n"
     ]
    }
   ],
   "source": [
    "batch_size = 128\n",
    "ds_train = tf.data.Dataset.from_tensor_slices((x_train,y_train))\n",
    "ds_train = ds_train.shuffle(10000).batch(batch_size)\n",
    "ds_test =  tf.data.Dataset.from_tensor_slices((x_test,y_test))\n",
    "ds_test = ds_test.shuffle(10000).batch(batch_size)\n",
    "\n",
    "ds_iter = iter(ds_train)\n",
    "samples = next(ds_iter)\n",
    "print(samples[0].shape,samples[1].shape)"
   ]
  },
  {
   "cell_type": "code",
   "execution_count": 169,
   "metadata": {},
   "outputs": [
    {
     "name": "stdout",
     "output_type": "stream",
     "text": [
      "Model: \"sequential_1\"\n",
      "_________________________________________________________________\n",
      "Layer (type)                 Output Shape              Param #   \n",
      "=================================================================\n",
      "dense_5 (Dense)              multiple                  200960    \n",
      "_________________________________________________________________\n",
      "dense_6 (Dense)              multiple                  32896     \n",
      "_________________________________________________________________\n",
      "dense_7 (Dense)              multiple                  8256      \n",
      "_________________________________________________________________\n",
      "dense_8 (Dense)              multiple                  2080      \n",
      "_________________________________________________________________\n",
      "dense_9 (Dense)              multiple                  330       \n",
      "=================================================================\n",
      "Total params: 244,522\n",
      "Trainable params: 244,522\n",
      "Non-trainable params: 0\n",
      "_________________________________________________________________\n"
     ]
    }
   ],
   "source": [
    "model = keras.models.Sequential([\n",
    "    keras.layers.Dense(256,activation=\"relu\"),\n",
    "    keras.layers.Dense(128,activation=\"relu\"),\n",
    "    keras.layers.Dense(64,activation=\"relu\"),\n",
    "    keras.layers.Dense(32,activation=\"relu\"),\n",
    "    keras.layers.Dense(10,activation=\"relu\")\n",
    "])\n",
    "model.build(input_shape=(None, 28*28))\n",
    "model.summary()\n",
    "optimizer = keras.optimizers.Adam()\n",
    "loss_cce = keras.losses.CategoricalCrossentropy(from_logits=True)\n",
    "model.compile(optimizer=optimizer, loss=loss_cce)"
   ]
  },
  {
   "cell_type": "code",
   "execution_count": 175,
   "metadata": {},
   "outputs": [
    {
     "name": "stdout",
     "output_type": "stream",
     "text": [
      "x.shape (128, 28, 28)\n",
      "-1 等其他維度分完再分配\n",
      "128*28*28 // 28*28 = 128  => (128,784)\n",
      "x.shape (128, 784)\n",
      "epoch: 1 ; step: 100 tf.Tensor(0.92377347, shape=(), dtype=float32)\n",
      "epoch: 1 ; step: 200 tf.Tensor(1.0670648, shape=(), dtype=float32)\n",
      "epoch: 1 ; step: 300 tf.Tensor(1.0812948, shape=(), dtype=float32)\n",
      "epoch: 1 ; step: 400 tf.Tensor(0.9939983, shape=(), dtype=float32)\n",
      "Finish training\n"
     ]
    }
   ],
   "source": [
    "samples = next(ds_iter)\n",
    "x = samples[0]\n",
    "print(\"x.shape\",x.shape)\n",
    "x = tf.reshape(x, [-1,28*28])\n",
    "print(\"-1 等其他維度分完再分配\")\n",
    "print(\"128*28*28 // 28*28 = 128  => (128,784)\")\n",
    "print(\"x.shape\",x.shape)\n",
    "def train(epochs):\n",
    "    for epoch in range(epochs):\n",
    "        for step, (x,y) in enumerate(ds_train):\n",
    "            x = tf.reshape(x, [-1,28*28])\n",
    "            with tf.GradientTape() as tape:\n",
    "                logits = model(x)                \n",
    "                loss = loss_cce(y, logits)                \n",
    "                loss = tf.reduce_sum(loss)                \n",
    "            grads = tape.gradient(loss, model.trainable_variables)\n",
    "            optimizer.apply_gradients(zip(grads, model.trainable_variables))            \n",
    "            if (step+1) % 100 ==0:                \n",
    "                print(\"epoch:\",(epoch+1),\"; step:\",(step+1), loss)\n",
    "    print(\"Finish training\")\n",
    "    \n",
    "train(epochs=1)"
   ]
  },
  {
   "cell_type": "code",
   "execution_count": 196,
   "metadata": {},
   "outputs": [
    {
     "name": "stdout",
     "output_type": "stream",
     "text": [
      "acc :0.6641\n",
      "acc :0.7031\n",
      "acc :0.6484\n"
     ]
    }
   ],
   "source": [
    "def test(test_data):\n",
    "    for step, (x,y) in enumerate(test_data):\n",
    "        if step < 3:\n",
    "            x = tf.reshape(x,[-1,28*28]) # (128,784)\n",
    "            logits = model(x) # (128,10)\n",
    "            probs = tf.nn.softmax(logits, axis=1) # (128,10)           \n",
    "            preds = tf.argmax(probs, axis=1) # (128,) vale= 0-9             \n",
    "            labels = tf.argmax(y, axis=1) # (128,) vale= 0-9             \n",
    "            correct = tf.equal(preds, labels) # (128,) value=True or False            \n",
    "            correct = tf.cast(correct,dtype=tf.int32) # (128,) value=1 or 0            \n",
    "            result = tf.reduce_sum(correct) # (1,)\n",
    "            accuracy = result / x.shape[0] # batch_size\n",
    "            print(\"acc :{:.4f}\".format(accuracy.numpy()))            \n",
    "            \n",
    "test(ds_test)"
   ]
  },
  {
   "cell_type": "code",
   "execution_count": 221,
   "metadata": {},
   "outputs": [
    {
     "name": "stdout",
     "output_type": "stream",
     "text": [
      "predict: 7\n",
      "label: 7\n",
      "運動鞋\n"
     ]
    },
    {
     "data": {
      "image/png": "[encoded data removed]",
      "text/plain": [
       "<Figure size 432x288 with 1 Axes>"
      ]
     },
     "metadata": {
      "needs_background": "light"
     },
     "output_type": "display_data"
    }
   ],
   "source": [
    "#samples = next(ds_iter)\n",
    "(x_smp,y_smp) = samples # batch_size = 128\n",
    "x_smp = x_smp[0:1]\n",
    "y_smp = y_smp[0:1]\n",
    "\n",
    "x_smp = tf.reshape(x_smp,[-1,28*28]) # (1,784)\n",
    "logits = model(x_smp) # (1,10)\n",
    "logits = tf.reshape(logits, [-1]) # (10,)\n",
    "predict = tf.argmax(logits, axis=0)\n",
    "y_smp = tf.reshape(y_smp, [-1]) # (10,)\n",
    "y_smp = tf.argmax(logits, axis=0)\n",
    "print(\"predict:\",predict.numpy())\n",
    "print(\"label:\",y_smp.numpy())\n",
    "print(class_names[predict.numpy()])\n",
    "x_smp = tf.reshape(x_smp,[28,28])\n",
    "plt.figure()\n",
    "plt.imshow(x_smp)\n",
    "plt.show()"
   ]
  },
  {
   "cell_type": "code",
   "execution_count": null,
   "metadata": {},
   "outputs": [],
   "source": []
  }
 ],
 "metadata": {
  "kernelspec": {
   "display_name": "Python 3",
   "language": "python",
   "name": "python3"
  },
  "language_info": {
   "codemirror_mode": {
    "name": "ipython",
    "version": 3
   },
   "file_extension": ".py",
   "mimetype": "text/x-python",
   "name": "python",
   "nbconvert_exporter": "python",
   "pygments_lexer": "ipython3",
   "version": "3.6.12"
  }
 },
 "nbformat": 4,
 "nbformat_minor": 4
}
