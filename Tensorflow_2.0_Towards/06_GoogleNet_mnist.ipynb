{
 "cells": [
  {
   "cell_type": "markdown",
   "metadata": {},
   "source": [
    "06_GoogleNet_mnist"
   ]
  },
  {
   "cell_type": "code",
   "execution_count": 3,
   "metadata": {},
   "outputs": [
    {
     "name": "stdout",
     "output_type": "stream",
     "text": [
      "2.0.0\n",
      "3.6.12 |Anaconda, Inc.| (default, Sep  9 2020, 00:29:25) [MSC v.1916 64 bit (AMD64)]\n"
     ]
    }
   ],
   "source": [
    "import numpy as np\n",
    "import pandas as pd\n",
    "import tensorflow as tf\n",
    "import matplotlib.pyplot as plt\n",
    "from tensorflow.keras import datasets,layers,models,optimizers,Sequential,metrics,losses,utils\n",
    "#from sklearn import preprocessing\n",
    "import sys,os\n",
    "print(tf.__version__)\n",
    "print(sys.version)"
   ]
  },
  {
   "cell_type": "code",
   "execution_count": 25,
   "metadata": {},
   "outputs": [
    {
     "name": "stdout",
     "output_type": "stream",
     "text": [
      "(6000, 28, 28, 1) (6000, 10)\n",
      "(6000, 28, 28, 1) (6000, 10)\n"
     ]
    }
   ],
   "source": [
    "def data_normalize(train, test, scale=1):\n",
    "    (x_train,y_train) = train\n",
    "    (x_test,y_test) = test\n",
    "    train_nums = x_train.shape[0] // scale\n",
    "    test_nums = x_test.shape[0] // scale\n",
    "    x_train, y_train = x_train[:train_nums], y_train[:train_nums]\n",
    "    x_test, y_test = x_test[:train_nums], y_test[:train_nums]\n",
    "    x_train = x_train.astype(np.float32) / 255.\n",
    "    x_test = x_test.astype(np.float32) / 255.\n",
    "    y_train = utils.to_categorical(y_train)#.astype(np.int32)\n",
    "    y_test = utils.to_categorical(y_test)\n",
    "    \n",
    "    x_train = np.expand_dims(x_train, axis=-1)\n",
    "    x_test = np.expand_dims(x_test, axis=-1)\n",
    "    \n",
    "    print(x_train.shape,y_train.shape)\n",
    "    print(x_test.shape,y_test.shape)\n",
    "    \n",
    "    return (x_train,y_train),(x_test,y_test)\n",
    "\n",
    "(x_train,y_train),(x_test,y_test) = datasets.mnist.load_data()\n",
    "(x_train,y_train),(x_test,y_test) = data_normalize((x_train,y_train),(x_test,y_test), scale=10) "
   ]
  },
  {
   "cell_type": "code",
   "execution_count": 20,
   "metadata": {},
   "outputs": [
    {
     "name": "stdout",
     "output_type": "stream",
     "text": [
      "(1, 10)\n"
     ]
    }
   ],
   "source": [
    "class ConvBNRelu(models.Model):\n",
    "    def __init__(self, filters, kernel_size=3, strides=1, padding='SAME'):\n",
    "        super(ConvBNRelu, self).__init__()\n",
    "        self.model = models.Sequential([\n",
    "            layers.Conv2D(filters=filters, kernel_size=kernel_size, strides=strides, padding=padding),\n",
    "            layers.BatchNormalization(),   # 增加Batch Normalization\n",
    "            layers.ReLU()\n",
    "        ])\n",
    "\n",
    "    def call(self, inputs, training=None):\n",
    "        inputs = self.model(inputs, training=training)\n",
    "        return inputs\n",
    "    \n",
    "class InceptionBlock(models.Model):\n",
    "    def __init__(self, filters, strides=1):\n",
    "        super(InceptionBlock, self).__init__()\n",
    "        self.filters = filters\n",
    "        self.strides = strides\n",
    "        self.conv1 = ConvBNRelu(filters, strides=strides)\n",
    "        self.conv2 = ConvBNRelu(filters, kernel_size=3, strides=strides)\n",
    "        self.conv3 = ConvBNRelu(filters, kernel_size=3, strides=strides)\n",
    "        self.conv4 = ConvBNRelu(filters, kernel_size=3, strides=1)\n",
    "\n",
    "        self.pool = layers.MaxPooling2D(pool_size=3, strides=1, padding='SAME')\n",
    "        self.pool_conv = ConvBNRelu(filters, strides=strides)\n",
    "\n",
    "    def call(self, inputs, training=None):\n",
    "        x1 = self.conv1(inputs, training=training)\n",
    "        x2 = self.conv2(inputs, training=training)\n",
    "        x3 = self.conv3(inputs, training=training)\n",
    "        x4 = self.conv4(x3, training=training)\n",
    "\n",
    "        x5 = self.pool(inputs)\n",
    "        x5 = self.pool_conv(x5, training=training)\n",
    "        # 將四個卷積核疊加在一起\n",
    "        x = tf.concat([x1, x2, x4, x5], axis=3)\n",
    "\n",
    "        return x\n",
    "\n",
    "class GoogleNet(models.Model):\n",
    "    def __init__(self, num_layers, num_classes, init_channel=16, **kwargs):\n",
    "        super(GoogleNet, self).__init__(**kwargs)\n",
    "\n",
    "        self.input_channel = init_channel\n",
    "        self.output_channel = init_channel\n",
    "        self.num_classes = num_classes\n",
    "        self.init_channel = init_channel\n",
    "\n",
    "        self.conv1 = ConvBNRelu(init_channel)\n",
    "        self.blocks = Sequential(name='dynamic-blocks')\n",
    "\n",
    "        for block_id in range(num_layers):\n",
    "            for layer_id in range(2):\n",
    "                if layer_id == 0:\n",
    "                    block = InceptionBlock(self.output_channel, strides=2)\n",
    "                else:\n",
    "                    block = InceptionBlock(self.output_channel, strides=1)\n",
    "\n",
    "                self.blocks.add(block)\n",
    "            # Increase output dimension per block\n",
    "            self.output_channel *= 2\n",
    "\n",
    "        self.avg_pool = layers.GlobalAveragePooling2D()\n",
    "        self.fc = layers.Dense(num_classes)\n",
    "\n",
    "    def call(self, inputs, training=None):\n",
    "        out = self.conv1(inputs, training=None)\n",
    "        out = self.blocks(out, training=None)\n",
    "        out = self.avg_pool(out)\n",
    "        out = self.fc(out)\n",
    "\n",
    "        return out\n",
    "\n",
    "# input_shape = (None,28,28,1)\n",
    "# test_model = ConvBNRelu(filters=3)\n",
    "# test_model = InceptionBlock(filters=3)\n",
    "# test_model = GoogleNet(num_layers=2,num_classes=10)\n",
    "# test_model.build(input_shape=input_shape)\n",
    "# outputs = test_model(x_train[0:1])\n",
    "# print(outputs.shape)"
   ]
  },
  {
   "cell_type": "code",
   "execution_count": 22,
   "metadata": {},
   "outputs": [
    {
     "name": "stdout",
     "output_type": "stream",
     "text": [
      "Model: \"google_net_3\"\n",
      "_________________________________________________________________\n",
      "Layer (type)                 Output Shape              Param #   \n",
      "=================================================================\n",
      "conv_bn_relu_63 (ConvBNRelu) multiple                  224       \n",
      "_________________________________________________________________\n",
      "dynamic-blocks (Sequential)  multiple                  292704    \n",
      "_________________________________________________________________\n",
      "global_average_pooling2d_2 ( multiple                  0         \n",
      "_________________________________________________________________\n",
      "dense_2 (Dense)              multiple                  1290      \n",
      "=================================================================\n",
      "Total params: 294,218\n",
      "Trainable params: 293,226\n",
      "Non-trainable params: 992\n",
      "_________________________________________________________________\n"
     ]
    }
   ],
   "source": [
    "# Inception = GoogleNet(5, 10)\n",
    "# Inception.build(input_shape=(None, 28, 28, 1))\n",
    "input_shape = (None,28,28,1)\n",
    "model = GoogleNet(num_layers=2,num_classes=10)\n",
    "model.build(input_shape=input_shape)\n",
    "model.summary()"
   ]
  },
  {
   "cell_type": "code",
   "execution_count": 26,
   "metadata": {},
   "outputs": [
    {
     "name": "stdout",
     "output_type": "stream",
     "text": [
      "Train on 6000 samples, validate on 6000 samples\n",
      "Epoch 1/4\n",
      "6000/6000 [==============================] - 35s 6ms/sample - loss: 0.7742 - accuracy: 0.7785 - val_loss: 10.9304 - val_accuracy: 0.1602\n",
      "Epoch 2/4\n",
      "6000/6000 [==============================] - 32s 5ms/sample - loss: 0.1183 - accuracy: 0.9685 - val_loss: 10.4179 - val_accuracy: 0.1762\n",
      "Epoch 3/4\n",
      "6000/6000 [==============================] - 32s 5ms/sample - loss: 0.0657 - accuracy: 0.9813 - val_loss: 8.9324 - val_accuracy: 0.2127\n",
      "Epoch 4/4\n",
      "6000/6000 [==============================] - 31s 5ms/sample - loss: 0.0382 - accuracy: 0.9897 - val_loss: 5.5963 - val_accuracy: 0.2233\n"
     ]
    }
   ],
   "source": [
    "batch_size = 256\n",
    "optimizer = optimizers.Adam(lr=0.01)\n",
    "loss_func = losses.CategoricalCrossentropy(from_logits=True)\n",
    "model.compile(loss=loss_func, optimizer=optimizer, metrics=[\"accuracy\"])\n",
    "history = model.fit(x_train,y_train, batch_size=batch_size, epochs=4, verbose=1,validation_data=(x_test,y_test))"
   ]
  },
  {
   "cell_type": "code",
   "execution_count": 27,
   "metadata": {},
   "outputs": [
    {
     "data": {
      "image/png": "[encoded data removed]",
      "text/plain": [
       "<Figure size 864x216 with 2 Axes>"
      ]
     },
     "metadata": {
      "needs_background": "light"
     },
     "output_type": "display_data"
    }
   ],
   "source": [
    "def visual_train_status(history):\n",
    "        plt.figure(figsize=(12,3))\n",
    "        loss = history.history[\"loss\"]\n",
    "        val_loss = history.history[\"val_loss\"]\n",
    "        epochs = range(1, len(loss)+1)  \n",
    "        plt.subplot(1,2,1)\n",
    "        plt.plot(epochs, loss, \"b--\", label=\"Training Loss\")\n",
    "        plt.plot(epochs, val_loss, \"r--\", label=\"Validation Loss\")\n",
    "        plt.title(\"Training and Validation Loss\")\n",
    "        plt.xlabel(\"Epochs\")\n",
    "        plt.ylabel(\"Loss\")\n",
    "        plt.legend()\n",
    "        \n",
    "        # 顯示訓練和驗證準確度\n",
    "        acc = history.history[\"accuracy\"]\n",
    "        val_acc = history.history[\"val_accuracy\"]\n",
    "        epochs = range(1, len(acc)+1)\n",
    "        plt.subplot(1,2,2)\n",
    "        plt.plot(epochs, acc, \"b-\", label=\"Training Acc\")\n",
    "        plt.plot(epochs, val_acc, \"r--\", label=\"Validation Acc\")\n",
    "        plt.title(\"Training and Validation Accuracy\")\n",
    "        plt.xlabel(\"Epochs\")\n",
    "        plt.ylabel(\"Accuracy\")\n",
    "        plt.legend()\n",
    "        plt.show()\n",
    "        \n",
    "visual_train_status(history)"
   ]
  },
  {
   "cell_type": "code",
   "execution_count": 28,
   "metadata": {},
   "outputs": [
    {
     "name": "stdout",
     "output_type": "stream",
     "text": [
      "Predictions\n",
      "tf.Tensor([2 2 2 1 2 2 2 1 2 2], shape=(10,), dtype=int64)\n",
      "Labels\n",
      "tf.Tensor([6 0 5 4 9 9 2 1 9 4], shape=(10,), dtype=int64)\n",
      "陸\t零\t伍\t肆\t玖\t玖\t貳\t壹\t玖\t肆\t\n"
     ]
    },
    {
     "data": {
      "image/png": "[encoded data removed]",
      "text/plain": [
       "<Figure size 864x144 with 10 Axes>"
      ]
     },
     "metadata": {
      "needs_background": "light"
     },
     "output_type": "display_data"
    }
   ],
   "source": [
    "class_names = [\"零\",\"壹\",\"貳\",\"參\",\"肆\",\"伍\",\"陸\",\"柒\",\"捌\",\"玖\"]\n",
    "index = 100 # np.random.randint(900)\n",
    "preds = model.predict(x_test[index:index+10])\n",
    "preds = tf.argmax(preds, axis=1)\n",
    "print(\"Predictions\")\n",
    "print(preds)\n",
    "labels = y_test[index:index+10]\n",
    "labels = tf.argmax(labels, axis=1)\n",
    "print(\"Labels\")\n",
    "print(labels)\n",
    "for i in range(10):\n",
    "    print(class_names[labels[i]],end=\"\\t\")\n",
    "print()\n",
    "plt.figure(figsize=(12,2))\n",
    "for i in range(10):\n",
    "    plt.subplot(1,10,(i+1))\n",
    "    plt.axis(\"off\")\n",
    "    plt.imshow(x_test[index+i])\n",
    "plt.show()"
   ]
  },
  {
   "cell_type": "code",
   "execution_count": null,
   "metadata": {},
   "outputs": [],
   "source": []
  }
 ],
 "metadata": {
  "kernelspec": {
   "display_name": "Python 3",
   "language": "python",
   "name": "python3"
  },
  "language_info": {
   "codemirror_mode": {
    "name": "ipython",
    "version": 3
   },
   "file_extension": ".py",
   "mimetype": "text/x-python",
   "name": "python",
   "nbconvert_exporter": "python",
   "pygments_lexer": "ipython3",
   "version": "3.6.12"
  }
 },
 "nbformat": 4,
 "nbformat_minor": 4
}
