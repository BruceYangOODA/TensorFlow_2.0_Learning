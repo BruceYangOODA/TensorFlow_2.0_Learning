{
 "cells": [
  {
   "cell_type": "markdown",
   "metadata": {},
   "source": [
    "### Intro to Conv2D Pooling\n",
    "optimizer = optimizers.Adam(lr=0.03)  \n",
    "loss_fun = losses.CategoricalCrossentropy(from_logits=True)  \n",
    "model.compile(loss=loss_func, optimizer=optimizer, metrics=[\"accuracy\"])  \n",
    "history = model.fit(x_train,y_train, batch_size=batch_size, epochs=3, verbose=1,validation_data=(x_test,y_test))  \n",
    "model.trainable_variables  "
   ]
  },
  {
   "cell_type": "code",
   "execution_count": 2,
   "metadata": {},
   "outputs": [
    {
     "name": "stdout",
     "output_type": "stream",
     "text": [
      "2.0.0\n",
      "3.6.12 |Anaconda, Inc.| (default, Sep  9 2020, 00:29:25) [MSC v.1916 64 bit (AMD64)]\n"
     ]
    }
   ],
   "source": [
    "import numpy as np\n",
    "import pandas as pd\n",
    "from sklearn import preprocessing\n",
    "import tensorflow as tf\n",
    "import matplotlib.pyplot as plt\n",
    "from tensorflow.keras import datasets,layers,models,optimizers,Sequential,metrics,losses, utils\n",
    "\n",
    "import sys,os\n",
    "print(tf.__version__)\n",
    "print(sys.version)\n",
    "\n",
    "\n",
    "#class_names = [\"airplain\",\"automobile\",\"bird\",\"cat\",\"deer\",\"dog\",\"frog\",\"horse\",\"ship\",\"truck\"]\n",
    "class_names = [\"飛機\",\"汽車\",\"鳥\",\"貓\",\"鹿\",\"狗\",\"青蛙\",\"馬\",\"船\",\"卡車\"]\n"
   ]
  },
  {
   "cell_type": "code",
   "execution_count": 115,
   "metadata": {},
   "outputs": [
    {
     "name": "stdout",
     "output_type": "stream",
     "text": [
      "(50000, 32, 32, 3) (50000, 10)\n",
      "(10000, 32, 32, 3) (10000, 10)\n"
     ]
    }
   ],
   "source": [
    "from tensorflow.keras import utils\n",
    "def data_normalize(train, test):\n",
    "    (x_train,y_train) = train\n",
    "    (x_test,y_test) = test\n",
    "    x_train = x_train.astype(np.float32) / 255.\n",
    "    x_test = x_test.astype(np.float32) / 255.\n",
    "    y_train = utils.to_categorical(y_train).astype(np.int32)\n",
    "    y_test = utils.to_categorical(y_test).astype(np.int32)\n",
    "    \n",
    "    return (x_train,y_train),(x_test,y_test)\n",
    "(x_train,y_train),(x_test,y_test) = datasets.cifar10.load_data()\n",
    "(x_train,y_train),(x_test,y_test) = data_normalize((x_train,y_train),(x_test,y_test))\n",
    "print(x_train.shape,y_train.shape)\n",
    "print(x_test.shape,y_test.shape)"
   ]
  },
  {
   "cell_type": "code",
   "execution_count": 119,
   "metadata": {},
   "outputs": [
    {
     "name": "stdout",
     "output_type": "stream",
     "text": [
      "汽車 tf.Tensor(1, shape=(), dtype=int64)\n"
     ]
    },
    {
     "data": {
      "image/png": "[encoded data removed]",
      "text/plain": [
       "<Figure size 432x288 with 2 Axes>"
      ]
     },
     "metadata": {
      "needs_background": "light"
     },
     "output_type": "display_data"
    }
   ],
   "source": [
    "index = np.random.randint(100)\n",
    "label = tf.argmax(y_train[index], axis=0)\n",
    "print(class_names[label],label)\n",
    "plt.figure()\n",
    "plt.imshow(x_train[index])\n",
    "plt.colorbar()\n",
    "plt.show()"
   ]
  },
  {
   "cell_type": "markdown",
   "metadata": {},
   "source": [
    "### Intro to Conv2D Pooling"
   ]
  },
  {
   "cell_type": "code",
   "execution_count": 56,
   "metadata": {},
   "outputs": [
    {
     "name": "stdout",
     "output_type": "stream",
     "text": [
      "filters=1 定義輸出尾數維度\n",
      "filters=1  (None, 32, 32, 3) 輸出變成 (1, 32, 32, 1)\n",
      "filters=13 (None, 32, 32, 3) 輸出變成 (1, 32, 32, 13)\n"
     ]
    }
   ],
   "source": [
    "#x = tf.expand_dims(x_train[0],axis=0)\n",
    "x = x_train[0:1]\n",
    "input_shape= (None,32,32,3)\n",
    "conv_1 = layers.Conv2D(filters=1, kernel_size=3,padding='same',activation=\"relu\")\n",
    "conv_1.build(input_shape=input_shape)\n",
    "outputs_1 = conv_1(x)\n",
    "conv_2 = layers.Conv2D(filters=13, kernel_size=3,padding='same',activation=\"relu\")\n",
    "conv_2.build(input_shape=input_shape)\n",
    "outputs_2 = conv_2(x)\n",
    "print(\"filters=1 定義輸出尾數維度\")\n",
    "print(\"filters=1 \",input_shape,\"輸出變成\",outputs_1.shape)\n",
    "print(\"filters=13\",input_shape,\"輸出變成\",outputs_2.shape)"
   ]
  },
  {
   "cell_type": "code",
   "execution_count": 69,
   "metadata": {},
   "outputs": [
    {
     "name": "stdout",
     "output_type": "stream",
     "text": [
      "padding 定義邊緣填充, valid 邊緣捲積不足的部分，忽略\n",
      "padding 定義邊緣填充, same 邊緣捲積不足的部分，填充補齊\n",
      "32 - kernel_size = 29 + 1 = 30\n",
      "padding='valid' ,\toutputs (1, 30, 30, 3)\n",
      "padding='same'  ,\toutputs (1, 32, 32, 3)\n",
      "32 - kernel_size = 29 + kernel_size = 32\n",
      "\n",
      "strides 定義捲積核位移尺度，預設 1\n",
      "32 - kernel_size = 29, 29/5= 5餘4\n",
      "outputs = 5 + 1(第一捲積) + 1(剩餘捲積) = 7\n",
      "strides=5,\toutputs (1, 7, 7, 3)\n",
      "strides=2,\toutputs (1, 16, 16, 3)\n",
      "32 - kernel_size = 29, 29/2= 14餘1\n",
      "outputs = 14 + 1(第一捲積) + 1(剩餘捲積) = 16\n"
     ]
    }
   ],
   "source": [
    "conv_1 = layers.Conv2D(filters=3, kernel_size=3,strides=1,padding='valid',activation=\"relu\")\n",
    "outputs_1 = conv_1(x)\n",
    "conv_2 = layers.Conv2D(filters=3, kernel_size=3,strides=1,padding='same',activation=\"relu\")\n",
    "outputs_2 = conv_2(x)\n",
    "print(\"padding 定義邊緣填充, valid 邊緣捲積不足的部分，忽略\")\n",
    "print(\"padding 定義邊緣填充, same 邊緣捲積不足的部分，填充補齊\")\n",
    "print(\"32 - kernel_size = 29 + 1 = 30\")\n",
    "print(\"padding='valid' ,\\toutputs\",outputs_1.shape)\n",
    "print(\"padding='same'  ,\\toutputs\",outputs_2.shape)\n",
    "print(\"32 - kernel_size = 29 + kernel_size = 32\")\n",
    "print()\n",
    "print(\"strides 定義捲積核位移尺度，預設 1\")\n",
    "conv_1 = layers.Conv2D(filters=3, kernel_size=3,strides=5,padding='same',activation=\"relu\")\n",
    "outputs_1 = conv_1(x)\n",
    "conv_2 = layers.Conv2D(filters=3, kernel_size=3,strides=2,padding='same',activation=\"relu\")\n",
    "outputs_2 = conv_2(x)\n",
    "print(\"32 - kernel_size = 29, 29/5= 5餘4\")\n",
    "print(\"outputs = 5 + 1(第一捲積) + 1(剩餘捲積) = 7\")\n",
    "print(\"strides=5,\\toutputs\",outputs_1.shape)\n",
    "print(\"strides=2,\\toutputs\",outputs_2.shape)\n",
    "print(\"32 - kernel_size = 29, 29/2= 14餘1\")\n",
    "print(\"outputs = 14 + 1(第一捲積) + 1(剩餘捲積) = 16\")"
   ]
  },
  {
   "cell_type": "code",
   "execution_count": 81,
   "metadata": {},
   "outputs": [
    {
     "name": "stdout",
     "output_type": "stream",
     "text": [
      "池化層同樣 pooling\n",
      "32 - pool_size = 30, 30/3= 10\n",
      "outputs = 10 + 1(第一捲積) = 11\n",
      "strides=3,\toutputs (1, 11, 11, 3)\n"
     ]
    }
   ],
   "source": [
    "conv_1 = layers.Conv2D(filters=3, kernel_size=3,strides=1,padding='same',activation=\"relu\")\n",
    "pool_1 = layers.MaxPool2D(pool_size=2,strides=3,padding='same')\n",
    "outputs_x = conv_1(x)\n",
    "outputs_1 = pool_1(outputs_x)\n",
    "print(\"池化層同樣 pooling\")\n",
    "print(\"32 - pool_size = 30, 30/3= 10\")\n",
    "print(\"outputs = 10 + 1(第一捲積) = 11\")\n",
    "print(\"strides=3,\\toutputs\",outputs_1.shape)"
   ]
  },
  {
   "cell_type": "code",
   "execution_count": 84,
   "metadata": {},
   "outputs": [
    {
     "name": "stdout",
     "output_type": "stream",
     "text": [
      "layers.Flatten()\n",
      "input_shape (1,11,11,3) => 壓平\n",
      "outputs (1, 11*11*3) = (1, 363)\n"
     ]
    }
   ],
   "source": [
    "flatten = layers.Flatten()\n",
    "outputs_2 = flatten(outputs_1)\n",
    "print(\"layers.Flatten()\")\n",
    "print(\"input_shape (1,11,11,3) => 壓平\")\n",
    "print(\"outputs (1, 11*11*3) =\",outputs_2.shape)"
   ]
  },
  {
   "cell_type": "code",
   "execution_count": 125,
   "metadata": {},
   "outputs": [
    {
     "name": "stdout",
     "output_type": "stream",
     "text": [
      "Model: \"sequential_8\"\n",
      "_________________________________________________________________\n",
      "Layer (type)                 Output Shape              Param #   \n",
      "=================================================================\n",
      "conv_1 (Conv2D)              multiple                  224       \n",
      "_________________________________________________________________\n",
      "pool_1 (MaxPooling2D)        multiple                  0         \n",
      "_________________________________________________________________\n",
      "conv_2 (Conv2D)              multiple                  1168      \n",
      "_________________________________________________________________\n",
      "pool_2 (MaxPooling2D)        multiple                  0         \n",
      "_________________________________________________________________\n",
      "conv_3 (Conv2D)              multiple                  4640      \n",
      "_________________________________________________________________\n",
      "pool_3 (MaxPooling2D)        multiple                  0         \n",
      "_________________________________________________________________\n",
      "conv_4 (Conv2D)              multiple                  18496     \n",
      "_________________________________________________________________\n",
      "pool_4 (MaxPooling2D)        multiple                  0         \n",
      "_________________________________________________________________\n",
      "flaten (Flatten)             multiple                  0         \n",
      "_________________________________________________________________\n",
      "dd_1 (Dense)                 multiple                  65792     \n",
      "_________________________________________________________________\n",
      "dd_2 (Dense)                 multiple                  32896     \n",
      "_________________________________________________________________\n",
      "dd_3 (Dense)                 multiple                  4128      \n",
      "_________________________________________________________________\n",
      "dd_4 (Dense)                 multiple                  330       \n",
      "=================================================================\n",
      "Total params: 127,674\n",
      "Trainable params: 127,674\n",
      "Non-trainable params: 0\n",
      "_________________________________________________________________\n"
     ]
    }
   ],
   "source": [
    "# preds tf.Tensor([6 6 6 6 6 6 6 6 6 6], shape=(10,), dtype=int64) \n",
    "# 要用 layers.Dropout 改善\n",
    "class VGG16(models.Model):\n",
    "    def __init__(self):\n",
    "        super(VGG16, self).__init__()\n",
    "        self.conv_1 = layers.Conv2D(filters=8, kernel_size=3, padding=\"same\", activation=\"relu\", name=\"conv_1\")\n",
    "        self.pool_1 = layers.MaxPool2D(pool_size=2, strides=2, padding=\"same\", name=\"pool_1\")\n",
    "        self.conv_2 = layers.Conv2D(filters=16, kernel_size=3, padding=\"same\", activation=\"relu\", name=\"conv_2\")\n",
    "        self.pool_2 = layers.MaxPool2D(pool_size=2, strides=2, padding=\"same\", name=\"pool_2\")\n",
    "        self.conv_3 = layers.Conv2D(filters=32, kernel_size=3, padding=\"same\", activation=\"relu\", name=\"conv_3\")\n",
    "        self.pool_3 = layers.MaxPool2D(pool_size=2, strides=2, padding=\"same\", name=\"pool_3\")\n",
    "        self.conv_4 = layers.Conv2D(filters=64, kernel_size=3, padding=\"same\", activation=\"relu\", name=\"conv_4\")\n",
    "        self.pool_4 = layers.MaxPool2D(pool_size=2, strides=2, padding=\"same\", name=\"pool_4\")\n",
    "        self.flatten = layers.Flatten(name=\"flaten\")\n",
    "        self.dd_1 = layers.Dense(units=256, activation=\"relu\", name=\"dd_1\")\n",
    "        self.dd_2 = layers.Dense(units=128, activation=\"relu\", name=\"dd_2\")\n",
    "        self.dd_3 = layers.Dense(units=32, activation=\"relu\", name=\"dd_3\")\n",
    "        self.dd_4 = layers.Dense(units=10, activation=\"softmax\", name=\"dd_4\")\n",
    "        \n",
    "        self.model_seq = self.create_model_seq()\n",
    "        \n",
    "    def call(self, inputs):\n",
    "        x = self.conv_1(inputs)\n",
    "        x = self.pool_1(x)      \n",
    "        #print(\"pool_1 ops\",x)          \n",
    "        x = self.conv_2(x)\n",
    "        x = self.pool_2(x)        \n",
    "        #print(\"pool_2 ops\",x)        \n",
    "        x = self.conv_3(x)\n",
    "        x = self.pool_3(x)        \n",
    "        #print(\"pool_3 ops\",x)        \n",
    "        x = self.conv_4(x)\n",
    "        x = self.pool_4(x) \n",
    "        #print(\"pool_4 ops\",x)\n",
    "        x = self.flatten(x)\n",
    "        #print(\"flatten ops\",x)\n",
    "        x = self.dd_1(x)\n",
    "        #print(\"dd_1 ops\",x)\n",
    "        x = self.dd_2(x)\n",
    "        #print(\"dd_2 ops\",x)\n",
    "        x = self.dd_3(x)\n",
    "        #print(\"dd_3 ops\",x)\n",
    "        x = self.dd_4(x)\n",
    "        #print(\"dd_4 ops\",x)\n",
    "        return x\n",
    "        \n",
    "    def create_model_seq(self):\n",
    "        model = models.Sequential()\n",
    "        model.add(self.conv_1)\n",
    "        model.add(self.pool_1)\n",
    "        model.add(self.conv_2)\n",
    "        model.add(self.pool_2)\n",
    "        model.add(self.conv_3)\n",
    "        model.add(self.pool_3)\n",
    "        model.add(self.conv_4)\n",
    "        model.add(self.pool_4)\n",
    "        model.add(self.flatten)\n",
    "        model.add(self.dd_1)\n",
    "        model.add(self.dd_2)\n",
    "        model.add(self.dd_3)\n",
    "        model.add(self.dd_4)\n",
    "        return model\n",
    "\n",
    "model = VGG16()\n",
    "model.model_seq.build(input_shape=(None,32,32,3))\n",
    "model.model_seq.summary()"
   ]
  },
  {
   "cell_type": "code",
   "execution_count": 98,
   "metadata": {},
   "outputs": [
    {
     "name": "stdout",
     "output_type": "stream",
     "text": [
      "pool_1 ops Tensor(\"pool_1/MaxPool:0\", shape=(None, 16, 16, 8), dtype=float32)\n",
      "pool_2 ops Tensor(\"pool_2/MaxPool:0\", shape=(None, 8, 8, 16), dtype=float32)\n",
      "pool_3 ops Tensor(\"pool_3/MaxPool:0\", shape=(None, 4, 4, 32), dtype=float32)\n",
      "pool_4 ops Tensor(\"pool_4/MaxPool:0\", shape=(None, 2, 2, 64), dtype=float32)\n",
      "flatten ops Tensor(\"flaten/Reshape:0\", shape=(None, 256), dtype=float32)\n",
      "dd_1 ops Tensor(\"dd_1/Relu:0\", shape=(None, 256), dtype=float32)\n",
      "dd_2 ops Tensor(\"dd_2/Relu:0\", shape=(None, 128), dtype=float32)\n",
      "dd_3 ops Tensor(\"dd_3/Relu:0\", shape=(None, 32), dtype=float32)\n",
      "dd_4 ops Tensor(\"dd_4/Relu:0\", shape=(None, 10), dtype=float32)\n"
     ]
    }
   ],
   "source": [
    "model.build(input_shape=(None,32,32,3))"
   ]
  },
  {
   "cell_type": "code",
   "execution_count": 121,
   "metadata": {},
   "outputs": [
    {
     "name": "stdout",
     "output_type": "stream",
     "text": [
      "(256, 32, 32, 3) (256, 10)\n"
     ]
    }
   ],
   "source": [
    "batch_size = 256\n",
    "optimizer = optimizers.Adam(lr=0.03)\n",
    "loss_func = losses.CategoricalCrossentropy(from_logits=True)\n",
    "model.compile(loss=loss_func, optimizer=optimizer)\n",
    "\n",
    "ds_train = tf.data.Dataset.from_tensor_slices((x_train,y_train))\n",
    "ds_train = ds_train.shuffle(10000).batch(batch_size)\n",
    "ds_test = tf.data.Dataset.from_tensor_slices((x_test,y_test))\n",
    "ds_test = ds_test.shuffle(10000).batch(batch_size)\n",
    "\n",
    "data_iter = iter(ds_train)\n",
    "samples = next(data_iter)\n",
    "print(samples[0].shape,samples[1].shape)"
   ]
  },
  {
   "cell_type": "code",
   "execution_count": 139,
   "metadata": {},
   "outputs": [
    {
     "name": "stdout",
     "output_type": "stream",
     "text": [
      "Epoch: 0 \tStep: 30 \tloss:2.307879\n",
      "Epoch: 0 \tStep: 60 \tloss:2.305974\n",
      "Epoch: 0 \tStep: 90 \tloss:2.301124\n",
      "Epoch: 0 \tStep: 120 \tloss:2.302898\n",
      "Epoch: 0 \tStep: 150 \tloss:2.300096\n",
      "Epoch: 0 \tStep: 180 \tloss:2.308402\n",
      "finnish training\n"
     ]
    }
   ],
   "source": [
    "\n",
    "def train(epochs):\n",
    "    for epoch in range(epochs):\n",
    "        for step, (x,y) in enumerate(ds_train):        \n",
    "            with tf.GradientTape() as tape:\n",
    "                logits = model(x) # shape=(256, 10)                \n",
    "                #loss = loss_func(logits) # shape=()\n",
    "                loss = tf.keras.losses.categorical_crossentropy(y, logits,from_logits=True) \n",
    "                loss = tf.reduce_mean(loss)\n",
    "                #print(logits)\n",
    "                #print(loss)\n",
    "            #grads = tape.gradient(loss, model.trainable_variables)\n",
    "            #optimizer.apply_gradients(zip(loss, model.trainable_variables))\n",
    "            if (step+1) % 30 == 0:\n",
    "                print(\"Epoch:\",epoch,\"\\tStep:\",(step+1),\"\\tloss:%.6f\"%loss)# \n",
    "                \n",
    "    print(\"finnish training\")\n",
    "            \n",
    "train(1)"
   ]
  },
  {
   "cell_type": "code",
   "execution_count": 154,
   "metadata": {},
   "outputs": [
    {
     "name": "stdout",
     "output_type": "stream",
     "text": [
      "0 acc: 0.0625\n",
      "1 acc: 0.0625\n",
      "2 acc: 0.1875\n",
      "Finishing testing\n"
     ]
    }
   ],
   "source": [
    "def test(epochs):\n",
    "    for epoch in range(epochs):\n",
    "        for step, (x,y) in enumerate(ds_test):\n",
    "            logits = model(x)            \n",
    "            #probs = tf.nn.softmax(logits, axis=1)            \n",
    "            pred = tf.argmax(logits, axis=1)            \n",
    "            y = tf.argmax(y, axis=1)            \n",
    "            correct = tf.equal(pred,y)\n",
    "            correct = tf.cast(correct, dtype=tf.int32)            \n",
    "            result = tf.reduce_sum(correct)\n",
    "            \n",
    "            total_loss = int(result)            \n",
    "            batch_sz = x.shape[0]\n",
    "        acc = total_loss / batch_sz\n",
    "        print(epoch,\"acc:\",acc)\n",
    "        \n",
    "    print(\"Finishing testing\")\n",
    "        \n",
    "test(3)"
   ]
  },
  {
   "cell_type": "code",
   "execution_count": 155,
   "metadata": {},
   "outputs": [
    {
     "name": "stdout",
     "output_type": "stream",
     "text": [
      "tf.Tensor([6 6 6 6 6 6 6 6 6 6], shape=(10,), dtype=int64)\n"
     ]
    }
   ],
   "source": [
    "preds = model.predict(x_test[100:110])\n",
    "preds = tf.argmax(preds, axis=1)\n",
    "print(preds)"
   ]
  },
  {
   "cell_type": "code",
   "execution_count": 163,
   "metadata": {},
   "outputs": [
    {
     "name": "stdout",
     "output_type": "stream",
     "text": [
      "Train on 50000 samples, validate on 10000 samples\n",
      "Epoch 1/3\n",
      "50000/50000 [==============================] - 17s 345us/sample - loss: 2.3026 - accuracy: 0.1000 - val_loss: 2.3026 - val_accuracy: 0.1000\n",
      "Epoch 2/3\n",
      "50000/50000 [==============================] - 15s 306us/sample - loss: 2.3026 - accuracy: 0.1000 - val_loss: 2.3026 - val_accuracy: 0.1000\n",
      "Epoch 3/3\n",
      "50000/50000 [==============================] - 15s 305us/sample - loss: 2.3026 - accuracy: 0.1000 - val_loss: 2.3026 - val_accuracy: 0.1000\n"
     ]
    }
   ],
   "source": [
    "model.compile(loss=loss_func, optimizer=optimizer, metrics=[\"accuracy\"])\n",
    "history = model.fit(x_train,y_train, batch_size=batch_size, epochs=3, verbose=1,validation_data=(x_test,y_test))"
   ]
  },
  {
   "cell_type": "code",
   "execution_count": 164,
   "metadata": {},
   "outputs": [
    {
     "name": "stdout",
     "output_type": "stream",
     "text": [
      "tf.Tensor([0 0 0 0 0 0 0 0 0 0], shape=(10,), dtype=int64)\n"
     ]
    }
   ],
   "source": [
    "preds = model.predict(x_test[100:110])\n",
    "preds = tf.argmax(preds, axis=1)\n",
    "print(preds)"
   ]
  },
  {
   "cell_type": "code",
   "execution_count": 165,
   "metadata": {},
   "outputs": [
    {
     "data": {
      "image/png": "[encoded data removed]",
      "text/plain": [
       "<Figure size 864x216 with 2 Axes>"
      ]
     },
     "metadata": {
      "needs_background": "light"
     },
     "output_type": "display_data"
    }
   ],
   "source": [
    "def visual_train_status(history):\n",
    "        plt.figure(figsize=(12,3))\n",
    "        loss = history.history[\"loss\"]\n",
    "        val_loss = history.history[\"val_loss\"]\n",
    "        epochs = range(1, len(loss)+1)  \n",
    "        plt.subplot(1,2,1)\n",
    "        plt.plot(epochs, loss, \"b--\", label=\"Training Loss\")\n",
    "        plt.plot(epochs, val_loss, \"r--\", label=\"Validation Loss\")\n",
    "        plt.title(\"Training and Validation Loss\")\n",
    "        plt.xlabel(\"Epochs\")\n",
    "        plt.ylabel(\"Loss\")\n",
    "        plt.legend()\n",
    "        \n",
    "        # 顯示訓練和驗證準確度\n",
    "        acc = history.history[\"accuracy\"]\n",
    "        val_acc = history.history[\"val_accuracy\"]\n",
    "        epochs = range(1, len(acc)+1)\n",
    "        plt.subplot(1,2,2)\n",
    "        plt.plot(epochs, acc, \"b-\", label=\"Training Acc\")\n",
    "        plt.plot(epochs, val_acc, \"r--\", label=\"Validation Acc\")\n",
    "        plt.title(\"Training and Validation Accuracy\")\n",
    "        plt.xlabel(\"Epochs\")\n",
    "        plt.ylabel(\"Accuracy\")\n",
    "        plt.legend()\n",
    "        plt.show()\n",
    "        \n",
    "visual_train_status(history)"
   ]
  },
  {
   "cell_type": "code",
   "execution_count": 166,
   "metadata": {},
   "outputs": [
    {
     "data": {
      "text/plain": [
       "dict_keys(['loss', 'accuracy', 'val_loss', 'val_accuracy'])"
      ]
     },
     "execution_count": 166,
     "metadata": {},
     "output_type": "execute_result"
    }
   ],
   "source": [
    "history.history.keys()"
   ]
  },
  {
   "cell_type": "code",
   "execution_count": null,
   "metadata": {},
   "outputs": [],
   "source": []
  }
 ],
 "metadata": {
  "kernelspec": {
   "display_name": "Python 3",
   "language": "python",
   "name": "python3"
  },
  "language_info": {
   "codemirror_mode": {
    "name": "ipython",
    "version": 3
   },
   "file_extension": ".py",
   "mimetype": "text/x-python",
   "name": "python",
   "nbconvert_exporter": "python",
   "pygments_lexer": "ipython3",
   "version": "3.6.12"
  }
 },
 "nbformat": 4,
 "nbformat_minor": 4
}
