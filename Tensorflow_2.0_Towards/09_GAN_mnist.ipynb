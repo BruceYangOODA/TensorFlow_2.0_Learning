{
 "cells": [
  {
   "cell_type": "markdown",
   "metadata": {},
   "source": [
    "### 09_GAN_mnist"
   ]
  },
  {
   "cell_type": "code",
   "execution_count": 1,
   "metadata": {},
   "outputs": [
    {
     "name": "stdout",
     "output_type": "stream",
     "text": [
      "3.6.12 |Anaconda, Inc.| (default, Sep  9 2020, 00:29:25) [MSC v.1916 64 bit (AMD64)]\n",
      "False\n",
      "2.0.0\n"
     ]
    }
   ],
   "source": [
    "import os,sys\n",
    "import numpy as np\n",
    "import pandas as pd\n",
    "import tensorflow as tf\n",
    "import matplotlib.pyplot as plt\n",
    "from tensorflow.keras import datasets,layers,models,optimizers,Sequential,metrics,losses,utils\n",
    "import matplotlib.pyplot as plt\n",
    "from PIL import Image\n",
    "\n",
    "from tensorflow.keras.preprocessing import sequence\n",
    "\n",
    "print(sys.version)\n",
    "print(tf.test.is_gpu_available())\n",
    "print(tf.__version__)"
   ]
  },
  {
   "cell_type": "code",
   "execution_count": 3,
   "metadata": {},
   "outputs": [
    {
     "name": "stdout",
     "output_type": "stream",
     "text": [
      "(60000, 28, 28) (60000,)\n",
      "(10000, 28, 28) (10000,)\n",
      "(6000, 28, 28, 1) (6000,)\n",
      "(6000, 28, 28, 1) (6000,)\n"
     ]
    }
   ],
   "source": [
    "class_names = [\"零\",\"壹\",\"貳\",\"參\",\"肆\",\"伍\",\"陸\",\"柒\",\"捌\",\"玖\"]\n",
    "\n",
    "batch_size = 256\n",
    "inputs_shape = [-1, 28, 28, 1]\n",
    "\n",
    "def data_normalize(train, test, scale=1):\n",
    "    (x_train,y_train) = train\n",
    "    (x_test,y_test) = test\n",
    "    train_nums = x_train.shape[0] // scale\n",
    "    test_nums = x_test.shape[0] // scale\n",
    "    x_train, y_train = x_train[:train_nums], y_train[:train_nums]\n",
    "    x_test, y_test = x_test[:train_nums], y_test[:train_nums]\n",
    "    x_train = x_train.astype(np.float32) / 255.\n",
    "    x_test = x_test.astype(np.float32) / 255.\n",
    "    \n",
    "    x_train = tf.expand_dims(x_train, axis=-1)\n",
    "    x_test = tf.expand_dims(x_test, axis=-1)\n",
    "    #x_train = tf.reshape(x_train, shape=(-1,28*28))\n",
    "    #x_test = tf.reshape(x_test, shape=(-1,28*28))\n",
    "    #y_train = utils.to_categorical(y_train)#.astype(np.int32)\n",
    "    #y_test = utils.to_categorical(y_test)\n",
    "    print(x_train.shape,y_train.shape)\n",
    "    print(x_test.shape,y_test.shape)\n",
    "    \n",
    "    return (x_train,y_train),(x_test,y_test)\n",
    "\n",
    "(x_train,y_train),(x_test,y_test) = datasets.fashion_mnist.load_data()\n",
    "print(x_train.shape,y_train.shape)\n",
    "print(x_test.shape,y_test.shape)\n",
    "(x_train,y_train),(x_test,y_test) = data_normalize((x_train,y_train),(x_test,y_test),scale=10)"
   ]
  },
  {
   "cell_type": "code",
   "execution_count": 12,
   "metadata": {},
   "outputs": [],
   "source": [
    "class Generator(models.Model):\n",
    "    def __init__(self):\n",
    "        super(Generator, self).__init__()\n",
    "        self.n_f = 512\n",
    "        self.n_k = 4\n",
    "        # input z vector is [None, 100]\n",
    "        self.dense1 = layers.Dense(3 * 3 * self.n_f)\n",
    "        self.conv2 = layers.Conv2DTranspose(self.n_f // 2, 3, 2, 'valid')\n",
    "        self.bn2 = layers.BatchNormalization()\n",
    "        self.conv3 = layers.Conv2DTranspose(self.n_f // 4, self.n_k, 2, 'same')\n",
    "        self.bn3 = layers.BatchNormalization()\n",
    "        self.conv4 = layers.Conv2DTranspose(1, self.n_k, 2, 'same')\n",
    "        \n",
    "    def call(self, inputs, training=None):\n",
    "        # [b, 100] => [b, 3, 3, 512]\n",
    "        x = tf.nn.leaky_relu(tf.reshape(self.dense1(inputs), shape=[-1, 3, 3, self.n_f]))\n",
    "        x = tf.nn.leaky_relu(self.bn2(self.conv2(x), training=training))\n",
    "        x = tf.nn.leaky_relu(self.bn3(self.conv3(x), training=training))\n",
    "        x = tf.tanh(self.conv4(x))\n",
    "        return x\n",
    "    \n",
    "class Discriminator(models.Model):\n",
    "    def __init__(self):\n",
    "        super(Discriminator, self).__init__()\n",
    "        self.n_f = 64\n",
    "        self.n_k = 4\n",
    "        # input image is [-1, 28, 28, 1]\n",
    "        self.conv1 = layers.Conv2D(self.n_f, self.n_k, 2, 'same')\n",
    "        self.conv2 = layers.Conv2D(self.n_f * 2, self.n_k, 2, 'same')\n",
    "        self.bn2 = layers.BatchNormalization()\n",
    "        self.conv3 = layers.Conv2D(self.n_f * 4, self.n_k, 2, 'same')\n",
    "        self.bn3 = layers.BatchNormalization()\n",
    "        self.flatten4 = layers.Flatten()\n",
    "        self.dense4 = layers.Dense(1)        \n",
    "\n",
    "    def call(self, inputs, training=None):\n",
    "        x = tf.nn.leaky_relu(self.conv1(inputs))\n",
    "        x = tf.nn.leaky_relu(self.bn2(self.conv2(x), training=training))\n",
    "        x = tf.nn.leaky_relu(self.bn3(self.conv3(x), training=training))\n",
    "        x = self.dense4(self.flatten4(x))\n",
    "        return x\n",
    "    \n",
    "\n",
    "g_model = Generator()\n",
    "d_model = Discriminator()"
   ]
  },
  {
   "cell_type": "code",
   "execution_count": 13,
   "metadata": {},
   "outputs": [
    {
     "data": {
      "image/png": "[encoded data removed]",
      "text/plain": [
       "<Figure size 432x288 with 1 Axes>"
      ]
     },
     "metadata": {
      "needs_background": "light"
     },
     "output_type": "display_data"
    }
   ],
   "source": [
    "noise = tf.random.normal([1, 100])\n",
    "generated_image = g_model(noise, training=False)\n",
    "\n",
    "plt.imshow(generated_image[0, :, :, 0], cmap='gray')\n",
    "plt.show()"
   ]
  },
  {
   "cell_type": "code",
   "execution_count": 14,
   "metadata": {},
   "outputs": [
    {
     "name": "stdout",
     "output_type": "stream",
     "text": [
      "tf.Tensor([[0.0002087]], shape=(1, 1), dtype=float32)\n"
     ]
    }
   ],
   "source": [
    "decision = d_model(generated_image)\n",
    "print (decision)"
   ]
  },
  {
   "cell_type": "code",
   "execution_count": 15,
   "metadata": {},
   "outputs": [
    {
     "name": "stdout",
     "output_type": "stream",
     "text": [
      "Model: \"generator_4\"\n",
      "_________________________________________________________________\n",
      "Layer (type)                 Output Shape              Param #   \n",
      "=================================================================\n",
      "dense_8 (Dense)              multiple                  235008    \n",
      "_________________________________________________________________\n",
      "conv2d_transpose_12 (Conv2DT multiple                  1179904   \n",
      "_________________________________________________________________\n",
      "batch_normalization_16 (Batc multiple                  1024      \n",
      "_________________________________________________________________\n",
      "conv2d_transpose_13 (Conv2DT multiple                  524416    \n",
      "_________________________________________________________________\n",
      "batch_normalization_17 (Batc multiple                  512       \n",
      "_________________________________________________________________\n",
      "conv2d_transpose_14 (Conv2DT multiple                  2049      \n",
      "=================================================================\n",
      "Total params: 1,942,913\n",
      "Trainable params: 1,942,145\n",
      "Non-trainable params: 768\n",
      "_________________________________________________________________\n",
      "Model: \"discriminator_4\"\n",
      "_________________________________________________________________\n",
      "Layer (type)                 Output Shape              Param #   \n",
      "=================================================================\n",
      "conv2d_12 (Conv2D)           multiple                  1088      \n",
      "_________________________________________________________________\n",
      "conv2d_13 (Conv2D)           multiple                  131200    \n",
      "_________________________________________________________________\n",
      "batch_normalization_18 (Batc multiple                  512       \n",
      "_________________________________________________________________\n",
      "conv2d_14 (Conv2D)           multiple                  524544    \n",
      "_________________________________________________________________\n",
      "batch_normalization_19 (Batc multiple                  1024      \n",
      "_________________________________________________________________\n",
      "flatten_4 (Flatten)          multiple                  0         \n",
      "_________________________________________________________________\n",
      "dense_9 (Dense)              multiple                  4097      \n",
      "=================================================================\n",
      "Total params: 662,465\n",
      "Trainable params: 661,697\n",
      "Non-trainable params: 768\n",
      "_________________________________________________________________\n"
     ]
    }
   ],
   "source": [
    "z_dim = 50\n",
    "epochs = 10\n",
    "batch_size = 128\n",
    "learning_rate = 0.001\n",
    "is_training = True\n",
    "\n",
    "generator = Generator()\n",
    "generator.build(input_shape=(batch_size, z_dim))\n",
    "generator.summary()\n",
    "discriminator = Discriminator()\n",
    "discriminator.build(input_shape=(batch_size, 28, 28, 1))\n",
    "discriminator.summary()\n",
    "\n",
    "# prepare optimizer\n",
    "d_optimizer = optimizers.Adam(learning_rate=learning_rate, beta_1=0.5)\n",
    "g_optimizer = optimizers.Adam(learning_rate=learning_rate, beta_1=0.5)"
   ]
  },
  {
   "cell_type": "code",
   "execution_count": 19,
   "metadata": {},
   "outputs": [],
   "source": [
    "def loss_real(logits):\n",
    "    return tf.reduce_mean(tf.nn.sigmoid_cross_entropy_with_logits(logits=logits,\n",
    "                                                                  labels=tf.ones_like(logits)))\n",
    "\n",
    "def loss_fake(logits):\n",
    "    return tf.reduce_mean(tf.nn.sigmoid_cross_entropy_with_logits(logits=logits,\n",
    "                                                                  labels=tf.zeros_like(logits)))\n",
    "\n",
    "def dis_loss(generator, discriminator, input_noise, real_image, is_trainig):\n",
    "    fake_image = generator(input_noise, is_trainig)\n",
    "    d_real_logits = discriminator(real_image, is_trainig)\n",
    "    d_fake_logits = discriminator(fake_image, is_trainig)\n",
    "\n",
    "    d_loss_real = loss_real(d_real_logits)\n",
    "    d_loss_fake = loss_fake(d_fake_logits)\n",
    "    loss = d_loss_real + d_loss_fake\n",
    "    return loss\n",
    "\n",
    "def gen_loss(generator, discriminator, input_noise, is_trainig):\n",
    "    fake_image = generator(input_noise, is_trainig)\n",
    "    fake_loss = discriminator(fake_image, is_trainig)\n",
    "    loss = loss_real(fake_loss)\n",
    "    return loss"
   ]
  },
  {
   "cell_type": "code",
   "execution_count": 20,
   "metadata": {},
   "outputs": [
    {
     "name": "stdout",
     "output_type": "stream",
     "text": [
      "0 d loss: 1.4964191913604736 g loss: 7.191082954406738\n",
      "1 d loss: 10.478962898254395 g loss: 9.239917755126953\n",
      "2 d loss: 1.0888245105743408 g loss: 15.87679386138916\n"
     ]
    }
   ],
   "source": [
    "train_data = tf.data.Dataset.from_tensor_slices(x_train).shuffle(batch_size*4).batch(batch_size).repeat()\n",
    "train_data_iter = iter(train_data)\n",
    "\n",
    "epochs = 3\n",
    "for epoch in range(epochs):\n",
    "\n",
    "    batch_x = next(train_data_iter)\n",
    "    batch_x = tf.reshape(batch_x, shape=inputs_shape)\n",
    "    batch_x = batch_x * 2.0 - 1.0\n",
    "    batch_z = tf.random.normal(shape=[batch_size, z_dim])\n",
    "\n",
    "    with tf.GradientTape() as tape:\n",
    "        d_loss = dis_loss(generator, discriminator, batch_z, batch_x, is_training)\n",
    "    grads = tape.gradient(d_loss, discriminator.trainable_variables)\n",
    "    d_optimizer.apply_gradients(zip(grads, discriminator.trainable_variables))\n",
    "\n",
    "    with tf.GradientTape() as tape:\n",
    "        g_loss = gen_loss(generator, discriminator, batch_z, is_training)\n",
    "    grads = tape.gradient(g_loss, generator.trainable_variables)\n",
    "    g_optimizer.apply_gradients(zip(grads, generator.trainable_variables))\n",
    "\n",
    "    if (epoch+1) % 1 == 0:\n",
    "        print(epoch, 'd loss:', float(d_loss), 'g loss:', float(g_loss))"
   ]
  },
  {
   "cell_type": "code",
   "execution_count": 21,
   "metadata": {},
   "outputs": [
    {
     "data": {
      "text/plain": [
       "<matplotlib.image.AxesImage at 0x2882a957860>"
      ]
     },
     "execution_count": 21,
     "metadata": {},
     "output_type": "execute_result"
    },
    {
     "data": {
      "image/png": "[encoded data removed]",
      "text/plain": [
       "<Figure size 432x288 with 1 Axes>"
      ]
     },
     "metadata": {
      "needs_background": "light"
     },
     "output_type": "display_data"
    }
   ],
   "source": [
    "noise = tf.random.normal([1, 50])\n",
    "generated_image = generator(noise, training=False)\n",
    "\n",
    "plt.imshow(generated_image[0, :, :, 0], cmap='gray')"
   ]
  },
  {
   "cell_type": "code",
   "execution_count": null,
   "metadata": {},
   "outputs": [],
   "source": []
  }
 ],
 "metadata": {
  "kernelspec": {
   "display_name": "Python 3",
   "language": "python",
   "name": "python3"
  },
  "language_info": {
   "codemirror_mode": {
    "name": "ipython",
    "version": 3
   },
   "file_extension": ".py",
   "mimetype": "text/x-python",
   "name": "python",
   "nbconvert_exporter": "python",
   "pygments_lexer": "ipython3",
   "version": "3.6.12"
  }
 },
 "nbformat": 4,
 "nbformat_minor": 4
}
